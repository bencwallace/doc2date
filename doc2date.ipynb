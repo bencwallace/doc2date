{
 "cells": [
  {
   "cell_type": "markdown",
   "metadata": {},
   "source": [
    "# Text Dating: A Study in Document Regression"
   ]
  },
  {
   "cell_type": "markdown",
   "metadata": {},
   "source": [
    "[Document classification](https://en.wikipedia.org/wiki/Document_classification) is a common application of machine learning techniques. Examples include [sentiment analysis](https://en.wikipedia.org/wiki/Sentiment_analysis), the classification of texts into a (typically small) number of moods (such as \"positive\" and \"negative\"); as well as authorship attribution in [stylometry](https://en.wikipedia.org/wiki/Stylometry), in which texts are grouped according to their original author.\n",
    "\n",
    "Unsupersived learning methods have also been applied to the analysis of documents. For instance, [doc2vec](https://arxiv.org/pdf/1405.4053v2.pdf) is a dimensionality reduction technique that extends [word embeddings] to documents.\n",
    "\n",
    "But what about document *regression*? In this notebook, we investigate the problem of learning the date of a publication from the text contained therein. Since the target space, a range of years, can be viewed as a continuum, this problem presents a natural test case for applying regression techniques to document analysis."
   ]
  },
  {
   "cell_type": "code",
   "execution_count": 1,
   "metadata": {},
   "outputs": [],
   "source": [
    "import re\n",
    "import os\n",
    "import string\n",
    "\n",
    "import matplotlib.pyplot as plt\n",
    "import numpy as np\n",
    "import pandas as pd"
   ]
  },
  {
   "cell_type": "markdown",
   "metadata": {},
   "source": [
    "## The Gutenberg dataset"
   ]
  },
  {
   "cell_type": "markdown",
   "metadata": {},
   "source": [
    "We will make use of the (updated) [Gutenberg dataset](https://web.eecs.umich.edu/~lahiri/gutenberg_dataset.html), which consists of complete texts from over 3000 public domain books.\n",
    "\n",
    "Unfortunately, the documents have already been stripped of metadata, including the year of publication. We attempt to resolve this issue by supposing that the first four-digit number appearing in each document (if any) is the date of publication.\n",
    "\n",
    "The following loads texts for which a potential year of publication can be found into a dataframe. The texts are lowercased, stripped of all content up to and including the year (presumably front matter), and (most importantly) stripped of the author's last name."
   ]
  },
  {
   "cell_type": "code",
   "execution_count": 448,
   "metadata": {},
   "outputs": [
    {
     "name": "stdout",
     "output_type": "stream",
     "text": [
      "CPU times: user 23.4 s, sys: 3.13 s, total: 26.5 s\n",
      "Wall time: 44.5 s\n"
     ]
    }
   ],
   "source": [
    "%%time\n",
    "text_dir = 'data/texts'\n",
    "current_year = 2020\n",
    "\n",
    "files = [file for file in os.listdir(text_dir) if '___' in file]\n",
    "\n",
    "entries = []\n",
    "for file in files:\n",
    "    # author and title are embedded in the file name\n",
    "    author, title = file.split('___')\n",
    "    title = title.split('.txt')[0]\n",
    "    \n",
    "    with open(os.path.join(text_dir, file)) as f:\n",
    "        text = f.read().lower()\n",
    "        \n",
    "        # search for the first occurence of a 4-digit number\n",
    "        match = re.search('\\d\\d\\d\\d', text)\n",
    "        \n",
    "        if match:\n",
    "            i = match.start()\n",
    "            year = int(text[i:i+4])\n",
    "            \n",
    "            # remove front matter and author name\n",
    "            text = text[i+5:].lower()\n",
    "            text = re.sub(author.split()[-1].lower(), '', text)\n",
    "            \n",
    "            # filter out impossible years\n",
    "            if year <= current_year:\n",
    "                entries.append((author, title, year, text))\n",
    "\n",
    "docs = pd.DataFrame(entries, columns=['author', 'title', 'year', 'text'])"
   ]
  },
  {
   "cell_type": "markdown",
   "metadata": {},
   "source": [
    "### A first look at the data"
   ]
  },
  {
   "cell_type": "markdown",
   "metadata": {},
   "source": [
    "The `docs` dataframe contains author, title, (estimated) year of publication, and full text."
   ]
  },
  {
   "cell_type": "code",
   "execution_count": 3,
   "metadata": {},
   "outputs": [
    {
     "data": {
      "text/html": [
       "<div>\n",
       "<style scoped>\n",
       "    .dataframe tbody tr th:only-of-type {\n",
       "        vertical-align: middle;\n",
       "    }\n",
       "\n",
       "    .dataframe tbody tr th {\n",
       "        vertical-align: top;\n",
       "    }\n",
       "\n",
       "    .dataframe thead th {\n",
       "        text-align: right;\n",
       "    }\n",
       "</style>\n",
       "<table border=\"1\" class=\"dataframe\">\n",
       "  <thead>\n",
       "    <tr style=\"text-align: right;\">\n",
       "      <th></th>\n",
       "      <th>author</th>\n",
       "      <th>title</th>\n",
       "      <th>year</th>\n",
       "      <th>text</th>\n",
       "    </tr>\n",
       "  </thead>\n",
       "  <tbody>\n",
       "    <tr>\n",
       "      <th>0</th>\n",
       "      <td>Charles Kingsley</td>\n",
       "      <td>The Heroes</td>\n",
       "      <td>1889</td>\n",
       "      <td>\\n                  _the right of translation ...</td>\n",
       "    </tr>\n",
       "    <tr>\n",
       "      <th>1</th>\n",
       "      <td>Oscar Wilde</td>\n",
       "      <td>Poems</td>\n",
       "      <td>1896</td>\n",
       "      <td>\\n\\ni\\n\\nhe did not wear his scarlet coat,\\nfo...</td>\n",
       "    </tr>\n",
       "    <tr>\n",
       "      <th>2</th>\n",
       "      <td>Robert Louis Stevenson</td>\n",
       "      <td>The Works of Robert Louis Stevenson - Swanston...</td>\n",
       "      <td>1813</td>\n",
       "      <td>that i was so unlucky as to fall at last\\ninto...</td>\n",
       "    </tr>\n",
       "    <tr>\n",
       "      <th>3</th>\n",
       "      <td>Louisa May Alcott</td>\n",
       "      <td>On Picket Duty and Other Tales</td>\n",
       "      <td>1864</td>\n",
       "      <td>\\n\\n\\n\\non picket duty.\\n\\n\\n_what_ air you th...</td>\n",
       "    </tr>\n",
       "    <tr>\n",
       "      <th>4</th>\n",
       "      <td>Herman Melville</td>\n",
       "      <td>Israel Potter</td>\n",
       "      <td>1855</td>\n",
       "      <td>\\n\\n\\n\\ndedication\\n\\nto his highness the bunk...</td>\n",
       "    </tr>\n",
       "  </tbody>\n",
       "</table>\n",
       "</div>"
      ],
      "text/plain": [
       "                   author                                              title  \\\n",
       "0        Charles Kingsley                                         The Heroes   \n",
       "1             Oscar Wilde                                              Poems   \n",
       "2  Robert Louis Stevenson  The Works of Robert Louis Stevenson - Swanston...   \n",
       "3       Louisa May Alcott                     On Picket Duty and Other Tales   \n",
       "4         Herman Melville                                      Israel Potter   \n",
       "\n",
       "   year                                               text  \n",
       "0  1889  \\n                  _the right of translation ...  \n",
       "1  1896  \\n\\ni\\n\\nhe did not wear his scarlet coat,\\nfo...  \n",
       "2  1813  that i was so unlucky as to fall at last\\ninto...  \n",
       "3  1864  \\n\\n\\n\\non picket duty.\\n\\n\\n_what_ air you th...  \n",
       "4  1855  \\n\\n\\n\\ndedication\\n\\nto his highness the bunk...  "
      ]
     },
     "execution_count": 3,
     "metadata": {},
     "output_type": "execute_result"
    }
   ],
   "source": [
    "docs.head()"
   ]
  },
  {
   "cell_type": "markdown",
   "metadata": {},
   "source": [
    "The texts will need to be cleaned, but before we do that let's examine the year distribution. The plot below suggests an exponentially growing publication count throughout the years. This is actually quite reassuring in regards to our method for guessing publication date. However, this imbalance may be problematic later in our analysis and should be taken into account."
   ]
  },
  {
   "cell_type": "markdown",
   "metadata": {},
   "source": [
    "The sudden decrease in the number of publications in more recent years is likely explained by copyright law. The table shows the decrease beginning in the 1920s."
   ]
  },
  {
   "cell_type": "code",
   "execution_count": 25,
   "metadata": {},
   "outputs": [
    {
     "data": {
      "text/plain": [
       "year\n",
       "1914    38\n",
       "1915    41\n",
       "1916    40\n",
       "1917    24\n",
       "1918    26\n",
       "1919    29\n",
       "1920    30\n",
       "1921    26\n",
       "1922    26\n",
       "1923     3\n",
       "1924     2\n",
       "1925     1\n",
       "1927     1\n",
       "1930     2\n",
       "1932     1\n",
       "1944     1\n",
       "1947     1\n",
       "1950     1\n",
       "1956     1\n",
       "1960     1\n",
       "1966     2\n",
       "1967     1\n",
       "1970     1\n",
       "1972     1\n",
       "1976     2\n",
       "1980     1\n",
       "1988     1\n",
       "1991     2\n",
       "2000    16\n",
       "2006     1\n",
       "dtype: int64"
      ]
     },
     "execution_count": 25,
     "metadata": {},
     "output_type": "execute_result"
    }
   ],
   "source": [
    "docs.groupby('year').size().tail(30)"
   ]
  },
  {
   "cell_type": "markdown",
   "metadata": {},
   "source": [
    "The beginning of the histogram also contains an apparent anomaly, with a spike in publication count in the 11th century. As the table below shows, this is likely due to the disproportionate likelihood of the number 1000 appearing in a text."
   ]
  },
  {
   "cell_type": "code",
   "execution_count": 28,
   "metadata": {},
   "outputs": [
    {
     "data": {
      "text/plain": [
       "year\n",
       "1000    10\n",
       "1001     3\n",
       "1002     1\n",
       "1007     2\n",
       "1035     2\n",
       "1050     2\n",
       "1066     2\n",
       "1090     1\n",
       "1092     1\n",
       "1099     2\n",
       "dtype: int64"
      ]
     },
     "execution_count": 28,
     "metadata": {},
     "output_type": "execute_result"
    }
   ],
   "source": [
    "docs.groupby('year').size().head(10)"
   ]
  },
  {
   "cell_type": "markdown",
   "metadata": {},
   "source": [
    "We'll filter out this anomaly as well as the smaller number of publications after 1922."
   ]
  },
  {
   "cell_type": "code",
   "execution_count": 205,
   "metadata": {},
   "outputs": [],
   "source": [
    "docs = docs[(docs['year'] > 1000) & (docs['year'] < 1923)]"
   ]
  },
  {
   "cell_type": "markdown",
   "metadata": {},
   "source": [
    "We still have some outliers to account for, as indicated in the box plot below."
   ]
  },
  {
   "cell_type": "code",
   "execution_count": 206,
   "metadata": {},
   "outputs": [
    {
     "data": {
      "image/png": "[encoded data removed]",
      "text/plain": [
       "<Figure size 432x288 with 1 Axes>"
      ]
     },
     "metadata": {
      "needs_background": "light"
     },
     "output_type": "display_data"
    }
   ],
   "source": [
    "bp_data = docs.boxplot('year', return_type='dict')"
   ]
  },
  {
   "cell_type": "markdown",
   "metadata": {},
   "source": [
    "We'll restrict our attention to the range of years between the min and max whiskers."
   ]
  },
  {
   "cell_type": "code",
   "execution_count": 207,
   "metadata": {},
   "outputs": [
    {
     "data": {
      "text/plain": [
       "(1738, 1922)"
      ]
     },
     "execution_count": 207,
     "metadata": {},
     "output_type": "execute_result"
    }
   ],
   "source": [
    "whisker_data = [whisker.get_ydata() for whisker in bp_data['whiskers']]\n",
    "start = int(whisker_data[0][1])\n",
    "stop = int(whisker_data[1][1])\n",
    "start, stop"
   ]
  },
  {
   "cell_type": "code",
   "execution_count": 208,
   "metadata": {},
   "outputs": [],
   "source": [
    "docs = docs[(docs['year'] > start) & (docs['year'] < stop)]"
   ]
  },
  {
   "cell_type": "markdown",
   "metadata": {},
   "source": [
    "Within our selected range, the growth in the number of publications is much more regular."
   ]
  },
  {
   "cell_type": "code",
   "execution_count": 242,
   "metadata": {},
   "outputs": [
    {
     "data": {
      "image/png": "[encoded data removed]",
      "text/plain": [
       "<Figure size 432x288 with 1 Axes>"
      ]
     },
     "metadata": {
      "needs_background": "light"
     },
     "output_type": "display_data"
    }
   ],
   "source": [
    "_ = docs.hist('year')"
   ]
  },
  {
   "cell_type": "markdown",
   "metadata": {},
   "source": [
    "### Cleaning the data\n",
    "\n",
    "Our main goal is to see if we can infer publication date from the words contained in a text. However, we might also conjecture that certain non-word features, such as punctuation density, may have some weight on our regression strategy.\n",
    "\n",
    "The following first saves various punctuation statistics into a new dataframe and then cleans the texts, leaving only letters and white space."
   ]
  },
  {
   "cell_type": "code",
   "execution_count": 209,
   "metadata": {},
   "outputs": [],
   "source": [
    "features = pd.DataFrame()\n",
    "features['year'] = docs['year']\n",
    "features['length'] = docs['text'].apply(len)\n",
    "features['words'] = docs['text'].apply(lambda text: len(text.split()))\n",
    "features['commas'] = docs['text'].apply(lambda text: len(text.split(',')))\n",
    "features['sentences'] = docs['text'].apply(lambda text: len(text.split('.')))"
   ]
  },
  {
   "cell_type": "code",
   "execution_count": 199,
   "metadata": {},
   "outputs": [
    {
     "name": "stdout",
     "output_type": "stream",
     "text": [
      "CPU times: user 41.4 s, sys: 1.79 s, total: 43.2 s\n",
      "Wall time: 43.6 s\n"
     ]
    }
   ],
   "source": [
    "%%time\n",
    "table = str.maketrans(\"\",\"\", string.punctuation)\n",
    "def clean(text):\n",
    "    text = re.sub(r'[^a-z\\s]', '', text)\n",
    "    return ' '.join(text.split())\n",
    "\n",
    "docs['text'] = docs['text'].map(clean)"
   ]
  },
  {
   "cell_type": "markdown",
   "metadata": {},
   "source": [
    "The process of cleaning the texts has left us with some empty texts, which we remove."
   ]
  },
  {
   "cell_type": "code",
   "execution_count": 5,
   "metadata": {},
   "outputs": [
    {
     "data": {
      "text/plain": [
       "2118    0\n",
       "1495    0\n",
       "891     0\n",
       "1701    0\n",
       "209     0\n",
       "Name: text, dtype: int64"
      ]
     },
     "execution_count": 5,
     "metadata": {},
     "output_type": "execute_result"
    }
   ],
   "source": [
    "docs['text'].map(len).sort_values().head()"
   ]
  },
  {
   "cell_type": "code",
   "execution_count": 200,
   "metadata": {},
   "outputs": [],
   "source": [
    "docs = docs[docs['text'].map(len) > 0]"
   ]
  },
  {
   "cell_type": "markdown",
   "metadata": {},
   "source": [
    "Here's an example of a cleaned text segment."
   ]
  },
  {
   "cell_type": "code",
   "execution_count": 201,
   "metadata": {},
   "outputs": [
    {
     "data": {
      "text/plain": [
       "'the right of translation if reserved printed by r r clark edinburgh to my children rose maurice and '"
      ]
     },
     "execution_count": 201,
     "metadata": {},
     "output_type": "execute_result"
    }
   ],
   "source": [
    "docs.iloc[0]['text'][:100]"
   ]
  },
  {
   "cell_type": "markdown",
   "metadata": {},
   "source": [
    "As we can see, we still have some front matter as well as named entities, which could potentially be used to date the document."
   ]
  },
  {
   "cell_type": "markdown",
   "metadata": {},
   "source": [
    "### Generating text segments"
   ]
  },
  {
   "cell_type": "markdown",
   "metadata": {},
   "source": [
    "We presently have on training example per document. However, different documents may have greatly differing lengths. The various features in our dataset may be normalized by the document length, however we may have further issues if working with methods that require fixed length inputs.\n",
    "\n",
    "Below, we split each document into a number of text segments taken therefrom. This not only averts any of the potential issues mentioned above, but also artificially generates additional training data."
   ]
  },
  {
   "cell_type": "code",
   "execution_count": 23,
   "metadata": {},
   "outputs": [],
   "source": [
    "def split_text(text, seg_length=10_000):\n",
    "    words = text.split()\n",
    "    return [' '.join(words[i:i+seg_length]) for i in range(0, len(words) // seg_length)]\n",
    "\n",
    "segments = pd.DataFrame(docs[['year', 'text']])\n",
    "segments['text'] = segments['text'].map(split_text)\n",
    "segments = segments.explode('text').dropna()"
   ]
  },
  {
   "cell_type": "markdown",
   "metadata": {},
   "source": [
    "## Coarse feature analysis"
   ]
  },
  {
   "cell_type": "markdown",
   "metadata": {},
   "source": [
    "Let's see if we can infer anything from the `features` dataframe we constructed earlier. We'll look at the average sentence length, average number of colons, and average number of semicolons in a text."
   ]
  },
  {
   "cell_type": "code",
   "execution_count": 215,
   "metadata": {},
   "outputs": [],
   "source": [
    "features['avg word length'] = features['length'] / features['words']\n",
    "features['avg sentence length'] = features['words'] / features['sentences']\n",
    "features['avg commas'] = features['commas'] / features['words']"
   ]
  },
  {
   "cell_type": "code",
   "execution_count": 214,
   "metadata": {},
   "outputs": [
    {
     "data": {
      "image/png": "[encoded data removed]",
      "text/plain": [
       "<Figure size 720x720 with 3 Axes>"
      ]
     },
     "metadata": {
      "needs_background": "light"
     },
     "output_type": "display_data"
    }
   ],
   "source": [
    "_, axs = plt.subplots(3, figsize=(10, 10))\n",
    "features.plot.scatter(x='year', y='avg word length', ax=axs[0])\n",
    "features.plot.scatter(x='year', y='avg sentence length', ax=axs[1])\n",
    "_ = features.plot.scatter(x='year', y='avg commas', ax=axs[2])"
   ]
  },
  {
   "cell_type": "markdown",
   "metadata": {},
   "source": [
    "These features don't appear to have terribly much predictive power. However, they are somewhat informative: they indicate potential [heteroscedasticity](https://en.wikipedia.org/wiki/Heteroscedasticity) in the data. This means that the variability of the data is correlated to the data itself. The gradual \"spread\" in time in the above scatter plots is a hallmark of heteroscedasticity. Since the spread is quite slight, it may not actually be an issue."
   ]
  },
  {
   "cell_type": "markdown",
   "metadata": {},
   "source": [
    "## Bag-of-words representation"
   ]
  },
  {
   "cell_type": "markdown",
   "metadata": {},
   "source": [
    "A more refined analysis can be obtained by using word frequencies as features. This can be done using a [bag-of-words model](https://en.wikipedia.org/wiki/Bag-of-words_model), in which a text is represented as a vector whose components components correspond to words in a vocabulary. The values of a component is a measure of the frequency of that word in the document.\n",
    "\n",
    "Simply counting the number of occurences of a word is often a poor measure of frequency, as it may merely be indicative of text size (however, it is sensible in some situations, such as when performing classification with multinomial [naive Bayes](https://en.wikipedia.org/wiki/Naive_Bayes_classifier)). A better solution would be to scale by the total number of words in a text.\n",
    "\n",
    "An even more sophisticated approach is to look at the frequency of a word in a text in comparison to its frequency  in a corpus of texts. This is accomplished by the [tf-idf](https://en.wikipedia.org/wiki/Tf%E2%80%93idf), or term frequency-inverse document frequency.\n",
    "\n",
    "Below we use a tf-idf vectorizer with a minimum document frequency of 0.2 to filter out very uncommon words (e.g. typos). Note that we don't remove stop words, which are known to be useful in stylometry."
   ]
  },
  {
   "cell_type": "code",
   "execution_count": 438,
   "metadata": {},
   "outputs": [
    {
     "name": "stdout",
     "output_type": "stream",
     "text": [
      "CPU times: user 2min 3s, sys: 11.8 s, total: 2min 15s\n",
      "Wall time: 2min 20s\n"
     ]
    }
   ],
   "source": [
    "%%time\n",
    "from sklearn.feature_extraction.text import TfidfVectorizer\n",
    "vectorizer = TfidfVectorizer(min_df=0.2)\n",
    "X = vectorizer.fit_transform(segments['text'])"
   ]
  },
  {
   "cell_type": "markdown",
   "metadata": {},
   "source": [
    "The resulting matrix `X` contains one row per text segment and each row has length equal to the vocabulary fit by the vectorizer (which results from our choice of `min_df`). Each row will act as an input variable."
   ]
  },
  {
   "cell_type": "code",
   "execution_count": 392,
   "metadata": {},
   "outputs": [
    {
     "name": "stdout",
     "output_type": "stream",
     "text": [
      "Number of segments: 14005\n",
      "Vocabulary size: 2596\n"
     ]
    }
   ],
   "source": [
    "print('Number of segments: {}\\nVocabulary size: {}'.format(X.shape[0], X.shape[1]))"
   ]
  },
  {
   "cell_type": "markdown",
   "metadata": {},
   "source": [
    "Note that `X` has type `csr_matrix`."
   ]
  },
  {
   "cell_type": "code",
   "execution_count": 393,
   "metadata": {},
   "outputs": [
    {
     "data": {
      "text/plain": [
       "scipy.sparse.csr.csr_matrix"
      ]
     },
     "execution_count": 393,
     "metadata": {},
     "output_type": "execute_result"
    }
   ],
   "source": [
    "type(X)"
   ]
  },
  {
   "cell_type": "markdown",
   "metadata": {},
   "source": [
    "This is because bag-of-words vectors are typically sparse: they will contain many 0 entries corresponding to absences of vocabulary words in a text. The `size` attribute of a `csr_matrix` indicates the number of non-zero values it contains, so we can compute the sparsity of `X` as follows."
   ]
  },
  {
   "cell_type": "code",
   "execution_count": 394,
   "metadata": {},
   "outputs": [
    {
     "data": {
      "text/plain": [
       "0.5587712730815375"
      ]
     },
     "execution_count": 394,
     "metadata": {},
     "output_type": "execute_result"
    }
   ],
   "source": [
    "1 - X.size / X.todense().size"
   ]
  },
  {
   "cell_type": "markdown",
   "metadata": {},
   "source": [
    "Actually, this isn't terribly sparse and it's probably due to the fact that our text segments are rather long.\n",
    "\n",
    "In any case, we're going to shift and scale the rows of `X` to have zero mean and unit variance in order to improve convergence time of our learning algorithms. Since this eliminates sparsity, we have to convert `X` to a dense matrix."
   ]
  },
  {
   "cell_type": "code",
   "execution_count": 442,
   "metadata": {},
   "outputs": [],
   "source": [
    "from sklearn.preprocessing import StandardScaler\n",
    "\n",
    "sc = StandardScaler()\n",
    "X = sc.fit_transform(X.todense())"
   ]
  },
  {
   "cell_type": "markdown",
   "metadata": {},
   "source": [
    "Next, we construct the target variables `y` from the corresponding publication dates and split `(X, y)` into training and test sets."
   ]
  },
  {
   "cell_type": "code",
   "execution_count": 396,
   "metadata": {},
   "outputs": [],
   "source": [
    "y = segments['year']\n",
    "\n",
    "X_train, X_test, y_train, y_test = train_test_split(X, y, test_size=0.2)"
   ]
  },
  {
   "cell_type": "markdown",
   "metadata": {},
   "source": [
    "### Visualization with PCA"
   ]
  },
  {
   "cell_type": "code",
   "execution_count": 542,
   "metadata": {},
   "outputs": [],
   "source": [
    "from sklearn.decomposition import PCA\n",
    "\n",
    "pca = PCA(n_components=2)\n",
    "components = pca.fit_transform(X_split.todense())"
   ]
  },
  {
   "cell_type": "code",
   "execution_count": 543,
   "metadata": {},
   "outputs": [],
   "source": [
    "c1 = components[split['year'] < q1]\n",
    "c2 = components[split['year'] > q3]"
   ]
  },
  {
   "cell_type": "code",
   "execution_count": 545,
   "metadata": {},
   "outputs": [
    {
     "data": {
      "text/plain": [
       "<matplotlib.collections.PathCollection at 0x7f74f1567e50>"
      ]
     },
     "execution_count": 545,
     "metadata": {},
     "output_type": "execute_result"
    },
    {
     "data": {
      "image/png": "[encoded data removed]",
      "text/plain": [
       "<Figure size 432x288 with 1 Axes>"
      ]
     },
     "metadata": {
      "needs_background": "light"
     },
     "output_type": "display_data"
    }
   ],
   "source": [
    "plt.scatter(c1[:, 0], c1[:, 1], c='r')\n",
    "plt.scatter(c2[:, 0], c2[:, 1], c='g')"
   ]
  },
  {
   "cell_type": "markdown",
   "metadata": {},
   "source": [
    "## Ordinary least squares"
   ]
  },
  {
   "cell_type": "markdown",
   "metadata": {},
   "source": [
    "We begin by applying simple linear regression to our bag-of-words vectors. We'll split our data into training and test sets in order to evaluate our model."
   ]
  },
  {
   "cell_type": "code",
   "execution_count": 348,
   "metadata": {},
   "outputs": [],
   "source": [
    "from sklearn.linear_model import LinearRegression\n",
    "from sklearn.model_selection import train_test_split"
   ]
  },
  {
   "cell_type": "code",
   "execution_count": 349,
   "metadata": {},
   "outputs": [
    {
     "name": "stdout",
     "output_type": "stream",
     "text": [
      "CPU times: user 26.5 s, sys: 253 ms, total: 26.7 s\n",
      "Wall time: 13.7 s\n"
     ]
    },
    {
     "data": {
      "text/plain": [
       "0.8993817653134695"
      ]
     },
     "execution_count": 349,
     "metadata": {},
     "output_type": "execute_result"
    }
   ],
   "source": [
    "%%time\n",
    "linreg = LinearRegression()\n",
    "linreg.fit(X_train, y_train)\n",
    "linreg.score(X_test, y_test)"
   ]
  },
  {
   "cell_type": "markdown",
   "metadata": {},
   "source": [
    "This is pretty good for such a simple model. However note that the training score is a bit higher."
   ]
  },
  {
   "cell_type": "code",
   "execution_count": 343,
   "metadata": {},
   "outputs": [
    {
     "data": {
      "text/plain": [
       "0.9999999654835877"
      ]
     },
     "execution_count": 343,
     "metadata": {},
     "output_type": "execute_result"
    }
   ],
   "source": [
    "linreg.score(X_train, y_train)"
   ]
  },
  {
   "cell_type": "markdown",
   "metadata": {},
   "source": [
    "We're overfitting, which isn't surprising since we haven't used any form of regularization or cross-validation.\n",
    "\n",
    "Before addressing that, let's take a more detailed look at the model we've built. The $R^2$ score above is a rather crude metric. We can visualize the precise errors with a scatter plot."
   ]
  },
  {
   "cell_type": "code",
   "execution_count": 457,
   "metadata": {},
   "outputs": [
    {
     "data": {
      "image/png": "[encoded data removed]",
      "text/plain": [
       "<Figure size 432x288 with 1 Axes>"
      ]
     },
     "metadata": {
      "needs_background": "light"
     },
     "output_type": "display_data"
    }
   ],
   "source": [
    "_ = plt.scatter(linreg.predict(X_test), y_test)"
   ]
  },
  {
   "cell_type": "markdown",
   "metadata": {},
   "source": [
    "A perfect model would have all the points on the line $y = x$. Above, we see that, while our model appears to be correct *on average*, it makes quite a lot of mistakes: in fact, the spread of estimated years for a given true year appears to be about a century."
   ]
  },
  {
   "cell_type": "markdown",
   "metadata": {},
   "source": [
    "## Lasso"
   ]
  },
  {
   "cell_type": "markdown",
   "metadata": {},
   "source": [
    "Due to sparsity of bag-of-word vectors, it's natural to consider the [Lasso](https://en.wikipedia.org/wiki/Lasso_(statistics)?wprov=srpw1_0) method for this problem.\n",
    "\n",
    "Lasso penalizes the $L_1$ norm of the regression coefficients and this is known to result in sparse regression coefficients. This is sensible in our case because there may be many words in the vocabulary that are not indicative of time period; lasso will select these automatically."
   ]
  },
  {
   "cell_type": "code",
   "execution_count": 397,
   "metadata": {},
   "outputs": [
    {
     "name": "stderr",
     "output_type": "stream",
     "text": [
      "/home/ben/anaconda3/envs/tf/lib/python3.7/site-packages/sklearn/linear_model/_coordinate_descent.py:472: ConvergenceWarning: Objective did not converge. You might want to increase the number of iterations. Duality gap: 19990.05836734002, tolerance: 918.0698998214923\n",
      "  tol, rng, random, positive)\n",
      "/home/ben/anaconda3/envs/tf/lib/python3.7/site-packages/sklearn/linear_model/_coordinate_descent.py:472: ConvergenceWarning: Objective did not converge. You might want to increase the number of iterations. Duality gap: 21672.673878368936, tolerance: 939.6974891824347\n",
      "  tol, rng, random, positive)\n",
      "/home/ben/anaconda3/envs/tf/lib/python3.7/site-packages/sklearn/linear_model/_coordinate_descent.py:476: ConvergenceWarning: Objective did not converge. You might want to increase the number of iterations. Duality gap: 58959.74026110036, tolerance: 1857.9850241699398\n",
      "  positive)\n"
     ]
    },
    {
     "data": {
      "text/plain": [
       "0.9542528749710253"
      ]
     },
     "execution_count": 397,
     "metadata": {},
     "output_type": "execute_result"
    }
   ],
   "source": [
    "from sklearn.linear_model import LassoCV\n",
    "\n",
    "lassocv = LassoCV(n_alphas=3, cv=2)\n",
    "lassocv.fit(X_train, y_train)\n",
    "lassocv.score(X_test, y_test)"
   ]
  },
  {
   "cell_type": "markdown",
   "metadata": {},
   "source": [
    "We're certainly overfitting less than with ordinary least squares.\n",
    "\n",
    "The scatter plot below also confirms the superiority of this model."
   ]
  },
  {
   "cell_type": "code",
   "execution_count": 456,
   "metadata": {},
   "outputs": [
    {
     "data": {
      "image/png": "[encoded data removed]",
      "text/plain": [
       "<Figure size 432x288 with 1 Axes>"
      ]
     },
     "metadata": {
      "needs_background": "light"
     },
     "output_type": "display_data"
    }
   ],
   "source": [
    "_ = plt.scatter(lassocv.predict(X_test), y_test)"
   ]
  },
  {
   "cell_type": "markdown",
   "metadata": {},
   "source": [
    "We would also like to be able to explain why our model works."
   ]
  },
  {
   "cell_type": "markdown",
   "metadata": {},
   "source": [
    "## Neural net regression"
   ]
  },
  {
   "cell_type": "markdown",
   "metadata": {},
   "source": [
    "Although neural nets are probably most famous for classification tasks, they are highly versatile and can be used in many learning tasks, including regression as well as unsupervised learning. For linear regression with a feedforward network, all we need to do is specify a linear activation function on the last layer and use the mean squared error loss function."
   ]
  },
  {
   "cell_type": "code",
   "execution_count": 145,
   "metadata": {},
   "outputs": [],
   "source": [
    "from keras.models import Sequential\n",
    "from keras.layers import Dense, Dropout, Input"
   ]
  },
  {
   "cell_type": "code",
   "execution_count": 146,
   "metadata": {},
   "outputs": [
    {
     "name": "stdout",
     "output_type": "stream",
     "text": [
      "WARNING:tensorflow:From /home/ben/anaconda3/envs/tf/lib/python3.7/site-packages/keras/backend/tensorflow_backend.py:3445: calling dropout (from tensorflow.python.ops.nn_ops) with keep_prob is deprecated and will be removed in a future version.\n",
      "Instructions for updating:\n",
      "Please use `rate` instead of `keep_prob`. Rate should be set to `rate = 1 - keep_prob`.\n"
     ]
    }
   ],
   "source": [
    "model = Sequential()\n",
    "model.add(Dense(250, input_dim=d))\n",
    "model.add(Dropout(0.2))\n",
    "model.add(Dense(1))\n",
    "\n",
    "model.compile(optimizer='adam', loss='mean_squared_error')"
   ]
  },
  {
   "cell_type": "markdown",
   "metadata": {},
   "source": [
    "Neural networks are very sensitive to data scaling, so we perform some additional preprocessing before training our network."
   ]
  },
  {
   "cell_type": "code",
   "execution_count": null,
   "metadata": {},
   "outputs": [],
   "source": [
    "from sklearn.preprocessing import StandardScaler\n",
    "\n",
    "sc = StandardScaler()\n",
    "X = sc.fit_transform(X.todense())\n",
    "y = sc.fit_transform(y)\n",
    "X_train, X_test, y_train, y_test = train_test_split(X, y, test_size=0.2)"
   ]
  },
  {
   "cell_type": "code",
   "execution_count": 147,
   "metadata": {},
   "outputs": [
    {
     "name": "stdout",
     "output_type": "stream",
     "text": [
      "Epoch 1/10\n",
      "11204/11204 [==============================] - 11s 952us/step - loss: 3.2845\n",
      "Epoch 2/10\n",
      "11204/11204 [==============================] - 9s 800us/step - loss: 0.2613\n",
      "Epoch 3/10\n",
      "11204/11204 [==============================] - 10s 856us/step - loss: 0.1473\n",
      "Epoch 4/10\n",
      "11204/11204 [==============================] - 9s 823us/step - loss: 0.1099\n",
      "Epoch 5/10\n",
      "11204/11204 [==============================] - 10s 918us/step - loss: 0.0904\n",
      "Epoch 6/10\n",
      "11204/11204 [==============================] - 10s 872us/step - loss: 0.0802\n",
      "Epoch 7/10\n",
      "11204/11204 [==============================] - 10s 901us/step - loss: 0.0712\n",
      "Epoch 8/10\n",
      "11204/11204 [==============================] - 15s 1ms/step - loss: 0.0620\n",
      "Epoch 9/10\n",
      "11204/11204 [==============================] - 15s 1ms/step - loss: 0.0624\n",
      "Epoch 10/10\n",
      "11204/11204 [==============================] - 15s 1ms/step - loss: 0.0545\n"
     ]
    },
    {
     "data": {
      "text/plain": [
       "<keras.callbacks.History at 0x7f5f6ea10bd0>"
      ]
     },
     "execution_count": 147,
     "metadata": {},
     "output_type": "execute_result"
    }
   ],
   "source": [
    "model.fit(X_train, y_train, epochs=10)"
   ]
  },
  {
   "cell_type": "code",
   "execution_count": 148,
   "metadata": {},
   "outputs": [
    {
     "name": "stdout",
     "output_type": "stream",
     "text": [
      "2801/2801 [==============================] - 1s 394us/step\n"
     ]
    },
    {
     "data": {
      "text/plain": [
       "0.06415101153771395"
      ]
     },
     "execution_count": 148,
     "metadata": {},
     "output_type": "execute_result"
    }
   ],
   "source": [
    "model.evaluate(X_test, y_test)"
   ]
  }
 ],
 "metadata": {
  "kernelspec": {
   "display_name": "Python 3",
   "language": "python",
   "name": "python3"
  },
  "language_info": {
   "codemirror_mode": {
    "name": "ipython",
    "version": 3
   },
   "file_extension": ".py",
   "mimetype": "text/x-python",
   "name": "python",
   "nbconvert_exporter": "python",
   "pygments_lexer": "ipython3",
   "version": "3.7.6"
  }
 },
 "nbformat": 4,
 "nbformat_minor": 2
}
