{
 "cells": [
  {
   "cell_type": "markdown",
   "metadata": {},
   "source": [
    "# doc2date: A Look at Document Regression"
   ]
  },
  {
   "cell_type": "markdown",
   "metadata": {},
   "source": [
    "[Document classification](https://en.wikipedia.org/wiki/Document_classification) is a common application of machine learning techniques. Examples include [sentiment analysis](https://en.wikipedia.org/wiki/Sentiment_analysis), the classification of texts into a (typically small) number of moods (such as \"positive\" and \"negative\"); as well as authorship attribution in [stylometry](https://en.wikipedia.org/wiki/Stylometry), in which texts are grouped according to their original author.\n",
    "\n",
    "Unsupersived learning methods have also been applied to the analysis of documents. For instance, [doc2vec](https://arxiv.org/pdf/1405.4053v2.pdf) is a dimensionality reduction technique that extends [word embeddings](https://en.wikipedia.org/wiki/Word_embedding) to entire documents.\n",
    "\n",
    "But what about document *regression*? In this notebook, we investigate the problem of learning the date of a publication from the text contained therein. Since the target space, a range of years, can be viewed as a continuum, this problem presents a natural test case for applying regression techniques to document analysis."
   ]
  },
  {
   "cell_type": "code",
   "execution_count": 2,
   "metadata": {},
   "outputs": [],
   "source": [
    "import pickle\n",
    "import re\n",
    "import os\n",
    "import string\n",
    "\n",
    "import matplotlib.pyplot as plt\n",
    "import nltk\n",
    "import numpy as np\n",
    "import pandas as pd\n",
    "import seaborn as sns\n",
    "\n",
    "from sklearn.linear_model import Lasso, LinearRegression, Ridge\n",
    "from sklearn.model_selection import train_test_split"
   ]
  },
  {
   "cell_type": "markdown",
   "metadata": {},
   "source": [
    "## HTRC word frequencies dataset\n",
    "\n",
    "We'll begin our analysis with the following dataset derived from the [HathiTrust](https://htrc.illinois.edu/) research center: [Word frequencies in English-Language Literature, 1700-1922](https://wiki.htrc.illinois.edu/display/COM/Word+Frequencies+in+English-Language+Literature%2C+1700-1922). This dataset contains word frequencies compiled from 178 831 volumes published over a 223-year period. The data is separated by content of the volumes: fiction, poetry, and drama. Frequency counts of individual volumes and aggregated counts over each year are available, as well as volume metadata.\n",
    "\n",
    "We'll start by looking at yearly aggregate data for fiction, the largest of the three sub-collections. We'll ignore the OCR correction labels for now. Note that the documentation for this dataset specifies that there are three \"special\" tokens: \"#ALLTOKENS\", \"#ALPHABETIC\", AND \"#DICTIONARYWORD\". We'll drop these from the table for now, but save them in case we need them later."
   ]
  },
  {
   "cell_type": "code",
   "execution_count": 3,
   "metadata": {},
   "outputs": [],
   "source": [
    "htrc_dir = 'data/htrc'\n",
    "htrc_file = 'fiction_yearly_summary.csv'\n",
    "\n",
    "htrc = pd.read_csv(os.path.join(htrc_dir, htrc_file), usecols=['year', 'word', 'termfreq'])\n",
    "\n",
    "htrc_special = htrc[htrc['word'].str.contains('#')]\n",
    "htrc = htrc[~htrc['word'].str.contains('#')]"
   ]
  },
  {
   "cell_type": "markdown",
   "metadata": {},
   "source": [
    "Taking a quick look at this dataframe, we see that it essentially consists of frequency assignments to `(year, word)` pairs."
   ]
  },
  {
   "cell_type": "code",
   "execution_count": 3,
   "metadata": {},
   "outputs": [
    {
     "data": {
      "text/html": [
       "<div>\n",
       "<style scoped>\n",
       "    .dataframe tbody tr th:only-of-type {\n",
       "        vertical-align: middle;\n",
       "    }\n",
       "\n",
       "    .dataframe tbody tr th {\n",
       "        vertical-align: top;\n",
       "    }\n",
       "\n",
       "    .dataframe thead th {\n",
       "        text-align: right;\n",
       "    }\n",
       "</style>\n",
       "<table border=\"1\" class=\"dataframe\">\n",
       "  <thead>\n",
       "    <tr style=\"text-align: right;\">\n",
       "      <th></th>\n",
       "      <th>0</th>\n",
       "      <th>1</th>\n",
       "      <th>2</th>\n",
       "      <th>3</th>\n",
       "      <th>4</th>\n",
       "      <th>5</th>\n",
       "      <th>6</th>\n",
       "      <th>7</th>\n",
       "      <th>8</th>\n",
       "      <th>9</th>\n",
       "    </tr>\n",
       "  </thead>\n",
       "  <tbody>\n",
       "    <tr>\n",
       "      <th>year</th>\n",
       "      <td>1701</td>\n",
       "      <td>1701</td>\n",
       "      <td>1701</td>\n",
       "      <td>1701</td>\n",
       "      <td>1701</td>\n",
       "      <td>1701</td>\n",
       "      <td>1701</td>\n",
       "      <td>1701</td>\n",
       "      <td>1701</td>\n",
       "      <td>1701</td>\n",
       "    </tr>\n",
       "    <tr>\n",
       "      <th>word</th>\n",
       "      <td>'</td>\n",
       "      <td>a</td>\n",
       "      <td>further</td>\n",
       "      <td>native</td>\n",
       "      <td>forgot</td>\n",
       "      <td>mayor</td>\n",
       "      <td>wonder</td>\n",
       "      <td>incapable</td>\n",
       "      <td>reflections</td>\n",
       "      <td>absence</td>\n",
       "    </tr>\n",
       "    <tr>\n",
       "      <th>termfreq</th>\n",
       "      <td>162</td>\n",
       "      <td>813</td>\n",
       "      <td>2</td>\n",
       "      <td>1</td>\n",
       "      <td>9</td>\n",
       "      <td>1</td>\n",
       "      <td>13</td>\n",
       "      <td>3</td>\n",
       "      <td>5</td>\n",
       "      <td>5</td>\n",
       "    </tr>\n",
       "  </tbody>\n",
       "</table>\n",
       "</div>"
      ],
      "text/plain": [
       "             0     1        2       3       4      5       6          7  \\\n",
       "year      1701  1701     1701    1701    1701   1701    1701       1701   \n",
       "word         '     a  further  native  forgot  mayor  wonder  incapable   \n",
       "termfreq   162   813        2       1       9      1      13          3   \n",
       "\n",
       "                    8        9  \n",
       "year             1701     1701  \n",
       "word      reflections  absence  \n",
       "termfreq            5        5  "
      ]
     },
     "execution_count": 3,
     "metadata": {},
     "output_type": "execute_result"
    }
   ],
   "source": [
    "htrc.head(10).transpose()"
   ]
  },
  {
   "cell_type": "markdown",
   "metadata": {},
   "source": [
    "We'd like to organize this data into a term frequency matrix with rows corresponding to years and columns to words. First, we'll extract unique words and years from this dataframe and we'll tokenize the words."
   ]
  },
  {
   "cell_type": "code",
   "execution_count": 4,
   "metadata": {},
   "outputs": [],
   "source": [
    "token2word = dict(enumerate(htrc['word'].unique()))\n",
    "word2token = { v: k for k, v in token2word.items() }\n",
    "\n",
    "vocab_size = len(token2word)\n",
    "htrc['token'] = htrc['word'].map(word2token)"
   ]
  },
  {
   "cell_type": "markdown",
   "metadata": {},
   "source": [
    "We'll re-organize the dataframe using a hierarchical multi-index, so that we can add 0 counts to words missing from any years."
   ]
  },
  {
   "cell_type": "code",
   "execution_count": 5,
   "metadata": {},
   "outputs": [],
   "source": [
    "htrc = htrc.set_index(['year', 'token'])\n",
    "\n",
    "index = pd.MultiIndex.from_product([htrc.index.levels[0], range(0, vocab_size)])\n",
    "htrc = htrc.reindex(index).fillna(0)"
   ]
  },
  {
   "cell_type": "markdown",
   "metadata": {},
   "source": [
    "The hierarchical indexing is convenient, because we can now simply `unstack` our dataframe into a matrix."
   ]
  },
  {
   "cell_type": "code",
   "execution_count": 13,
   "metadata": {},
   "outputs": [
    {
     "data": {
      "text/html": [
       "<div>\n",
       "<style scoped>\n",
       "    .dataframe tbody tr th:only-of-type {\n",
       "        vertical-align: middle;\n",
       "    }\n",
       "\n",
       "    .dataframe tbody tr th {\n",
       "        vertical-align: top;\n",
       "    }\n",
       "\n",
       "    .dataframe thead th {\n",
       "        text-align: right;\n",
       "    }\n",
       "</style>\n",
       "<table border=\"1\" class=\"dataframe\">\n",
       "  <thead>\n",
       "    <tr style=\"text-align: right;\">\n",
       "      <th></th>\n",
       "      <th>0</th>\n",
       "      <th>1</th>\n",
       "      <th>2</th>\n",
       "      <th>3</th>\n",
       "      <th>4</th>\n",
       "      <th>5</th>\n",
       "      <th>6</th>\n",
       "      <th>7</th>\n",
       "      <th>8</th>\n",
       "      <th>9</th>\n",
       "      <th>...</th>\n",
       "      <th>9990</th>\n",
       "      <th>9991</th>\n",
       "      <th>9992</th>\n",
       "      <th>9993</th>\n",
       "      <th>9994</th>\n",
       "      <th>9995</th>\n",
       "      <th>9996</th>\n",
       "      <th>9997</th>\n",
       "      <th>9998</th>\n",
       "      <th>9999</th>\n",
       "    </tr>\n",
       "    <tr>\n",
       "      <th>year</th>\n",
       "      <th></th>\n",
       "      <th></th>\n",
       "      <th></th>\n",
       "      <th></th>\n",
       "      <th></th>\n",
       "      <th></th>\n",
       "      <th></th>\n",
       "      <th></th>\n",
       "      <th></th>\n",
       "      <th></th>\n",
       "      <th></th>\n",
       "      <th></th>\n",
       "      <th></th>\n",
       "      <th></th>\n",
       "      <th></th>\n",
       "      <th></th>\n",
       "      <th></th>\n",
       "      <th></th>\n",
       "      <th></th>\n",
       "      <th></th>\n",
       "      <th></th>\n",
       "    </tr>\n",
       "  </thead>\n",
       "  <tbody>\n",
       "    <tr>\n",
       "      <th>1701</th>\n",
       "      <td>162.0</td>\n",
       "      <td>813.0</td>\n",
       "      <td>2.0</td>\n",
       "      <td>1.0</td>\n",
       "      <td>9.0</td>\n",
       "      <td>1.0</td>\n",
       "      <td>13.0</td>\n",
       "      <td>3.0</td>\n",
       "      <td>5.0</td>\n",
       "      <td>5.0</td>\n",
       "      <td>...</td>\n",
       "      <td>0.0</td>\n",
       "      <td>0.0</td>\n",
       "      <td>0.0</td>\n",
       "      <td>0.0</td>\n",
       "      <td>0.0</td>\n",
       "      <td>0.0</td>\n",
       "      <td>0.0</td>\n",
       "      <td>0.0</td>\n",
       "      <td>0.0</td>\n",
       "      <td>0.0</td>\n",
       "    </tr>\n",
       "    <tr>\n",
       "      <th>1702</th>\n",
       "      <td>31.0</td>\n",
       "      <td>252.0</td>\n",
       "      <td>4.0</td>\n",
       "      <td>0.0</td>\n",
       "      <td>0.0</td>\n",
       "      <td>0.0</td>\n",
       "      <td>2.0</td>\n",
       "      <td>0.0</td>\n",
       "      <td>0.0</td>\n",
       "      <td>0.0</td>\n",
       "      <td>...</td>\n",
       "      <td>0.0</td>\n",
       "      <td>0.0</td>\n",
       "      <td>0.0</td>\n",
       "      <td>0.0</td>\n",
       "      <td>0.0</td>\n",
       "      <td>0.0</td>\n",
       "      <td>0.0</td>\n",
       "      <td>0.0</td>\n",
       "      <td>0.0</td>\n",
       "      <td>0.0</td>\n",
       "    </tr>\n",
       "    <tr>\n",
       "      <th>1703</th>\n",
       "      <td>2495.0</td>\n",
       "      <td>6381.0</td>\n",
       "      <td>126.0</td>\n",
       "      <td>4.0</td>\n",
       "      <td>17.0</td>\n",
       "      <td>0.0</td>\n",
       "      <td>85.0</td>\n",
       "      <td>5.0</td>\n",
       "      <td>12.0</td>\n",
       "      <td>74.0</td>\n",
       "      <td>...</td>\n",
       "      <td>0.0</td>\n",
       "      <td>0.0</td>\n",
       "      <td>0.0</td>\n",
       "      <td>0.0</td>\n",
       "      <td>0.0</td>\n",
       "      <td>0.0</td>\n",
       "      <td>0.0</td>\n",
       "      <td>0.0</td>\n",
       "      <td>0.0</td>\n",
       "      <td>0.0</td>\n",
       "    </tr>\n",
       "    <tr>\n",
       "      <th>1706</th>\n",
       "      <td>224.0</td>\n",
       "      <td>700.0</td>\n",
       "      <td>6.0</td>\n",
       "      <td>3.0</td>\n",
       "      <td>0.0</td>\n",
       "      <td>0.0</td>\n",
       "      <td>13.0</td>\n",
       "      <td>0.0</td>\n",
       "      <td>1.0</td>\n",
       "      <td>10.0</td>\n",
       "      <td>...</td>\n",
       "      <td>0.0</td>\n",
       "      <td>0.0</td>\n",
       "      <td>0.0</td>\n",
       "      <td>0.0</td>\n",
       "      <td>0.0</td>\n",
       "      <td>0.0</td>\n",
       "      <td>0.0</td>\n",
       "      <td>0.0</td>\n",
       "      <td>0.0</td>\n",
       "      <td>0.0</td>\n",
       "    </tr>\n",
       "    <tr>\n",
       "      <th>1708</th>\n",
       "      <td>1556.0</td>\n",
       "      <td>10041.0</td>\n",
       "      <td>93.0</td>\n",
       "      <td>7.0</td>\n",
       "      <td>42.0</td>\n",
       "      <td>0.0</td>\n",
       "      <td>59.0</td>\n",
       "      <td>4.0</td>\n",
       "      <td>75.0</td>\n",
       "      <td>29.0</td>\n",
       "      <td>...</td>\n",
       "      <td>0.0</td>\n",
       "      <td>0.0</td>\n",
       "      <td>0.0</td>\n",
       "      <td>0.0</td>\n",
       "      <td>0.0</td>\n",
       "      <td>0.0</td>\n",
       "      <td>0.0</td>\n",
       "      <td>0.0</td>\n",
       "      <td>0.0</td>\n",
       "      <td>0.0</td>\n",
       "    </tr>\n",
       "  </tbody>\n",
       "</table>\n",
       "<p>5 rows × 10000 columns</p>\n",
       "</div>"
      ],
      "text/plain": [
       "        0        1      2     3     4     5     6     7     8     9     ...  \\\n",
       "year                                                                    ...   \n",
       "1701   162.0    813.0    2.0   1.0   9.0   1.0  13.0   3.0   5.0   5.0  ...   \n",
       "1702    31.0    252.0    4.0   0.0   0.0   0.0   2.0   0.0   0.0   0.0  ...   \n",
       "1703  2495.0   6381.0  126.0   4.0  17.0   0.0  85.0   5.0  12.0  74.0  ...   \n",
       "1706   224.0    700.0    6.0   3.0   0.0   0.0  13.0   0.0   1.0  10.0  ...   \n",
       "1708  1556.0  10041.0   93.0   7.0  42.0   0.0  59.0   4.0  75.0  29.0  ...   \n",
       "\n",
       "      9990  9991  9992  9993  9994  9995  9996  9997  9998  9999  \n",
       "year                                                              \n",
       "1701   0.0   0.0   0.0   0.0   0.0   0.0   0.0   0.0   0.0   0.0  \n",
       "1702   0.0   0.0   0.0   0.0   0.0   0.0   0.0   0.0   0.0   0.0  \n",
       "1703   0.0   0.0   0.0   0.0   0.0   0.0   0.0   0.0   0.0   0.0  \n",
       "1706   0.0   0.0   0.0   0.0   0.0   0.0   0.0   0.0   0.0   0.0  \n",
       "1708   0.0   0.0   0.0   0.0   0.0   0.0   0.0   0.0   0.0   0.0  \n",
       "\n",
       "[5 rows x 10000 columns]"
      ]
     },
     "execution_count": 13,
     "metadata": {},
     "output_type": "execute_result"
    }
   ],
   "source": [
    "htrc['termfreq'].unstack().head()"
   ]
  },
  {
   "cell_type": "markdown",
   "metadata": {},
   "source": [
    "The following arrays will be our input and target variables."
   ]
  },
  {
   "cell_type": "code",
   "execution_count": 6,
   "metadata": {},
   "outputs": [],
   "source": [
    "X = htrc['termfreq'].unstack().to_numpy()\n",
    "y = htrc.index.levels[0]"
   ]
  },
  {
   "cell_type": "markdown",
   "metadata": {},
   "source": [
    "Let's look at the distribution of terms throughout the entire corpus. We'll make a bar plot of the total frequency of the most common words."
   ]
  },
  {
   "cell_type": "code",
   "execution_count": 73,
   "metadata": {},
   "outputs": [
    {
     "data": {
      "image/png": "[encoded data removed]",
      "text/plain": [
       "<Figure size 432x288 with 1 Axes>"
      ]
     },
     "metadata": {
      "needs_background": "light"
     },
     "output_type": "display_data"
    }
   ],
   "source": [
    "import matplotlib.ticker as ticker\n",
    "\n",
    "a = 0\n",
    "b = 100\n",
    "freqs = np.sum(X, axis=0)\n",
    "ax = sns.barplot(np.arange(b - a), np.sort(freqs)[::-1][a:b])\n",
    "ax.set_title('Sorted corpus word frequency')\n",
    "ax.xaxis.set_major_formatter(ticker.FormatStrFormatter(''))"
   ]
  },
  {
   "cell_type": "markdown",
   "metadata": {},
   "source": [
    "This is a manifestation of [Zipf's law](https://en.wikipedia.org/wiki/Zipf%27s_law).\n",
    "\n",
    "Let's see which words are the most common."
   ]
  },
  {
   "cell_type": "code",
   "execution_count": 9,
   "metadata": {},
   "outputs": [
    {
     "name": "stdout",
     "output_type": "stream",
     "text": [
      "['his', 'it', 'that', 'was', 'he', 'in', 'i', 'a', 'to', '\"', 'of', 'and', '.', 'the', ',']\n"
     ]
    }
   ],
   "source": [
    "print([token2word[t] for t in np.argsort(freqs)][-15:])"
   ]
  },
  {
   "cell_type": "markdown",
   "metadata": {},
   "source": [
    "Not surprisingly, these are stop words and punctuation. These are unlikely to be unhelpful for time-period identification, because they are so common regardless of the period.\n",
    "\n",
    "The most uncommon words are specific numbers, which are unlikely to occur in more than one or a few texts."
   ]
  },
  {
   "cell_type": "code",
   "execution_count": 17,
   "metadata": {},
   "outputs": [
    {
     "name": "stdout",
     "output_type": "stream",
     "text": [
      "['279', '269', '261', '265', '273', '271', '251', '263', '255', '267', '115', '257', '259', '253', '151']\n"
     ]
    }
   ],
   "source": [
    "print([token2word[t] for t in np.argsort(freqs)][:15])"
   ]
  },
  {
   "cell_type": "markdown",
   "metadata": {},
   "source": [
    "These are also quite unhelpful; although they may help identify a particular volume, relying on them hurts generalization ability (they contribute to the [variance](https://en.wikipedia.org/wiki/Bias%E2%80%93variance_tradeoff) of the statistical models we will build)."
   ]
  },
  {
   "cell_type": "markdown",
   "metadata": {},
   "source": [
    "## A lesson in scaling\n",
    "\n",
    "It's often tempting to \"blindly\" try to fit a model to data to see the result. Especially when the model is very simple, what's the worst that can happen? There's nothing wrong with doing this, and in fact it can be very informative; afterwards, care should be taken to try to understand the result before moving on to more complex models.\n",
    "\n",
    "Suppose we apply linear regression to our data, making sure to properly scale and split it first."
   ]
  },
  {
   "cell_type": "code",
   "execution_count": 10,
   "metadata": {},
   "outputs": [
    {
     "data": {
      "text/plain": [
       "-155.78239908759195"
      ]
     },
     "execution_count": 10,
     "metadata": {},
     "output_type": "execute_result"
    }
   ],
   "source": [
    "from sklearn.linear_model import LinearRegression\n",
    "from sklearn.model_selection import train_test_split\n",
    "from sklearn.preprocessing import StandardScaler\n",
    "\n",
    "X_scaled = StandardScaler().fit_transform(X)\n",
    "X_train, X_test, y_train, y_test = train_test_split(X, y, test_size=0.2)\n",
    "\n",
    "reg = LinearRegression()\n",
    "reg.fit(X_train, y_train)\n",
    "reg.score(X_test, y_test)"
   ]
  },
  {
   "cell_type": "markdown",
   "metadata": {},
   "source": [
    "This result shouldn't be surprising: our data is very high-dimensional, i.e. we have more features (10000) than training examples (around 200). Geometrically, there are many possible regression coefficients that could fit the data perfectly.\n",
    "\n",
    "Of course, this is a well-known problem with a standard solution: we apply a regularization method."
   ]
  },
  {
   "cell_type": "code",
   "execution_count": 11,
   "metadata": {},
   "outputs": [
    {
     "data": {
      "text/plain": [
       "0.8408788446514458"
      ]
     },
     "execution_count": 11,
     "metadata": {},
     "output_type": "execute_result"
    }
   ],
   "source": [
    "from sklearn.linear_model import Lasso\n",
    "\n",
    "lasso = Lasso(alpha=1000, tol=0.1)\n",
    "lasso.fit(X_train, y_train)\n",
    "lasso.score(X_test, y_test)"
   ]
  },
  {
   "cell_type": "markdown",
   "metadata": {},
   "source": [
    "Our result is much improved, we're happy, and we move on.\n",
    "\n",
    "The problem with this kind of \"optimistic\" solution is we may be learning the wrong thing. Consider the following peculiar experiment, in which we perform ordinary least squares regression following logarithmic scaling. Note that we add some noise to `X` so that we can safely take the logarithms."
   ]
  },
  {
   "cell_type": "code",
   "execution_count": 12,
   "metadata": {},
   "outputs": [],
   "source": [
    "X_noisy = X + np.abs(np.random.normal(0, 0.001, size=X.shape))\n",
    "\n",
    "# make sure the noise eliminated 0, otherwise re-run\n",
    "assert (X_noisy == 0).sum() == 0"
   ]
  },
  {
   "cell_type": "code",
   "execution_count": 13,
   "metadata": {},
   "outputs": [
    {
     "data": {
      "text/plain": [
       "0.9671767083316671"
      ]
     },
     "execution_count": 13,
     "metadata": {},
     "output_type": "execute_result"
    }
   ],
   "source": [
    "X_train, X_test, y_train, y_test = train_test_split(np.log(X_noisy), np.log(y), test_size=0.2)\n",
    "\n",
    "reg = LinearRegression()\n",
    "reg.fit(X_train, y_train)\n",
    "reg.score(X_test, y_test)"
   ]
  },
  {
   "cell_type": "markdown",
   "metadata": {},
   "source": [
    "Suddenly, we have a very good fit.\n",
    "\n",
    "To understand what's going on here, let's look at the total number of words collected each year."
   ]
  },
  {
   "cell_type": "code",
   "execution_count": 74,
   "metadata": {},
   "outputs": [
    {
     "data": {
      "image/png": "[encoded data removed]",
      "text/plain": [
       "<Figure size 432x288 with 1 Axes>"
      ]
     },
     "metadata": {
      "needs_background": "light"
     },
     "output_type": "display_data"
    }
   ],
   "source": [
    "total_words = np.sum(X, axis=1)\n",
    "_ = sns.barplot(y, total_words).set_title('Total words collected over time')"
   ]
  },
  {
   "cell_type": "markdown",
   "metadata": {},
   "source": [
    "The number increases, possibly exponentially. This is likely due to an increasingly large availability of data (the sudden drop towards the end might be explained by a decrease in available *public domain* data).\n",
    "\n",
    "What this means is that we could find a reasonably good fit just by reducing each training example to its sum, logarithmically scaling, and performing one-dimensional linear regression. In fact, let's try that."
   ]
  },
  {
   "cell_type": "code",
   "execution_count": 16,
   "metadata": {},
   "outputs": [
    {
     "data": {
      "text/plain": [
       "0.8366745709841993"
      ]
     },
     "execution_count": 16,
     "metadata": {},
     "output_type": "execute_result"
    }
   ],
   "source": [
    "def sum_log_reg(X):\n",
    "    X_summed = np.sum(X, axis=1).reshape(-1, 1)\n",
    "    X_noisy = X_summed + np.random.normal(0, 0.001, size=X_summed.shape)\n",
    "    assert (X_noisy == 0).sum() == 0\n",
    "    X_train, X_test, y_train, y_test = train_test_split(np.log(X_noisy), np.log(y), test_size=0.2)\n",
    "    reg = LinearRegression()\n",
    "    reg.fit(X_train, y_train)\n",
    "    return reg.score(X_test, y_test)\n",
    "\n",
    "sum_log_reg(X)"
   ]
  },
  {
   "cell_type": "markdown",
   "metadata": {},
   "source": [
    "But we don't want to learn to identify a year by looking at the total number of words published that year. This won't help us identify the publication date of a *single* document. In order to address this problem, we should consider scaled word frequencies, rather than total word count."
   ]
  },
  {
   "cell_type": "code",
   "execution_count": 17,
   "metadata": {},
   "outputs": [],
   "source": [
    "X_norm = X / np.sum(X, axis=1).reshape(-1, 1)"
   ]
  },
  {
   "cell_type": "markdown",
   "metadata": {},
   "source": [
    "Now if we repeat our previous experiment, we get a poor fit, but in this case it's a *good* thing."
   ]
  },
  {
   "cell_type": "code",
   "execution_count": 18,
   "metadata": {},
   "outputs": [
    {
     "data": {
      "text/plain": [
       "-0.011710195832883796"
      ]
     },
     "execution_count": 18,
     "metadata": {},
     "output_type": "execute_result"
    }
   ],
   "source": [
    "sum_log_reg(X_norm)"
   ]
  },
  {
   "cell_type": "markdown",
   "metadata": {},
   "source": [
    "## Regression analysis"
   ]
  },
  {
   "cell_type": "markdown",
   "metadata": {},
   "source": [
    "Let's scale and split our data and apply ordinary least squares regression, but now on all 10000 features."
   ]
  },
  {
   "cell_type": "code",
   "execution_count": 19,
   "metadata": {},
   "outputs": [],
   "source": [
    "X_scaled = StandardScaler().fit_transform(X_norm)\n",
    "X_train, X_test, y_train, y_test = train_test_split(X_norm, y, test_size=0.2)"
   ]
  },
  {
   "cell_type": "code",
   "execution_count": 20,
   "metadata": {},
   "outputs": [
    {
     "data": {
      "text/plain": [
       "0.9112933443375855"
      ]
     },
     "execution_count": 20,
     "metadata": {},
     "output_type": "execute_result"
    }
   ],
   "source": [
    "reg = LinearRegression()\n",
    "reg.fit(X_train, y_train)\n",
    "reg.score(X_test, y_test)"
   ]
  },
  {
   "cell_type": "markdown",
   "metadata": {},
   "source": [
    "That's quite good but it would be nice to understand which features are being used (and in what way) to make predictions. A well-known and simple way of performing automatic feature selection is with the lasso. This time, let's use cross-validation to optimize over the regularization parameter."
   ]
  },
  {
   "cell_type": "code",
   "execution_count": 41,
   "metadata": {},
   "outputs": [
    {
     "name": "stdout",
     "output_type": "stream",
     "text": [
      "CPU times: user 9.37 s, sys: 87.1 ms, total: 9.46 s\n",
      "Wall time: 4.74 s\n"
     ]
    },
    {
     "data": {
      "text/plain": [
       "0.9638207442973585"
      ]
     },
     "execution_count": 41,
     "metadata": {},
     "output_type": "execute_result"
    }
   ],
   "source": [
    "%%time\n",
    "from sklearn.linear_model import LassoCV\n",
    "\n",
    "lasso = LassoCV(tol=0.01)\n",
    "lasso.fit(X_train, y_train)\n",
    "lasso.score(X_test, y_test)"
   ]
  },
  {
   "cell_type": "markdown",
   "metadata": {},
   "source": [
    "Let's see which words correspond to non-zero lasso coefficients."
   ]
  },
  {
   "cell_type": "code",
   "execution_count": 45,
   "metadata": {},
   "outputs": [
    {
     "name": "stdout",
     "output_type": "stream",
     "text": [
      "[\"'\", 'me', 'i', 'we', 'the', 'you', 'which', '!', 'she', 'so', 'in', 'it', \"'s\", 'said', 'of', 'had', 'on', '.', '\"']\n"
     ]
    }
   ],
   "source": [
    "coef = lasso.coef_\n",
    "important_words = [token2word[i] for i in range(vocab_size) if coef[i] > 0]\n",
    "print(important_words)"
   ]
  },
  {
   "cell_type": "markdown",
   "metadata": {},
   "source": [
    "To find the explantory variable that has the most explanatory power *on its own*, we'll solve one-dimensional regression problems for each of these and choose the one with the best fit."
   ]
  },
  {
   "cell_type": "code",
   "execution_count": 50,
   "metadata": {},
   "outputs": [],
   "source": [
    "regs = []\n",
    "for word in important_words:\n",
    "    r = LinearRegression()\n",
    "    r.fit(X_train[:, word2token[word]].reshape(-1, 1), y_train)\n",
    "    regs.append(r)"
   ]
  },
  {
   "cell_type": "markdown",
   "metadata": {},
   "source": [
    "And the winner is..."
   ]
  },
  {
   "cell_type": "code",
   "execution_count": 60,
   "metadata": {},
   "outputs": [
    {
     "name": "stdout",
     "output_type": "stream",
     "text": [
      "\"\n",
      "0.9038163343498912\n"
     ]
    }
   ],
   "source": [
    "scores = [r.score(X_test[:, word2token[word]].reshape(-1, 1), y_test) for r in regs]\n",
    "i_best = np.argmax(scores)\n",
    "print(important_words[i_best])\n",
    "print(scores[i_best])"
   ]
  },
  {
   "cell_type": "markdown",
   "metadata": {},
   "source": [
    "This is somewhat unexpected: linear regression of publication date against the frequency of quotation marks in a text fits with an $R^2$ score of 0.9. Personally, I have to see it to believe it. Let's take a look in the variation in use of this symbol over time."
   ]
  },
  {
   "cell_type": "code",
   "execution_count": 75,
   "metadata": {},
   "outputs": [
    {
     "data": {
      "image/png": "[encoded data removed]",
      "text/plain": [
       "<Figure size 432x288 with 1 Axes>"
      ]
     },
     "metadata": {
      "needs_background": "light"
     },
     "output_type": "display_data"
    }
   ],
   "source": [
    "_ = sns.lineplot(y, X_norm[:, word2token['\"']]).set_title('Quotation mark use over time')"
   ]
  },
  {
   "cell_type": "markdown",
   "metadata": {},
   "source": [
    "As we can see, the resulting trend is indeed more-or-less linear. By way of comparison, let's do the same for a word not in our list."
   ]
  },
  {
   "cell_type": "code",
   "execution_count": 85,
   "metadata": {},
   "outputs": [
    {
     "data": {
      "image/png": "[encoded data removed]",
      "text/plain": [
       "<Figure size 432x288 with 1 Axes>"
      ]
     },
     "metadata": {
      "needs_background": "light"
     },
     "output_type": "display_data"
    }
   ],
   "source": [
    "_ = sns.lineplot(y, X_norm[:, word2token['is']]).set_title('Use of \"is\" over time')"
   ]
  },
  {
   "cell_type": "markdown",
   "metadata": {},
   "source": [
    "In this case, there is little correlation between word use and time period (although the *noisiness* of the word use does seem somewhat strongly correlated to time)."
   ]
  },
  {
   "cell_type": "markdown",
   "metadata": {},
   "source": [
    "## The Gutenberg dataset"
   ]
  },
  {
   "cell_type": "markdown",
   "metadata": {},
   "source": [
    "We will make use of the (updated) [Gutenberg dataset](https://web.eecs.umich.edu/~lahiri/gutenberg_dataset.html), which consists of complete texts from over 3000 public domain books.\n",
    "\n",
    "Unfortunately, the documents have already been stripped of metadata, including the year of publication. We attempt to resolve this issue by supposing that the first four-digit number appearing in each document (if any) is the date of publication.\n",
    "\n",
    "The following loads texts for which a potential year of publication can be found into a dataframe. The texts are lowercased, stripped of all content up to and including the year (presumably front matter), and (most importantly) stripped of the author's last name."
   ]
  },
  {
   "cell_type": "code",
   "execution_count": 4,
   "metadata": {},
   "outputs": [
    {
     "name": "stdout",
     "output_type": "stream",
     "text": [
      "CPU times: user 23.9 s, sys: 1.4 s, total: 25.3 s\n",
      "Wall time: 30.5 s\n"
     ]
    }
   ],
   "source": [
    "%%time\n",
    "text_dir = 'data/docs'\n",
    "current_year = 2020\n",
    "\n",
    "files = [file for file in os.listdir(text_dir) if '___' in file]\n",
    "\n",
    "entries = []\n",
    "for file in files:\n",
    "    # author and title are embedded in the file name\n",
    "    author, title = file.split('___')\n",
    "    author = author.split()[-1].lower()\n",
    "    \n",
    "    title = title.split('.txt')[0].lower()\n",
    "    \n",
    "    with open(os.path.join(text_dir, file)) as f:\n",
    "        text = f.read().lower()\n",
    "        \n",
    "        # search for the first occurence of a 4-digit number\n",
    "        match = re.search('\\d\\d\\d\\d', text)\n",
    "        \n",
    "        if match:\n",
    "            i = match.start()\n",
    "            year = int(text[i:i+4])\n",
    "            \n",
    "            # remove front matter and author name\n",
    "            text = text[i+5:].lower()\n",
    "            text = re.sub(author.split()[-1].lower(), '', text)\n",
    "            \n",
    "            # filter out impossible years\n",
    "            if year <= current_year:\n",
    "                entries.append((author, title, year, text))\n",
    "\n",
    "docs = pd.DataFrame(entries, columns=['author', 'title', 'year', 'text'])"
   ]
  },
  {
   "cell_type": "markdown",
   "metadata": {},
   "source": [
    "The `docs` dataframe contains author, title, (estimated) year of publication, and full text."
   ]
  },
  {
   "cell_type": "code",
   "execution_count": 5,
   "metadata": {},
   "outputs": [
    {
     "data": {
      "text/html": [
       "<div>\n",
       "<style scoped>\n",
       "    .dataframe tbody tr th:only-of-type {\n",
       "        vertical-align: middle;\n",
       "    }\n",
       "\n",
       "    .dataframe tbody tr th {\n",
       "        vertical-align: top;\n",
       "    }\n",
       "\n",
       "    .dataframe thead th {\n",
       "        text-align: right;\n",
       "    }\n",
       "</style>\n",
       "<table border=\"1\" class=\"dataframe\">\n",
       "  <thead>\n",
       "    <tr style=\"text-align: right;\">\n",
       "      <th></th>\n",
       "      <th>author</th>\n",
       "      <th>title</th>\n",
       "      <th>text</th>\n",
       "    </tr>\n",
       "  </thead>\n",
       "  <tbody>\n",
       "    <tr>\n",
       "      <th>0</th>\n",
       "      <td>kingsley</td>\n",
       "      <td>the heroes</td>\n",
       "      <td>\\n                               the heroes,\\n...</td>\n",
       "    </tr>\n",
       "    <tr>\n",
       "      <th>1</th>\n",
       "      <td>wilde</td>\n",
       "      <td>charmides and other poems</td>\n",
       "      <td>\\ncharmides and other poems\\n\\n\\n\\n\\ncontents:...</td>\n",
       "    </tr>\n",
       "    <tr>\n",
       "      <th>2</th>\n",
       "      <td>wilde</td>\n",
       "      <td>poems</td>\n",
       "      <td>\\npoems by oscar wilde\\n\\n\\n\\n\\npoem:  helas!\\...</td>\n",
       "    </tr>\n",
       "    <tr>\n",
       "      <th>3</th>\n",
       "      <td>stevenson</td>\n",
       "      <td>the works of robert louis stevenson - swanston...</td>\n",
       "      <td>\\n       the works of\\n  robert louis stevenso...</td>\n",
       "    </tr>\n",
       "    <tr>\n",
       "      <th>4</th>\n",
       "      <td>alcott</td>\n",
       "      <td>on picket duty and other tales</td>\n",
       "      <td>\\non picket duty, and other tales.\\n\\nby l. m....</td>\n",
       "    </tr>\n",
       "  </tbody>\n",
       "</table>\n",
       "</div>"
      ],
      "text/plain": [
       "      author                                              title  \\\n",
       "0   kingsley                                         the heroes   \n",
       "1      wilde                          charmides and other poems   \n",
       "2      wilde                                              poems   \n",
       "3  stevenson  the works of robert louis stevenson - swanston...   \n",
       "4     alcott                     on picket duty and other tales   \n",
       "\n",
       "                                                text  \n",
       "0  \\n                               the heroes,\\n...  \n",
       "1  \\ncharmides and other poems\\n\\n\\n\\n\\ncontents:...  \n",
       "2  \\npoems by oscar wilde\\n\\n\\n\\n\\npoem:  helas!\\...  \n",
       "3  \\n       the works of\\n  robert louis stevenso...  \n",
       "4  \\non picket duty, and other tales.\\n\\nby l. m....  "
      ]
     },
     "execution_count": 5,
     "metadata": {},
     "output_type": "execute_result"
    }
   ],
   "source": [
    "docs.head()"
   ]
  },
  {
   "cell_type": "markdown",
   "metadata": {},
   "source": [
    "The texts will need to be cleaned, but before we do that let's examine the year distribution. The plot below suggests an exponentially growing publication count throughout the years. This is actually quite reassuring in regards to our method for guessing publication date. However, this imbalance may be problematic later in our analysis and should be taken into account."
   ]
  },
  {
   "cell_type": "markdown",
   "metadata": {},
   "source": [
    "The sudden decrease in the number of publications in more recent years is likely explained by copyright law. The table shows the decrease beginning in the 1920s."
   ]
  },
  {
   "cell_type": "code",
   "execution_count": 37,
   "metadata": {},
   "outputs": [
    {
     "data": {
      "text/html": [
       "<div>\n",
       "<style scoped>\n",
       "    .dataframe tbody tr th:only-of-type {\n",
       "        vertical-align: middle;\n",
       "    }\n",
       "\n",
       "    .dataframe tbody tr th {\n",
       "        vertical-align: top;\n",
       "    }\n",
       "\n",
       "    .dataframe thead th {\n",
       "        text-align: right;\n",
       "    }\n",
       "</style>\n",
       "<table border=\"1\" class=\"dataframe\">\n",
       "  <thead>\n",
       "    <tr style=\"text-align: right;\">\n",
       "      <th>year</th>\n",
       "      <th>1919</th>\n",
       "      <th>1920</th>\n",
       "      <th>1921</th>\n",
       "      <th>1922</th>\n",
       "      <th>1923</th>\n",
       "      <th>1924</th>\n",
       "      <th>1925</th>\n",
       "      <th>1927</th>\n",
       "      <th>1930</th>\n",
       "      <th>1932</th>\n",
       "      <th>...</th>\n",
       "      <th>1966</th>\n",
       "      <th>1967</th>\n",
       "      <th>1970</th>\n",
       "      <th>1972</th>\n",
       "      <th>1976</th>\n",
       "      <th>1980</th>\n",
       "      <th>1988</th>\n",
       "      <th>1991</th>\n",
       "      <th>2000</th>\n",
       "      <th>2006</th>\n",
       "    </tr>\n",
       "  </thead>\n",
       "  <tbody>\n",
       "    <tr>\n",
       "      <th>0</th>\n",
       "      <td>29</td>\n",
       "      <td>30</td>\n",
       "      <td>26</td>\n",
       "      <td>26</td>\n",
       "      <td>3</td>\n",
       "      <td>2</td>\n",
       "      <td>1</td>\n",
       "      <td>1</td>\n",
       "      <td>2</td>\n",
       "      <td>1</td>\n",
       "      <td>...</td>\n",
       "      <td>2</td>\n",
       "      <td>1</td>\n",
       "      <td>1</td>\n",
       "      <td>1</td>\n",
       "      <td>2</td>\n",
       "      <td>1</td>\n",
       "      <td>1</td>\n",
       "      <td>2</td>\n",
       "      <td>16</td>\n",
       "      <td>1</td>\n",
       "    </tr>\n",
       "  </tbody>\n",
       "</table>\n",
       "<p>1 rows × 25 columns</p>\n",
       "</div>"
      ],
      "text/plain": [
       "year  1919  1920  1921  1922  1923  1924  1925  1927  1930  1932  ...  1966  \\\n",
       "0       29    30    26    26     3     2     1     1     2     1  ...     2   \n",
       "\n",
       "year  1967  1970  1972  1976  1980  1988  1991  2000  2006  \n",
       "0        1     1     1     2     1     1     2    16     1  \n",
       "\n",
       "[1 rows x 25 columns]"
      ]
     },
     "execution_count": 37,
     "metadata": {},
     "output_type": "execute_result"
    }
   ],
   "source": [
    "pd.DataFrame(docs.groupby('year').size().tail(25)).transpose()"
   ]
  },
  {
   "cell_type": "markdown",
   "metadata": {},
   "source": [
    "The beginning of the histogram also contains an apparent anomaly, with a spike in publication count in the 11th century. As the table below shows, this is likely due to the disproportionate likelihood of the number 1000 appearing in a text."
   ]
  },
  {
   "cell_type": "markdown",
   "metadata": {},
   "source": [
    "We'll filter out this anomaly as well as the smaller number of publications after 1922."
   ]
  },
  {
   "cell_type": "code",
   "execution_count": 40,
   "metadata": {},
   "outputs": [
    {
     "data": {
      "text/html": [
       "<div>\n",
       "<style scoped>\n",
       "    .dataframe tbody tr th:only-of-type {\n",
       "        vertical-align: middle;\n",
       "    }\n",
       "\n",
       "    .dataframe tbody tr th {\n",
       "        vertical-align: top;\n",
       "    }\n",
       "\n",
       "    .dataframe thead th {\n",
       "        text-align: right;\n",
       "    }\n",
       "</style>\n",
       "<table border=\"1\" class=\"dataframe\">\n",
       "  <thead>\n",
       "    <tr style=\"text-align: right;\">\n",
       "      <th>year</th>\n",
       "      <th>1000</th>\n",
       "      <th>1001</th>\n",
       "      <th>1002</th>\n",
       "      <th>1007</th>\n",
       "      <th>1035</th>\n",
       "      <th>1050</th>\n",
       "      <th>1066</th>\n",
       "      <th>1090</th>\n",
       "      <th>1092</th>\n",
       "      <th>1099</th>\n",
       "    </tr>\n",
       "  </thead>\n",
       "  <tbody>\n",
       "    <tr>\n",
       "      <th>0</th>\n",
       "      <td>10</td>\n",
       "      <td>3</td>\n",
       "      <td>1</td>\n",
       "      <td>2</td>\n",
       "      <td>2</td>\n",
       "      <td>2</td>\n",
       "      <td>2</td>\n",
       "      <td>1</td>\n",
       "      <td>1</td>\n",
       "      <td>2</td>\n",
       "    </tr>\n",
       "  </tbody>\n",
       "</table>\n",
       "</div>"
      ],
      "text/plain": [
       "year  1000  1001  1002  1007  1035  1050  1066  1090  1092  1099\n",
       "0       10     3     1     2     2     2     2     1     1     2"
      ]
     },
     "execution_count": 40,
     "metadata": {},
     "output_type": "execute_result"
    }
   ],
   "source": [
    "pd.DataFrame(docs.groupby('year').size().head(10)).transpose()"
   ]
  },
  {
   "cell_type": "code",
   "execution_count": 27,
   "metadata": {},
   "outputs": [],
   "source": [
    "docs = docs[(docs['year'] > 1000) & (docs['year'] < 1923)]"
   ]
  },
  {
   "cell_type": "markdown",
   "metadata": {},
   "source": [
    "### Outlier removal"
   ]
  },
  {
   "cell_type": "markdown",
   "metadata": {},
   "source": [
    "We still have some outliers to account for, as indicated in the box plot below."
   ]
  },
  {
   "cell_type": "code",
   "execution_count": 28,
   "metadata": {},
   "outputs": [
    {
     "data": {
      "image/png": "[encoded data removed]",
      "text/plain": [
       "<Figure size 432x288 with 1 Axes>"
      ]
     },
     "metadata": {
      "needs_background": "light"
     },
     "output_type": "display_data"
    }
   ],
   "source": [
    "sns_data = sns.boxplot(docs['year'])"
   ]
  },
  {
   "cell_type": "markdown",
   "metadata": {},
   "source": [
    "We'll restrict our attention to the range of years between the min and max whiskers. These can be computed from the interquartile range (the difference between the first and third quartiles)."
   ]
  },
  {
   "cell_type": "code",
   "execution_count": 29,
   "metadata": {},
   "outputs": [],
   "source": [
    "iqr = docs['year'].quantile(0.75) - docs['year'].quantile(0.25)\n",
    "\n",
    "start = docs['year'].quantile(0.25) - 1.5 * iqr\n",
    "stop = docs['year'].quantile(0.75) + 1.5 * iqr\n",
    "\n",
    "docs = docs[(docs['year'] > start) & (docs['year'] < stop)]"
   ]
  },
  {
   "cell_type": "markdown",
   "metadata": {},
   "source": [
    "Within our selected range, the growth in the number of publications is much more regular."
   ]
  },
  {
   "cell_type": "code",
   "execution_count": 30,
   "metadata": {},
   "outputs": [
    {
     "data": {
      "image/png": "[encoded data removed]",
      "text/plain": [
       "<Figure size 432x288 with 1 Axes>"
      ]
     },
     "metadata": {
      "needs_background": "light"
     },
     "output_type": "display_data"
    }
   ],
   "source": [
    "_ = docs.hist('year')"
   ]
  },
  {
   "cell_type": "markdown",
   "metadata": {},
   "source": [
    "## A look at some coarse features"
   ]
  },
  {
   "cell_type": "code",
   "execution_count": null,
   "metadata": {},
   "outputs": [],
   "source": [
    "# construct the features dataframe for later use\n",
    "features = pd.DataFrame()\n",
    "features['year'] = docs['year']\n",
    "features['length'] = docs['text'].str.len()\n",
    "features['words'] = docs['text'].map(lambda text: len(text.split()))\n",
    "features['sentences'] = docs['text'].map(lambda text: len(text.split('.')))\n",
    "features['commas'] = docs['text'].map(lambda text: len(text.split(',')))"
   ]
  },
  {
   "cell_type": "code",
   "execution_count": 53,
   "metadata": {},
   "outputs": [],
   "source": [
    "features['avg word length'] = features['length'] / features['words']\n",
    "features['avg sentence length'] = features['words'] / features['sentences']\n",
    "features['avg commas'] = features['commas'] / features['words']"
   ]
  },
  {
   "cell_type": "code",
   "execution_count": 54,
   "metadata": {},
   "outputs": [
    {
     "data": {
      "image/png": "[encoded data removed]",
      "text/plain": [
       "<Figure size 720x720 with 3 Axes>"
      ]
     },
     "metadata": {
      "needs_background": "light"
     },
     "output_type": "display_data"
    }
   ],
   "source": [
    "_, axs = plt.subplots(3, figsize=(10, 10))\n",
    "features.plot.scatter(x='year', y='avg word length', ax=axs[0])\n",
    "features.plot.scatter(x='year', y='avg sentence length', ax=axs[1])\n",
    "_ = features.plot.scatter(x='year', y='avg commas', ax=axs[2])"
   ]
  },
  {
   "cell_type": "markdown",
   "metadata": {},
   "source": [
    "These features don't appear to have terribly much predictive power. However, they are somewhat informative: they indicate potential [heteroscedasticity](https://en.wikipedia.org/wiki/Heteroscedasticity) in the data. This means that the variability of the data is correlated to the data itself. The gradual \"spread\" in time in the above scatter plots is a hallmark of heteroscedasticity. Since the spread is quite slight, it may not actually be an issue."
   ]
  },
  {
   "cell_type": "markdown",
   "metadata": {},
   "source": [
    "## Preprocessing\n",
    "\n",
    "### Cleaning\n",
    "\n",
    "Our main goal is to see if we can infer publication date from the words contained in a text. However, we might also conjecture that certain non-word features, such as punctuation density, may have some weight on our regression strategy.\n",
    "\n",
    "The following first saves various punctuation statistics into a new dataframe and then cleans the texts, leaving only letters and white space. We filter out any remaining empty texts. Note that we didn't use Pandas' more concise [string methods](https://pandas.pydata.org/pandas-docs/stable/user_guide/text.html#string-methods) for this task, as we found them to be significantly slower."
   ]
  },
  {
   "cell_type": "code",
   "execution_count": 5,
   "metadata": {},
   "outputs": [
    {
     "name": "stdout",
     "output_type": "stream",
     "text": [
      "CPU times: user 1min 1s, sys: 8.5 s, total: 1min 9s\n",
      "Wall time: 1min 9s\n"
     ]
    }
   ],
   "source": [
    "%%time\n",
    "docs['text'] = docs['text'].str.replace('[^a-z\\s]', '').map(lambda text: ' '.join(text.split()))\n",
    "docs = docs[docs['text'].map(len) > 0]"
   ]
  },
  {
   "cell_type": "markdown",
   "metadata": {},
   "source": [
    "Here's an example of a cleaned text segment."
   ]
  },
  {
   "cell_type": "code",
   "execution_count": 5,
   "metadata": {},
   "outputs": [
    {
     "data": {
      "text/plain": [
       "'the right of translation if reserved printed by r r clark edinburgh to my children rose maurice and '"
      ]
     },
     "execution_count": 5,
     "metadata": {},
     "output_type": "execute_result"
    }
   ],
   "source": [
    "docs.loc[0, 'text'][:100]"
   ]
  },
  {
   "cell_type": "markdown",
   "metadata": {},
   "source": [
    "As we can see, we still have some front matter as well as named entities, which could potentially be used to date the document."
   ]
  },
  {
   "cell_type": "markdown",
   "metadata": {},
   "source": [
    "### Segment generation"
   ]
  },
  {
   "cell_type": "markdown",
   "metadata": {},
   "source": [
    "We presently have on training example per document. However, different documents may have greatly differing lengths. The various features in our dataset may be normalized by the document length, however we may have further issues if working with methods that require fixed length inputs.\n",
    "\n",
    "Below, we split each document into a number of text segments taken therefrom. This not only averts any of the potential issues mentioned above, but also artificially generates additional training data."
   ]
  },
  {
   "cell_type": "code",
   "execution_count": 6,
   "metadata": {},
   "outputs": [
    {
     "name": "stdout",
     "output_type": "stream",
     "text": [
      "CPU times: user 24.3 s, sys: 1.34 s, total: 25.6 s\n",
      "Wall time: 25.7 s\n"
     ]
    }
   ],
   "source": [
    "%%time\n",
    "SEG_LENGTH = 1000\n",
    "\n",
    "def split_text(text, seg_length=SEG_LENGTH):\n",
    "    words = text.split()\n",
    "    return [' '.join(words[i:i+seg_length]) for i in range(0, len(words), seg_length)]\n",
    "\n",
    "segments = pd.DataFrame(docs[['year', 'text']])\n",
    "segments['text'] = segments['text'].map(split_text)\n",
    "segments = segments.explode('text').dropna()"
   ]
  },
  {
   "cell_type": "markdown",
   "metadata": {},
   "source": [
    "### Undersampling"
   ]
  },
  {
   "cell_type": "markdown",
   "metadata": {},
   "source": [
    "Let's also create an undersampled collection of text segments.  First, we'll organize the segments into decades."
   ]
  },
  {
   "cell_type": "code",
   "execution_count": 7,
   "metadata": {},
   "outputs": [],
   "source": [
    "segs = pd.DataFrame()\n",
    "segs['year'] = segments['year']\n",
    "segs['text'] = segments['text']\n",
    "# segs['decade'] = pd.cut(segments.year, range(segments['year'].min(), segments['year'].max(), 10))\n",
    "segs['decade'] = pd.cut(segments.year, range(segments['year'].min(), segments['year'].max(), 30))"
   ]
  },
  {
   "cell_type": "markdown",
   "metadata": {},
   "source": [
    "Then we'll sample from each decade as many segments as possible while maintaining relative uniformity (i.e. as many samples as are contained in the decade with the fewest samples)."
   ]
  },
  {
   "cell_type": "code",
   "execution_count": 8,
   "metadata": {},
   "outputs": [],
   "source": [
    "decade_min = segs.groupby('decade').size().min()\n",
    "segs = segs.groupby('decade').apply(lambda df: df.sample(decade_min))"
   ]
  },
  {
   "cell_type": "markdown",
   "metadata": {},
   "source": [
    "The new year distribution is quite flat."
   ]
  },
  {
   "cell_type": "code",
   "execution_count": 11,
   "metadata": {},
   "outputs": [
    {
     "data": {
      "image/png": "[encoded data removed]",
      "text/plain": [
       "<Figure size 432x288 with 1 Axes>"
      ]
     },
     "metadata": {
      "needs_background": "light"
     },
     "output_type": "display_data"
    }
   ],
   "source": [
    "_ = sns.distplot(segs['year'], bins=10)"
   ]
  },
  {
   "cell_type": "markdown",
   "metadata": {},
   "source": [
    "However, we've lost quite a lot of data."
   ]
  },
  {
   "cell_type": "code",
   "execution_count": 42,
   "metadata": {},
   "outputs": [
    {
     "ename": "NameError",
     "evalue": "name 'segments' is not defined",
     "output_type": "error",
     "traceback": [
      "\u001b[0;31m---------------------------------------------------------------------------\u001b[0m",
      "\u001b[0;31mNameError\u001b[0m                                 Traceback (most recent call last)",
      "\u001b[0;32m<ipython-input-42-931ee4337ac7>\u001b[0m in \u001b[0;36m<module>\u001b[0;34m\u001b[0m\n\u001b[0;32m----> 1\u001b[0;31m \u001b[0mprint\u001b[0m\u001b[0;34m(\u001b[0m\u001b[0;34m'{} total segments'\u001b[0m\u001b[0;34m.\u001b[0m\u001b[0mformat\u001b[0m\u001b[0;34m(\u001b[0m\u001b[0mlen\u001b[0m\u001b[0;34m(\u001b[0m\u001b[0msegments\u001b[0m\u001b[0;34m)\u001b[0m\u001b[0;34m)\u001b[0m\u001b[0;34m)\u001b[0m\u001b[0;34m\u001b[0m\u001b[0;34m\u001b[0m\u001b[0m\n\u001b[0m\u001b[1;32m      2\u001b[0m \u001b[0mprint\u001b[0m\u001b[0;34m(\u001b[0m\u001b[0;34m'{} undersampled segments'\u001b[0m\u001b[0;34m.\u001b[0m\u001b[0mformat\u001b[0m\u001b[0;34m(\u001b[0m\u001b[0mlen\u001b[0m\u001b[0;34m(\u001b[0m\u001b[0msegs\u001b[0m\u001b[0;34m)\u001b[0m\u001b[0;34m)\u001b[0m\u001b[0;34m)\u001b[0m\u001b[0;34m\u001b[0m\u001b[0;34m\u001b[0m\u001b[0m\n",
      "\u001b[0;31mNameError\u001b[0m: name 'segments' is not defined"
     ]
    }
   ],
   "source": [
    "print('{} total segments'.format(len(segments)))\n",
    "print('{} undersampled segments'.format(len(segs)))"
   ]
  },
  {
   "cell_type": "markdown",
   "metadata": {},
   "source": [
    "## Bag-of-words representation"
   ]
  },
  {
   "cell_type": "markdown",
   "metadata": {},
   "source": [
    "A more refined analysis can be obtained by using word frequencies as features. This can be done using a [bag-of-words model](https://en.wikipedia.org/wiki/Bag-of-words_model), in which a text is represented as a vector whose components components correspond to words in a vocabulary. The values of a component is a measure of the frequency of that word in the document.\n",
    "\n",
    "Simply counting the number of occurences of a word is often a poor measure of frequency, as it may merely be indicative of text size (however, it is sensible in some situations, such as when performing classification with multinomial [naive Bayes](https://en.wikipedia.org/wiki/Naive_Bayes_classifier)). A better solution would be to scale by the total number of words in a text.\n",
    "\n",
    "An even more sophisticated approach is to look at the frequency of a word in a text in comparison to its frequency  in a corpus of texts. This is accomplished by the [tf-idf](https://en.wikipedia.org/wiki/Tf%E2%80%93idf), or term frequency-inverse document frequency.\n",
    "\n",
    "Note that we don't remove stop words below, which are known to be useful in stylometry."
   ]
  },
  {
   "cell_type": "code",
   "execution_count": 12,
   "metadata": {},
   "outputs": [
    {
     "name": "stdout",
     "output_type": "stream",
     "text": [
      "CPU times: user 2.79 s, sys: 196 ms, total: 2.98 s\n",
      "Wall time: 3 s\n"
     ]
    }
   ],
   "source": [
    "%%time\n",
    "from sklearn.feature_extraction.text import TfidfVectorizer\n",
    "\n",
    "vectorizer = TfidfVectorizer(max_features=100_000)\n",
    "X = vectorizer.fit_transform(segs['text'])"
   ]
  },
  {
   "cell_type": "markdown",
   "metadata": {},
   "source": [
    "The resulting matrix `X` contains one row per text segment and each row has length equal to the vocabulary fit by the vectorizer (which results from our choice of `min_df`). Each row will act as an input variable."
   ]
  },
  {
   "cell_type": "code",
   "execution_count": 10,
   "metadata": {},
   "outputs": [
    {
     "name": "stdout",
     "output_type": "stream",
     "text": [
      "Number of segments: 15732\n",
      "Vocabulary size: 100000\n"
     ]
    }
   ],
   "source": [
    "print('Number of segments: {}\\nVocabulary size: {}'.format(X.shape[0], X.shape[1]))"
   ]
  },
  {
   "cell_type": "markdown",
   "metadata": {},
   "source": [
    "Note that `X` has type `csr_matrix`."
   ]
  },
  {
   "cell_type": "code",
   "execution_count": 393,
   "metadata": {},
   "outputs": [
    {
     "data": {
      "text/plain": [
       "scipy.sparse.csr.csr_matrix"
      ]
     },
     "execution_count": 393,
     "metadata": {},
     "output_type": "execute_result"
    }
   ],
   "source": [
    "type(X)"
   ]
  },
  {
   "cell_type": "markdown",
   "metadata": {},
   "source": [
    "This is because bag-of-words vectors are typically sparse: they will contain many 0 entries corresponding to absences of vocabulary words in a text. The `size` attribute of a `csr_matrix` indicates the number of non-zero values it contains, so we can compute the sparsity of `X` as follows."
   ]
  },
  {
   "cell_type": "code",
   "execution_count": 31,
   "metadata": {},
   "outputs": [
    {
     "data": {
      "text/plain": [
       "0.020844056712962963"
      ]
     },
     "execution_count": 31,
     "metadata": {},
     "output_type": "execute_result"
    }
   ],
   "source": [
    "X.size / X.todense().size"
   ]
  },
  {
   "cell_type": "markdown",
   "metadata": {},
   "source": [
    "It's typical to shift and scale data prior to learning, but shifting will eliminate sparsity. Scaling could be useful, but our data is at least normalized for now, so we'll put that off.\n",
    "\n",
    "Let's construct the target variables `y` from the corresponding publication dates and split `(X, y)` into training and test sets."
   ]
  },
  {
   "cell_type": "code",
   "execution_count": 42,
   "metadata": {},
   "outputs": [],
   "source": [
    "from sklearn.preprocessing import StandardScaler\n",
    "X = StandardScaler().fit_transform(X.todense())"
   ]
  },
  {
   "cell_type": "code",
   "execution_count": 43,
   "metadata": {},
   "outputs": [],
   "source": [
    "y = segs['year']\n",
    "X_train, X_test, y_train, y_test = train_test_split(X, y, test_size=0.2)"
   ]
  },
  {
   "cell_type": "markdown",
   "metadata": {},
   "source": [
    "## Ordinary least squares: A first attempt"
   ]
  },
  {
   "cell_type": "markdown",
   "metadata": {},
   "source": [
    "Let's apply simple linear regression to our bag-of-words vectors."
   ]
  },
  {
   "cell_type": "code",
   "execution_count": 44,
   "metadata": {},
   "outputs": [
    {
     "name": "stdout",
     "output_type": "stream",
     "text": [
      "CPU times: user 1min 2s, sys: 35.7 s, total: 1min 37s\n",
      "Wall time: 1min 19s\n"
     ]
    },
    {
     "data": {
      "text/plain": [
       "0.449029923984789"
      ]
     },
     "execution_count": 44,
     "metadata": {},
     "output_type": "execute_result"
    }
   ],
   "source": [
    "%%time\n",
    "from sklearn.linear_model import LinearRegression\n",
    "linreg = LinearRegression()\n",
    "linreg.fit(X_train, y_train)\n",
    "linreg.score(X_test, y_test)"
   ]
  },
  {
   "cell_type": "markdown",
   "metadata": {},
   "source": [
    "This isn't too good, but our representation and model are extremely simple. In fact, we're overfitting quite a lot, which isn't too surprising since our data is so high-dimensional. We'll try to get out of this in the two following ways:\n",
    "\n",
    "* Feature selection via dimensional reduction or lasso regularization.\n",
    "* Ensemble methods.\n",
    "\n",
    "The $R^2$ is a rather crude metric; better understand our model with a scatter plot of predictions against true values."
   ]
  },
  {
   "cell_type": "code",
   "execution_count": 17,
   "metadata": {},
   "outputs": [
    {
     "data": {
      "image/png": "[encoded data removed]",
      "text/plain": [
       "<Figure size 432x288 with 1 Axes>"
      ]
     },
     "metadata": {
      "needs_background": "light"
     },
     "output_type": "display_data"
    }
   ],
   "source": [
    "# plt.plot([start, stop], [start, stop], c='r')\n",
    "plt.plot([1400, 2000], [1400, 2000], c='r')\n",
    "_ = plt.scatter(y_test, linreg.predict(X_test))"
   ]
  },
  {
   "cell_type": "markdown",
   "metadata": {},
   "source": [
    "A perfect model would have all the points on the line $y = x$. Above, we see that, while our model appears to be correct *on average*, it makes quite a lot of mistakes: in fact, the spread of estimated years for a given true year appears to be almost a century."
   ]
  },
  {
   "cell_type": "markdown",
   "metadata": {},
   "source": [
    "## Classification: Changing the problem\n",
    "\n",
    "Let's try an easier problem. We'll try to classify the time period of a document. We'll split our full range of dates by the median. Note that this resolves any data imbalance, so we can use the fully sampled `segments` dataframe."
   ]
  },
  {
   "cell_type": "code",
   "execution_count": 166,
   "metadata": {},
   "outputs": [],
   "source": [
    "X = vectorizer.fit_transform(segments['text'])"
   ]
  },
  {
   "cell_type": "code",
   "execution_count": 167,
   "metadata": {},
   "outputs": [],
   "source": [
    "median = segments['year'].quantile()\n",
    "y = segments['year']\n",
    "t = y < median"
   ]
  },
  {
   "cell_type": "markdown",
   "metadata": {},
   "source": [
    "We'll split `y` in addition to `X` and `t` so that we can analyze our classification errors later."
   ]
  },
  {
   "cell_type": "code",
   "execution_count": 156,
   "metadata": {},
   "outputs": [],
   "source": [
    "X_train, X_test, y_train, y_test, t_train, t_test = train_test_split(X, y, t, test_size=0.2)"
   ]
  },
  {
   "cell_type": "markdown",
   "metadata": {},
   "source": [
    "Let's test a battery of simple classifiers to get an idea of the kind of performance we might expect. We'll start with logistic regression and a linear support vector machine."
   ]
  },
  {
   "cell_type": "code",
   "execution_count": 157,
   "metadata": {},
   "outputs": [
    {
     "name": "stdout",
     "output_type": "stream",
     "text": [
      "CPU times: user 2min 58s, sys: 1.66 s, total: 3min\n",
      "Wall time: 1min 31s\n"
     ]
    },
    {
     "data": {
      "text/plain": [
       "0.8839204926884796"
      ]
     },
     "execution_count": 157,
     "metadata": {},
     "output_type": "execute_result"
    }
   ],
   "source": [
    "%%time\n",
    "from sklearn.linear_model import LogisticRegression\n",
    "\n",
    "logreg = LogisticRegression(solver='lbfgs', max_iter=500)\n",
    "logreg.fit(X_train, t_train)\n",
    "logreg.score(X_test, t_test)"
   ]
  },
  {
   "cell_type": "code",
   "execution_count": 158,
   "metadata": {},
   "outputs": [
    {
     "name": "stdout",
     "output_type": "stream",
     "text": [
      "CPU times: user 10.9 s, sys: 1.38 s, total: 12.3 s\n",
      "Wall time: 18.9 s\n"
     ]
    },
    {
     "data": {
      "text/plain": [
       "0.9103937421558039"
      ]
     },
     "execution_count": 158,
     "metadata": {},
     "output_type": "execute_result"
    }
   ],
   "source": [
    "%%time\n",
    "from sklearn.svm import LinearSVC\n",
    "\n",
    "svm = LinearSVC()\n",
    "svm.fit(X_train, t_train)\n",
    "svm.score(X_test, t_test)"
   ]
  },
  {
   "cell_type": "markdown",
   "metadata": {},
   "source": [
    "Let's have a look at the confusion matrix."
   ]
  },
  {
   "cell_type": "code",
   "execution_count": 57,
   "metadata": {},
   "outputs": [
    {
     "data": {
      "text/plain": [
       "<sklearn.metrics._plot.confusion_matrix.ConfusionMatrixDisplay at 0x7f800036c4d0>"
      ]
     },
     "execution_count": 57,
     "metadata": {},
     "output_type": "execute_result"
    },
    {
     "data": {
      "image/png": "[encoded data removed]",
      "text/plain": [
       "<Figure size 432x288 with 2 Axes>"
      ]
     },
     "metadata": {
      "needs_background": "light"
     },
     "output_type": "display_data"
    }
   ],
   "source": [
    "from sklearn.metrics import plot_confusion_matrix\n",
    "\n",
    "plot_confusion_matrix(logreg, X_test, t_test)"
   ]
  },
  {
   "cell_type": "markdown",
   "metadata": {},
   "source": [
    "We can also try a Naive Bayes classifier. In this case, it's natural to use a count vectorizer, which abstains from any kind of normalization, and to model the bag-of-word vectors as coming from a multinomial distribution."
   ]
  },
  {
   "cell_type": "code",
   "execution_count": 180,
   "metadata": {},
   "outputs": [
    {
     "data": {
      "text/plain": [
       "0.8417312661498708"
      ]
     },
     "execution_count": 180,
     "metadata": {},
     "output_type": "execute_result"
    }
   ],
   "source": [
    "from sklearn.feature_extraction.text import CountVectorizer\n",
    "from sklearn.naive_bayes import MultinomialNB\n",
    "\n",
    "X_count = CountVectorizer(max_features=100_000).fit_transform(segments['text'])\n",
    "\n",
    "X_count_train, X_count_test, t_train, t_test = train_test_split(X, t, test_size=0.2)\n",
    "\n",
    "nb = MultinomialNB()\n",
    "nb.fit(X_count_train, t_train)\n",
    "nb.score(X_count_test, t_test)"
   ]
  },
  {
   "cell_type": "markdown",
   "metadata": {},
   "source": [
    "### Reducing ambiguity"
   ]
  },
  {
   "cell_type": "markdown",
   "metadata": {},
   "source": [
    "Treating a regression problem as binary classification can have its downsides; after all, we're \"forcing\" the data into two groups when in fact a continuum of possibilities exists. In this case, we're creating a sharp distinction between \"early\" and \"late\" works. While a distinction is likely to exist, it's unlikely to be sharp. Thus, we're introducing classification errors from texts whose publication date may truly be ambiguous. Indeed, even a human expert would likely struggle with this problem.\n",
    "\n",
    "Based on this, we would expect better classifcation performance when a greater divide between the two time periods is introduced. Below, we extract text segments from the first and fourth quartiles of our time range. This isn't merely simplifying the problem again; rather, we're treating a problem that is more natural."
   ]
  },
  {
   "cell_type": "code",
   "execution_count": 159,
   "metadata": {},
   "outputs": [],
   "source": [
    "p = segments['year'].quantile(0.25)\n",
    "q = segments['year'].quantile(0.75)\n",
    "\n",
    "split_segments = segments[(segments['year'] < p) | (segments['year'] > q)]"
   ]
  },
  {
   "cell_type": "code",
   "execution_count": 160,
   "metadata": {},
   "outputs": [],
   "source": [
    "vectorizer = TfidfVectorizer(max_features=100_000)\n",
    "X = vectorizer.fit_transform(split_segments['text'])\n",
    "y = split_segments['year']\n",
    "t = y < p"
   ]
  },
  {
   "cell_type": "code",
   "execution_count": 81,
   "metadata": {},
   "outputs": [],
   "source": [
    "from sklearn.preprocessing import StandardScaler\n",
    "X = StandardScaler(with_mean=False).fit_transform(X)"
   ]
  },
  {
   "cell_type": "code",
   "execution_count": 161,
   "metadata": {},
   "outputs": [],
   "source": [
    "X_train, X_test, t_train, t_test = train_test_split(X, t, test_size=0.2)"
   ]
  },
  {
   "cell_type": "code",
   "execution_count": 162,
   "metadata": {},
   "outputs": [
    {
     "data": {
      "text/plain": [
       "0.9221486038807383"
      ]
     },
     "execution_count": 162,
     "metadata": {},
     "output_type": "execute_result"
    }
   ],
   "source": [
    "from sklearn.linear_model import LogisticRegression\n",
    "logreg = LogisticRegression(max_iter=500)\n",
    "logreg.fit(X_train, t_train)\n",
    "logreg.score(X_test, t_test)"
   ]
  },
  {
   "cell_type": "code",
   "execution_count": 163,
   "metadata": {},
   "outputs": [
    {
     "data": {
      "text/plain": [
       "0.9492427827733081"
      ]
     },
     "execution_count": 163,
     "metadata": {},
     "output_type": "execute_result"
    }
   ],
   "source": [
    "from sklearn.svm import LinearSVC\n",
    "svm = LinearSVC(max_iter=500)\n",
    "svm.fit(X_train, t_train)\n",
    "svm.score(X_test, t_test)"
   ]
  },
  {
   "cell_type": "markdown",
   "metadata": {},
   "source": [
    "## Dimensional reduction"
   ]
  },
  {
   "cell_type": "code",
   "execution_count": null,
   "metadata": {},
   "outputs": [],
   "source": [
    "%%time\n",
    "from sklearn.decomposition import TruncatedSVD\n",
    "svd = TruncatedSVD(n_components=10_000)\n",
    "X_red = svd.fit_transform(X)"
   ]
  },
  {
   "cell_type": "code",
   "execution_count": 101,
   "metadata": {},
   "outputs": [],
   "source": [
    "X_scaled = StandardScaler().fit_transform(X_red)"
   ]
  },
  {
   "cell_type": "code",
   "execution_count": 120,
   "metadata": {},
   "outputs": [],
   "source": [
    "X_train, X_test, y_train, y_test = train_test_split(X_scaled, y, test_size=0.2)"
   ]
  },
  {
   "cell_type": "code",
   "execution_count": 125,
   "metadata": {},
   "outputs": [
    {
     "data": {
      "text/plain": [
       "-0.08443248901236022"
      ]
     },
     "execution_count": 125,
     "metadata": {},
     "output_type": "execute_result"
    }
   ],
   "source": [
    "reg = Lasso(alpha=0.01)\n",
    "reg.fit(X_train, y_train)\n",
    "reg.score(X_test, y_test)"
   ]
  }
 ],
 "metadata": {
  "kernelspec": {
   "display_name": "Python 3",
   "language": "python",
   "name": "python3"
  },
  "language_info": {
   "codemirror_mode": {
    "name": "ipython",
    "version": 3
   },
   "file_extension": ".py",
   "mimetype": "text/x-python",
   "name": "python",
   "nbconvert_exporter": "python",
   "pygments_lexer": "ipython3",
   "version": "3.7.3"
  }
 },
 "nbformat": 4,
 "nbformat_minor": 2
}
