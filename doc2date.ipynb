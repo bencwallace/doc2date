{
 "cells": [
  {
   "cell_type": "markdown",
   "metadata": {},
   "source": [
    "# doc2date: A Look at Document Regression"
   ]
  },
  {
   "cell_type": "markdown",
   "metadata": {},
   "source": [
    "[Document classification](https://en.wikipedia.org/wiki/Document_classification) is a common application of machine learning techniques. Examples include [sentiment analysis](https://en.wikipedia.org/wiki/Sentiment_analysis), the classification of texts into a (typically small) number of moods (such as \"positive\" and \"negative\"); as well as authorship attribution in [stylometry](https://en.wikipedia.org/wiki/Stylometry), in which texts are grouped according to their original author.\n",
    "\n",
    "Unsupersived learning methods have also been applied to the analysis of documents. For instance, [doc2vec](https://arxiv.org/pdf/1405.4053v2.pdf) is a dimensionality reduction technique that extends [word embeddings](https://en.wikipedia.org/wiki/Word_embedding) to entire documents.\n",
    "\n",
    "But what about document *regression*? In this notebook, we investigate the problem of learning the date of a publication from the text contained therein. Since the target space, a range of years, can be viewed as a continuum, this problem presents a natural test case for applying regression techniques to document analysis."
   ]
  },
  {
   "cell_type": "code",
   "execution_count": 1,
   "metadata": {},
   "outputs": [],
   "source": [
    "import csv\n",
    "import pickle\n",
    "import re\n",
    "import os\n",
    "import string\n",
    "\n",
    "import matplotlib.pyplot as plt\n",
    "import nltk\n",
    "import numpy as np\n",
    "import pandas as pd\n",
    "import seaborn as sns\n",
    "\n",
    "from sklearn.linear_model import Lasso, LinearRegression, Ridge\n",
    "from sklearn.model_selection import train_test_split\n",
    "from sklearn.preprocessing import StandardScaler"
   ]
  },
  {
   "cell_type": "markdown",
   "metadata": {},
   "source": [
    "## Contents\n",
    "\n",
    "1. [Contents](#Contents)\n",
    "2. [HTRC word frequencies dataset](#HTRC-word-frequencies-dataset)\n",
    "3. [Correlated features](#Correlated-features)\n",
    "4. [A lesson in scaling](#A-lesson-in-scaling)\n",
    "5. [Regression analysis](#Regression-analysis)\n",
    "6. [Further work on the HTRC dataset](#Further-work-on-the-HTRC-dataset)\n",
    "7. [The Gutenberg dataset](#The-Gutenberg-dataset)\n",
    "8. [Outlier removal](#Outlier-removal)\n",
    "9. [A look at some coarse features](#A-look-at-some-coarse-features)\n",
    "10. [Preprocessing](#Preprocessing)\n",
    "11. [Cleaning](#Cleaning)\n",
    "12. [Segment generation](#Segment-generation)\n",
    "13. [Undersampling](#Undersampling)\n",
    "14. [Bag-of-words representation](#Bag-of-words-representation)\n",
    "15. [Ordinary least squares: A first attempt](#Ordinary-least-squares:-A-first-attempt)\n",
    "16. [Classification: Changing the problem](#Classification:-Changing-the-problem)\n",
    "17. [Reducing ambiguity](#Reducing-ambiguity)\n",
    "18. [Dimensional reduction](#Dimensional-reduction)\n"
   ]
  },
  {
   "cell_type": "markdown",
   "metadata": {},
   "source": [
    "## HTRC word frequencies dataset\n",
    "\n",
    "We'll begin our analysis with the following dataset derived from the [HathiTrust](https://htrc.illinois.edu/) research center: [Word frequencies in English-Language Literature, 1700-1922](https://wiki.htrc.illinois.edu/display/COM/Word+Frequencies+in+English-Language+Literature%2C+1700-1922). This dataset contains word frequencies compiled from 178 831 volumes published over a 223-year period. The data is separated by content of the volumes: fiction, poetry, and drama. Frequency counts of individual volumes and aggregated counts over each year are available, as well as volume metadata.\n",
    "\n",
    "We'll start by looking at yearly aggregate data for fiction, the largest of the three sub-collections. We'll ignore the OCR correction labels for now. Note that the documentation for this dataset specifies that there are three \"special\" tokens: \"#ALLTOKENS\", \"#ALPHABETIC\", AND \"#DICTIONARYWORD\". We'll drop these from the table for now, but save them in case we need them later."
   ]
  },
  {
   "cell_type": "code",
   "execution_count": 2,
   "metadata": {},
   "outputs": [],
   "source": [
    "htrc_dir = 'data/htrc'\n",
    "htrc_file = 'fiction_yearly_summary.csv'\n",
    "\n",
    "htrc = pd.read_csv(os.path.join(htrc_dir, htrc_file), usecols=['year', 'word', 'termfreq'])\n",
    "\n",
    "htrc_special = htrc[htrc['word'].str.contains('#')]\n",
    "htrc = htrc[~htrc['word'].str.contains('#')]"
   ]
  },
  {
   "cell_type": "markdown",
   "metadata": {},
   "source": [
    "Taking a quick look at this dataframe, we see that it essentially consists of frequency assignments to `(year, word)` pairs."
   ]
  },
  {
   "cell_type": "code",
   "execution_count": 3,
   "metadata": {},
   "outputs": [
    {
     "data": {
      "text/html": [
       "<div>\n",
       "<style scoped>\n",
       "    .dataframe tbody tr th:only-of-type {\n",
       "        vertical-align: middle;\n",
       "    }\n",
       "\n",
       "    .dataframe tbody tr th {\n",
       "        vertical-align: top;\n",
       "    }\n",
       "\n",
       "    .dataframe thead th {\n",
       "        text-align: right;\n",
       "    }\n",
       "</style>\n",
       "<table border=\"1\" class=\"dataframe\">\n",
       "  <thead>\n",
       "    <tr style=\"text-align: right;\">\n",
       "      <th></th>\n",
       "      <th>0</th>\n",
       "      <th>1</th>\n",
       "      <th>2</th>\n",
       "      <th>3</th>\n",
       "      <th>4</th>\n",
       "      <th>5</th>\n",
       "      <th>6</th>\n",
       "      <th>7</th>\n",
       "      <th>8</th>\n",
       "      <th>9</th>\n",
       "    </tr>\n",
       "  </thead>\n",
       "  <tbody>\n",
       "    <tr>\n",
       "      <th>year</th>\n",
       "      <td>1701</td>\n",
       "      <td>1701</td>\n",
       "      <td>1701</td>\n",
       "      <td>1701</td>\n",
       "      <td>1701</td>\n",
       "      <td>1701</td>\n",
       "      <td>1701</td>\n",
       "      <td>1701</td>\n",
       "      <td>1701</td>\n",
       "      <td>1701</td>\n",
       "    </tr>\n",
       "    <tr>\n",
       "      <th>word</th>\n",
       "      <td>'</td>\n",
       "      <td>a</td>\n",
       "      <td>further</td>\n",
       "      <td>native</td>\n",
       "      <td>forgot</td>\n",
       "      <td>mayor</td>\n",
       "      <td>wonder</td>\n",
       "      <td>incapable</td>\n",
       "      <td>reflections</td>\n",
       "      <td>absence</td>\n",
       "    </tr>\n",
       "    <tr>\n",
       "      <th>termfreq</th>\n",
       "      <td>162</td>\n",
       "      <td>813</td>\n",
       "      <td>2</td>\n",
       "      <td>1</td>\n",
       "      <td>9</td>\n",
       "      <td>1</td>\n",
       "      <td>13</td>\n",
       "      <td>3</td>\n",
       "      <td>5</td>\n",
       "      <td>5</td>\n",
       "    </tr>\n",
       "  </tbody>\n",
       "</table>\n",
       "</div>"
      ],
      "text/plain": [
       "             0     1        2       3       4      5       6          7  \\\n",
       "year      1701  1701     1701    1701    1701   1701    1701       1701   \n",
       "word         '     a  further  native  forgot  mayor  wonder  incapable   \n",
       "termfreq   162   813        2       1       9      1      13          3   \n",
       "\n",
       "                    8        9  \n",
       "year             1701     1701  \n",
       "word      reflections  absence  \n",
       "termfreq            5        5  "
      ]
     },
     "execution_count": 3,
     "metadata": {},
     "output_type": "execute_result"
    }
   ],
   "source": [
    "htrc.head(10).transpose()"
   ]
  },
  {
   "cell_type": "markdown",
   "metadata": {},
   "source": [
    "We'd like to organize this data into a term frequency matrix with rows corresponding to years and columns to words. First, we'll extract unique words and years from this dataframe and we'll tokenize the words."
   ]
  },
  {
   "cell_type": "code",
   "execution_count": 3,
   "metadata": {},
   "outputs": [],
   "source": [
    "token2word = dict(enumerate(htrc['word'].unique()))\n",
    "word2token = { v: k for k, v in token2word.items() }\n",
    "\n",
    "vocab_size = len(token2word)\n",
    "htrc['token'] = htrc['word'].map(word2token)"
   ]
  },
  {
   "cell_type": "markdown",
   "metadata": {},
   "source": [
    "We'll re-organize the dataframe using a hierarchical multi-index, so that we can add 0 counts to words missing from any years."
   ]
  },
  {
   "cell_type": "code",
   "execution_count": 4,
   "metadata": {},
   "outputs": [],
   "source": [
    "htrc = htrc.set_index(['year', 'token'])\n",
    "\n",
    "index = pd.MultiIndex.from_product([htrc.index.levels[0], range(0, vocab_size)])\n",
    "htrc = htrc.reindex(index).fillna(0)"
   ]
  },
  {
   "cell_type": "markdown",
   "metadata": {},
   "source": [
    "The hierarchical indexing is convenient, because we can now simply `unstack` our dataframe into a matrix."
   ]
  },
  {
   "cell_type": "code",
   "execution_count": 6,
   "metadata": {},
   "outputs": [
    {
     "data": {
      "text/html": [
       "<div>\n",
       "<style scoped>\n",
       "    .dataframe tbody tr th:only-of-type {\n",
       "        vertical-align: middle;\n",
       "    }\n",
       "\n",
       "    .dataframe tbody tr th {\n",
       "        vertical-align: top;\n",
       "    }\n",
       "\n",
       "    .dataframe thead th {\n",
       "        text-align: right;\n",
       "    }\n",
       "</style>\n",
       "<table border=\"1\" class=\"dataframe\">\n",
       "  <thead>\n",
       "    <tr style=\"text-align: right;\">\n",
       "      <th></th>\n",
       "      <th>0</th>\n",
       "      <th>1</th>\n",
       "      <th>2</th>\n",
       "      <th>3</th>\n",
       "      <th>4</th>\n",
       "      <th>5</th>\n",
       "      <th>6</th>\n",
       "      <th>7</th>\n",
       "      <th>8</th>\n",
       "      <th>9</th>\n",
       "      <th>...</th>\n",
       "      <th>9990</th>\n",
       "      <th>9991</th>\n",
       "      <th>9992</th>\n",
       "      <th>9993</th>\n",
       "      <th>9994</th>\n",
       "      <th>9995</th>\n",
       "      <th>9996</th>\n",
       "      <th>9997</th>\n",
       "      <th>9998</th>\n",
       "      <th>9999</th>\n",
       "    </tr>\n",
       "    <tr>\n",
       "      <th>year</th>\n",
       "      <th></th>\n",
       "      <th></th>\n",
       "      <th></th>\n",
       "      <th></th>\n",
       "      <th></th>\n",
       "      <th></th>\n",
       "      <th></th>\n",
       "      <th></th>\n",
       "      <th></th>\n",
       "      <th></th>\n",
       "      <th></th>\n",
       "      <th></th>\n",
       "      <th></th>\n",
       "      <th></th>\n",
       "      <th></th>\n",
       "      <th></th>\n",
       "      <th></th>\n",
       "      <th></th>\n",
       "      <th></th>\n",
       "      <th></th>\n",
       "      <th></th>\n",
       "    </tr>\n",
       "  </thead>\n",
       "  <tbody>\n",
       "    <tr>\n",
       "      <th>1701</th>\n",
       "      <td>162.0</td>\n",
       "      <td>813.0</td>\n",
       "      <td>2.0</td>\n",
       "      <td>1.0</td>\n",
       "      <td>9.0</td>\n",
       "      <td>1.0</td>\n",
       "      <td>13.0</td>\n",
       "      <td>3.0</td>\n",
       "      <td>5.0</td>\n",
       "      <td>5.0</td>\n",
       "      <td>...</td>\n",
       "      <td>0.0</td>\n",
       "      <td>0.0</td>\n",
       "      <td>0.0</td>\n",
       "      <td>0.0</td>\n",
       "      <td>0.0</td>\n",
       "      <td>0.0</td>\n",
       "      <td>0.0</td>\n",
       "      <td>0.0</td>\n",
       "      <td>0.0</td>\n",
       "      <td>0.0</td>\n",
       "    </tr>\n",
       "    <tr>\n",
       "      <th>1702</th>\n",
       "      <td>31.0</td>\n",
       "      <td>252.0</td>\n",
       "      <td>4.0</td>\n",
       "      <td>0.0</td>\n",
       "      <td>0.0</td>\n",
       "      <td>0.0</td>\n",
       "      <td>2.0</td>\n",
       "      <td>0.0</td>\n",
       "      <td>0.0</td>\n",
       "      <td>0.0</td>\n",
       "      <td>...</td>\n",
       "      <td>0.0</td>\n",
       "      <td>0.0</td>\n",
       "      <td>0.0</td>\n",
       "      <td>0.0</td>\n",
       "      <td>0.0</td>\n",
       "      <td>0.0</td>\n",
       "      <td>0.0</td>\n",
       "      <td>0.0</td>\n",
       "      <td>0.0</td>\n",
       "      <td>0.0</td>\n",
       "    </tr>\n",
       "    <tr>\n",
       "      <th>1703</th>\n",
       "      <td>2495.0</td>\n",
       "      <td>6381.0</td>\n",
       "      <td>126.0</td>\n",
       "      <td>4.0</td>\n",
       "      <td>17.0</td>\n",
       "      <td>0.0</td>\n",
       "      <td>85.0</td>\n",
       "      <td>5.0</td>\n",
       "      <td>12.0</td>\n",
       "      <td>74.0</td>\n",
       "      <td>...</td>\n",
       "      <td>0.0</td>\n",
       "      <td>0.0</td>\n",
       "      <td>0.0</td>\n",
       "      <td>0.0</td>\n",
       "      <td>0.0</td>\n",
       "      <td>0.0</td>\n",
       "      <td>0.0</td>\n",
       "      <td>0.0</td>\n",
       "      <td>0.0</td>\n",
       "      <td>0.0</td>\n",
       "    </tr>\n",
       "    <tr>\n",
       "      <th>1706</th>\n",
       "      <td>224.0</td>\n",
       "      <td>700.0</td>\n",
       "      <td>6.0</td>\n",
       "      <td>3.0</td>\n",
       "      <td>0.0</td>\n",
       "      <td>0.0</td>\n",
       "      <td>13.0</td>\n",
       "      <td>0.0</td>\n",
       "      <td>1.0</td>\n",
       "      <td>10.0</td>\n",
       "      <td>...</td>\n",
       "      <td>0.0</td>\n",
       "      <td>0.0</td>\n",
       "      <td>0.0</td>\n",
       "      <td>0.0</td>\n",
       "      <td>0.0</td>\n",
       "      <td>0.0</td>\n",
       "      <td>0.0</td>\n",
       "      <td>0.0</td>\n",
       "      <td>0.0</td>\n",
       "      <td>0.0</td>\n",
       "    </tr>\n",
       "    <tr>\n",
       "      <th>1708</th>\n",
       "      <td>1556.0</td>\n",
       "      <td>10041.0</td>\n",
       "      <td>93.0</td>\n",
       "      <td>7.0</td>\n",
       "      <td>42.0</td>\n",
       "      <td>0.0</td>\n",
       "      <td>59.0</td>\n",
       "      <td>4.0</td>\n",
       "      <td>75.0</td>\n",
       "      <td>29.0</td>\n",
       "      <td>...</td>\n",
       "      <td>0.0</td>\n",
       "      <td>0.0</td>\n",
       "      <td>0.0</td>\n",
       "      <td>0.0</td>\n",
       "      <td>0.0</td>\n",
       "      <td>0.0</td>\n",
       "      <td>0.0</td>\n",
       "      <td>0.0</td>\n",
       "      <td>0.0</td>\n",
       "      <td>0.0</td>\n",
       "    </tr>\n",
       "  </tbody>\n",
       "</table>\n",
       "<p>5 rows × 10000 columns</p>\n",
       "</div>"
      ],
      "text/plain": [
       "        0        1      2     3     4     5     6     7     8     9     ...  \\\n",
       "year                                                                    ...   \n",
       "1701   162.0    813.0    2.0   1.0   9.0   1.0  13.0   3.0   5.0   5.0  ...   \n",
       "1702    31.0    252.0    4.0   0.0   0.0   0.0   2.0   0.0   0.0   0.0  ...   \n",
       "1703  2495.0   6381.0  126.0   4.0  17.0   0.0  85.0   5.0  12.0  74.0  ...   \n",
       "1706   224.0    700.0    6.0   3.0   0.0   0.0  13.0   0.0   1.0  10.0  ...   \n",
       "1708  1556.0  10041.0   93.0   7.0  42.0   0.0  59.0   4.0  75.0  29.0  ...   \n",
       "\n",
       "      9990  9991  9992  9993  9994  9995  9996  9997  9998  9999  \n",
       "year                                                              \n",
       "1701   0.0   0.0   0.0   0.0   0.0   0.0   0.0   0.0   0.0   0.0  \n",
       "1702   0.0   0.0   0.0   0.0   0.0   0.0   0.0   0.0   0.0   0.0  \n",
       "1703   0.0   0.0   0.0   0.0   0.0   0.0   0.0   0.0   0.0   0.0  \n",
       "1706   0.0   0.0   0.0   0.0   0.0   0.0   0.0   0.0   0.0   0.0  \n",
       "1708   0.0   0.0   0.0   0.0   0.0   0.0   0.0   0.0   0.0   0.0  \n",
       "\n",
       "[5 rows x 10000 columns]"
      ]
     },
     "execution_count": 6,
     "metadata": {},
     "output_type": "execute_result"
    }
   ],
   "source": [
    "htrc['termfreq'].unstack().head()"
   ]
  },
  {
   "cell_type": "markdown",
   "metadata": {},
   "source": [
    "The following arrays will be our input and target variables."
   ]
  },
  {
   "cell_type": "code",
   "execution_count": 5,
   "metadata": {},
   "outputs": [],
   "source": [
    "X = htrc['termfreq'].unstack().to_numpy()\n",
    "y = htrc.index.levels[0]"
   ]
  },
  {
   "cell_type": "markdown",
   "metadata": {},
   "source": [
    "Let's look at the distribution of terms throughout the entire corpus. We'll make a bar plot of the total frequency of the most common words."
   ]
  },
  {
   "cell_type": "code",
   "execution_count": 8,
   "metadata": {},
   "outputs": [
    {
     "data": {
      "image/png": "[encoded data removed]",
      "text/plain": [
       "<Figure size 432x288 with 1 Axes>"
      ]
     },
     "metadata": {
      "needs_background": "light"
     },
     "output_type": "display_data"
    }
   ],
   "source": [
    "import matplotlib.ticker as ticker\n",
    "\n",
    "a = 0\n",
    "b = 100\n",
    "freqs = np.sum(X, axis=0)\n",
    "ax = sns.barplot(np.arange(b - a), np.sort(freqs)[::-1][a:b])\n",
    "ax.set_title('Sorted corpus word frequency')\n",
    "ax.xaxis.set_major_formatter(ticker.FormatStrFormatter(''))"
   ]
  },
  {
   "cell_type": "markdown",
   "metadata": {},
   "source": [
    "This is a manifestation of [Zipf's law](https://en.wikipedia.org/wiki/Zipf%27s_law).\n",
    "\n",
    "Let's see which words are the most common."
   ]
  },
  {
   "cell_type": "code",
   "execution_count": 9,
   "metadata": {},
   "outputs": [
    {
     "name": "stdout",
     "output_type": "stream",
     "text": [
      "Most common words:\n",
      "['his', 'it', 'that', 'was', 'he', 'in', 'i', 'a', 'to', '\"', 'of', 'and', '.', 'the', ',']\n"
     ]
    }
   ],
   "source": [
    "print('Most common words:')\n",
    "print([token2word[t] for t in np.argsort(freqs)][-15:])"
   ]
  },
  {
   "cell_type": "markdown",
   "metadata": {},
   "source": [
    "Not surprisingly, these are stop words and punctuation. These are unlikely to be unhelpful for time-period identification, because they are so common regardless of the period.\n",
    "\n",
    "The most uncommon words are specific numbers, which are unlikely to occur in more than one or a few texts."
   ]
  },
  {
   "cell_type": "code",
   "execution_count": 10,
   "metadata": {},
   "outputs": [
    {
     "name": "stdout",
     "output_type": "stream",
     "text": [
      "Most uncommon words:\n",
      "['279', '269', '261', '265', '273', '271', '251', '263', '255', '267', '115', '257', '259', '253', '151']\n"
     ]
    }
   ],
   "source": [
    "print('Most uncommon words:')\n",
    "print([token2word[t] for t in np.argsort(freqs)][:15])"
   ]
  },
  {
   "cell_type": "markdown",
   "metadata": {},
   "source": [
    "These are also quite unhelpful; although they may help identify a particular volume, relying on them hurts generalization ability (they contribute to the [variance](https://en.wikipedia.org/wiki/Bias%E2%80%93variance_tradeoff) of the statistical models we will build)."
   ]
  },
  {
   "cell_type": "markdown",
   "metadata": {},
   "source": [
    "## A lesson in scaling\n",
    "\n",
    "It's often tempting to \"blindly\" try to fit a model to data to see the result. Especially when the model is very simple, what's the worst that can happen? There's nothing wrong with doing this, and in fact it can be very informative; afterwards, care should be taken to try to understand the result before moving on to more complex models.\n",
    "\n",
    "Suppose we apply linear regression to our data, making sure to properly scale and split it first."
   ]
  },
  {
   "cell_type": "code",
   "execution_count": 6,
   "metadata": {},
   "outputs": [
    {
     "name": "stdout",
     "output_type": "stream",
     "text": [
      "R^2 (linear regression): -133.61701409494168\n"
     ]
    }
   ],
   "source": [
    "from sklearn.linear_model import LinearRegression\n",
    "from sklearn.model_selection import train_test_split\n",
    "from sklearn.preprocessing import StandardScaler\n",
    "\n",
    "X_scaled = StandardScaler().fit_transform(X)\n",
    "X_train, X_test, y_train, y_test = train_test_split(X, y, test_size=0.2)\n",
    "\n",
    "reg = LinearRegression()\n",
    "reg.fit(X_train, y_train)\n",
    "print('R^2 (linear regression):', reg.score(X_test, y_test))"
   ]
  },
  {
   "cell_type": "markdown",
   "metadata": {},
   "source": [
    "This result shouldn't be surprising: our data is very high-dimensional, i.e. we have more features (10000) than training examples (around 200). Geometrically, there are many possible regression coefficients that could fit the training data perfectly, but we shouldn't expect these to fit the test data.\n",
    "\n",
    "Of course, this is a well-known problem with a standard solution: we apply a regularization method."
   ]
  },
  {
   "cell_type": "code",
   "execution_count": 7,
   "metadata": {},
   "outputs": [
    {
     "name": "stdout",
     "output_type": "stream",
     "text": [
      "R^2 (lasso): 0.8581109491336308\n"
     ]
    }
   ],
   "source": [
    "from sklearn.linear_model import Lasso\n",
    "\n",
    "lasso = Lasso(alpha=1000, tol=0.1)\n",
    "lasso.fit(X_train, y_train)\n",
    "print('R^2 (lasso):', lasso.score(X_test, y_test))"
   ]
  },
  {
   "cell_type": "markdown",
   "metadata": {},
   "source": [
    "Our result is much improved, we're happy, and we move on.\n",
    "\n",
    "The problem with this kind of \"optimistic\" solution is we may be learning the wrong thing. Consider the following peculiar experiment, in which we perform ordinary least squares regression following logarithmic scaling. Note that we add some noise to `X` so that we can safely take the logarithms."
   ]
  },
  {
   "cell_type": "code",
   "execution_count": 8,
   "metadata": {},
   "outputs": [],
   "source": [
    "X_noisy = X + np.abs(np.random.normal(0, 0.001, size=X.shape))\n",
    "\n",
    "# make sure the noise eliminated 0, otherwise re-run\n",
    "assert (X_noisy == 0).sum() == 0"
   ]
  },
  {
   "cell_type": "code",
   "execution_count": 9,
   "metadata": {},
   "outputs": [
    {
     "name": "stdout",
     "output_type": "stream",
     "text": [
      "R^2 (log-scaled OLS): 0.9685514254237702\n"
     ]
    }
   ],
   "source": [
    "X_train, X_test, y_train, y_test = train_test_split(np.log(X_noisy), np.log(y), test_size=0.2)\n",
    "\n",
    "reg = LinearRegression()\n",
    "reg.fit(X_train, y_train)\n",
    "print('R^2 (log-scaled OLS):', reg.score(X_test, y_test))"
   ]
  },
  {
   "cell_type": "markdown",
   "metadata": {},
   "source": [
    "Suddenly, we have a very good fit.\n",
    "\n",
    "To understand what's going on here, let's look at the total number of words collected each year."
   ]
  },
  {
   "cell_type": "code",
   "execution_count": 19,
   "metadata": {},
   "outputs": [
    {
     "data": {
      "image/png": "[encoded data removed]",
      "text/plain": [
       "<Figure size 432x288 with 1 Axes>"
      ]
     },
     "metadata": {
      "needs_background": "light"
     },
     "output_type": "display_data"
    }
   ],
   "source": [
    "total_words = np.sum(X, axis=1)\n",
    "_ = sns.barplot(y, total_words).set_title('Total words collected over time')"
   ]
  },
  {
   "cell_type": "markdown",
   "metadata": {},
   "source": [
    "The number increases, possibly exponentially. This is likely due to an increasingly large availability of data (the sudden drop towards the end might be explained by a decrease in available *public domain* data).\n",
    "\n",
    "What this means is that we could find a reasonably good fit just by reducing each training example to its sum, logarithmically scaling, and performing one-dimensional linear regression. In fact, let's try that."
   ]
  },
  {
   "cell_type": "code",
   "execution_count": 10,
   "metadata": {},
   "outputs": [
    {
     "name": "stdout",
     "output_type": "stream",
     "text": [
      "R^2 (1D log-scaled OLS) 0.9118241732344501\n"
     ]
    }
   ],
   "source": [
    "def sum_log_reg(X):\n",
    "    X_summed = np.sum(X, axis=1).reshape(-1, 1)\n",
    "    X_noisy = X_summed + np.random.normal(0, 0.001, size=X_summed.shape)\n",
    "    assert (X_noisy == 0).sum() == 0\n",
    "    X_train, X_test, y_train, y_test = train_test_split(np.log(X_noisy), np.log(y), test_size=0.2)\n",
    "    reg = LinearRegression()\n",
    "    reg.fit(X_train, y_train)\n",
    "    return reg.score(X_test, y_test)\n",
    "\n",
    "print('R^2 (1D log-scaled OLS)', sum_log_reg(X))"
   ]
  },
  {
   "cell_type": "markdown",
   "metadata": {},
   "source": [
    "But we don't want to learn to identify a year by looking at the total number of words published that year. This won't help us identify the publication date of a *single* document. In order to address this problem, we should consider scaled word frequencies, rather than total word count."
   ]
  },
  {
   "cell_type": "code",
   "execution_count": 11,
   "metadata": {},
   "outputs": [],
   "source": [
    "X_norm = X / np.sum(X, axis=1).reshape(-1, 1)"
   ]
  },
  {
   "cell_type": "markdown",
   "metadata": {},
   "source": [
    "Now if we repeat our previous experiment, we get a poor fit."
   ]
  },
  {
   "cell_type": "code",
   "execution_count": 12,
   "metadata": {},
   "outputs": [
    {
     "name": "stdout",
     "output_type": "stream",
     "text": [
      "R^2 (1D log-scaled OLS on row-normalized data): -0.06916006943460684\n"
     ]
    }
   ],
   "source": [
    "print('R^2 (1D log-scaled OLS on row-normalized data):', sum_log_reg(X_norm))"
   ]
  },
  {
   "cell_type": "markdown",
   "metadata": {},
   "source": [
    "## Dimensional reduction"
   ]
  },
  {
   "cell_type": "markdown",
   "metadata": {},
   "source": [
    "Our data is normalized, but we still have far more features than training examples. Moreover, there are correlations between our features and our training examples are sparse vectors. It seems in principle that our data contains a lot of redundancy that could be eliminated somehow. We already discussed one solution: regularization. Here we'll take a look at another: dimensional reduction."
   ]
  },
  {
   "cell_type": "code",
   "execution_count": 93,
   "metadata": {},
   "outputs": [],
   "source": [
    "from sklearn.decomposition import TruncatedSVD\n",
    "\n",
    "svd = TruncatedSVD(n_components=10)\n",
    "X_red = svd.fit_transform(X_norm)"
   ]
  },
  {
   "cell_type": "markdown",
   "metadata": {},
   "source": [
    "The following plot shows that our reduction in some sense captures most of the information we need."
   ]
  },
  {
   "cell_type": "code",
   "execution_count": 94,
   "metadata": {},
   "outputs": [
    {
     "data": {
      "text/plain": [
       "[<matplotlib.lines.Line2D at 0x7fcb8fab1cf8>]"
      ]
     },
     "execution_count": 94,
     "metadata": {},
     "output_type": "execute_result"
    },
    {
     "data": {
      "image/png": "[encoded data removed]",
      "text/plain": [
       "<Figure size 432x288 with 1 Axes>"
      ]
     },
     "metadata": {
      "needs_background": "light"
     },
     "output_type": "display_data"
    }
   ],
   "source": [
    "plt.plot(np.cumsum(svd.explained_variance_ratio_))"
   ]
  },
  {
   "cell_type": "markdown",
   "metadata": {},
   "source": [
    "It follows that we should be able to get a reasonably good fit using just these features. The following experiment shows this to be the case."
   ]
  },
  {
   "cell_type": "code",
   "execution_count": 95,
   "metadata": {},
   "outputs": [
    {
     "data": {
      "text/plain": [
       "0.9540480757286548"
      ]
     },
     "execution_count": 95,
     "metadata": {},
     "output_type": "execute_result"
    }
   ],
   "source": [
    "X_train, X_test, y_train, y_test = train_test_split(X_red, y, test_size=0.2)\n",
    "\n",
    "reg = LinearRegression()\n",
    "reg.fit(X_train, y_train)\n",
    "reg.score(X_test, y_test)"
   ]
  },
  {
   "cell_type": "markdown",
   "metadata": {},
   "source": [
    "An issue with this approach is it can be difficult to interpret the meaning of the features extracted by dimensional reduction. In the next section, we take the regularization approach."
   ]
  },
  {
   "cell_type": "markdown",
   "metadata": {},
   "source": [
    "## Regression analysis"
   ]
  },
  {
   "cell_type": "markdown",
   "metadata": {},
   "source": [
    "Let's scale and split our data and apply ordinary least squares regression, but now on all 10000 features."
   ]
  },
  {
   "cell_type": "code",
   "execution_count": 23,
   "metadata": {},
   "outputs": [],
   "source": [
    "X_scaled = StandardScaler().fit_transform(X_norm)\n",
    "X_train, X_test, y_train, y_test = train_test_split(X_norm, y, test_size=0.2)"
   ]
  },
  {
   "cell_type": "code",
   "execution_count": 24,
   "metadata": {},
   "outputs": [
    {
     "name": "stdout",
     "output_type": "stream",
     "text": [
      "R^2 (OLS) 0.8615758654631965\n"
     ]
    }
   ],
   "source": [
    "reg = LinearRegression()\n",
    "reg.fit(X_train, y_train)\n",
    "print('R^2 (OLS)', reg.score(X_test, y_test))"
   ]
  },
  {
   "cell_type": "markdown",
   "metadata": {},
   "source": [
    "That's quite good but it would be nice to understand which features are being used (and in what way) to make predictions. A well-known and simple way of performing automatic feature selection is with the lasso. This time, let's use cross-validation to optimize over the regularization parameter."
   ]
  },
  {
   "cell_type": "code",
   "execution_count": 25,
   "metadata": {},
   "outputs": [
    {
     "name": "stdout",
     "output_type": "stream",
     "text": [
      "R^2 (lasso): 0.9484533598834871\n",
      "CPU times: user 13.3 s, sys: 181 ms, total: 13.5 s\n",
      "Wall time: 6.96 s\n"
     ]
    }
   ],
   "source": [
    "%%time\n",
    "from sklearn.linear_model import LassoCV\n",
    "\n",
    "lasso = LassoCV(tol=0.01)\n",
    "lasso.fit(X_train, y_train)\n",
    "print('R^2 (lasso):', lasso.score(X_test, y_test))"
   ]
  },
  {
   "cell_type": "markdown",
   "metadata": {},
   "source": [
    "Let's see which words correspond to non-zero lasso coefficients."
   ]
  },
  {
   "cell_type": "code",
   "execution_count": 26,
   "metadata": {},
   "outputs": [
    {
     "name": "stdout",
     "output_type": "stream",
     "text": [
      "Relevant features:\n",
      "[\"'\", 'i', 'the', 'you', '!', 'she', 'in', 'it', \"'s\", 'said', 'he', 'of', '?', ';', 'had', '.', '\"']\n"
     ]
    }
   ],
   "source": [
    "coef = lasso.coef_\n",
    "important_words = [token2word[i] for i in range(vocab_size) if coef[i] > 0]\n",
    "print('Relevant features:')\n",
    "print(important_words)"
   ]
  },
  {
   "cell_type": "markdown",
   "metadata": {},
   "source": [
    "To find the explantory variable that has the most explanatory power *on its own*, we'll solve one-dimensional regression problems for each of these and choose the one with the best fit."
   ]
  },
  {
   "cell_type": "code",
   "execution_count": 27,
   "metadata": {},
   "outputs": [],
   "source": [
    "regs = []\n",
    "for word in important_words:\n",
    "    r = LinearRegression()\n",
    "    r.fit(X_train[:, word2token[word]].reshape(-1, 1), y_train)\n",
    "    regs.append(r)"
   ]
  },
  {
   "cell_type": "markdown",
   "metadata": {},
   "source": [
    "And the winner is..."
   ]
  },
  {
   "cell_type": "code",
   "execution_count": 28,
   "metadata": {},
   "outputs": [
    {
     "name": "stdout",
     "output_type": "stream",
     "text": [
      "Best-correlated feature: \"\n",
      "R^2 (OLS on best-correlated feature) 0.8990540134951037\n"
     ]
    }
   ],
   "source": [
    "scores = [r.score(X_test[:, word2token[word]].reshape(-1, 1), y_test) for r in regs]\n",
    "i_best = np.argmax(scores)\n",
    "print('Best-correlated feature:', important_words[i_best])\n",
    "print('R^2 (OLS on best-correlated feature)', scores[i_best])"
   ]
  },
  {
   "cell_type": "markdown",
   "metadata": {},
   "source": [
    "This is somewhat unexpected: linear regression of publication date against the frequency of quotation marks in a text fits with an $R^2$ score of 0.9. Personally, I have to see it to believe it. Let's take a look in the variation in use of this symbol over time."
   ]
  },
  {
   "cell_type": "code",
   "execution_count": 29,
   "metadata": {},
   "outputs": [
    {
     "data": {
      "image/png": "[encoded data removed]",
      "text/plain": [
       "<Figure size 432x288 with 1 Axes>"
      ]
     },
     "metadata": {
      "needs_background": "light"
     },
     "output_type": "display_data"
    }
   ],
   "source": [
    "_ = sns.regplot(X_norm[:, word2token['\"']], y).set_title('Quotation mark use over time')"
   ]
  },
  {
   "cell_type": "markdown",
   "metadata": {},
   "source": [
    "As we can see, the resulting trend is indeed more-or-less linear. By way of comparison, let's do the same for a word not in our list."
   ]
  },
  {
   "cell_type": "code",
   "execution_count": 30,
   "metadata": {},
   "outputs": [
    {
     "data": {
      "image/png": "[encoded data removed]",
      "text/plain": [
       "<Figure size 432x288 with 1 Axes>"
      ]
     },
     "metadata": {
      "needs_background": "light"
     },
     "output_type": "display_data"
    }
   ],
   "source": [
    "_ = sns.regplot(X_norm[:, word2token['is']], y).set_title('Use of \"is\" over time')"
   ]
  },
  {
   "cell_type": "markdown",
   "metadata": {},
   "source": [
    "In this case, there is little correlation between word use and time period (although the *noisiness* of the word use does seem somewhat strongly correlated to time) and the regression model struggles."
   ]
  },
  {
   "cell_type": "markdown",
   "metadata": {},
   "source": [
    "## Individual volumes"
   ]
  },
  {
   "cell_type": "markdown",
   "metadata": {},
   "source": [
    "Let's see what we can do with word counts for individual volumes."
   ]
  },
  {
   "cell_type": "code",
   "execution_count": 45,
   "metadata": {},
   "outputs": [],
   "source": [
    "vols_subdirs = [x[0] for x in os.walk('data/htrc')][1:]\n",
    "year_ranges = [list(map(int, x.split('/')[-1].split('-'))) for x in vols_subdirs]\n",
    "vols_dirs = { subdir : (year_range[1] - year_range[0]) for subdir, year_range in zip(vols_subdirs, year_ranges) }\n",
    "\n",
    "metadata = pd.read_csv(os.path.join('data/htrc', 'fiction_metadata.csv'), usecols=['htid', 'date'])\n",
    "metadata = metadata.set_index('htid')"
   ]
  },
  {
   "cell_type": "markdown",
   "metadata": {},
   "source": [
    "I ran into some errors while trying to load data from some of the volumes, so I'll make use of the following function."
   ]
  },
  {
   "cell_type": "code",
   "execution_count": 46,
   "metadata": {},
   "outputs": [],
   "source": [
    "def try_read_csv(file):\n",
    "    try:\n",
    "        csv_path = os.path.join(vols_dir, vol)\n",
    "        return pd.read_csv(csv_path, sep='\\t', quoting=csv.QUOTE_NONE, names=['word', 'freq'])\n",
    "    except pd.errors.EmptyDataError:\n",
    "        return None"
   ]
  },
  {
   "cell_type": "code",
   "execution_count": 47,
   "metadata": {},
   "outputs": [
    {
     "name": "stdout",
     "output_type": "stream",
     "text": [
      "CPU times: user 22.2 s, sys: 478 ms, total: 22.7 s\n",
      "Wall time: 24.2 s\n"
     ]
    }
   ],
   "source": [
    "%%time\n",
    "\n",
    "samples_per_century = 1000\n",
    "docs = []\n",
    "years = []\n",
    "for vols_dir, range_size in vols_dirs.items():\n",
    "    all_volumes = os.listdir(vols_dir)\n",
    "    sample_size = int(samples_per_century * range_size / 100)\n",
    "    volumes = np.random.choice(all_volumes, size=sample_size, replace=False)\n",
    "    for vol in volumes:\n",
    "        doc = try_read_csv(vol).dropna()\n",
    "        if doc is not None:\n",
    "            htid = vol.split('.tsv')[0]\n",
    "            year = metadata.loc[htid, 'date']\n",
    "            years.append(year)\n",
    "\n",
    "            docs.append(doc)"
   ]
  },
  {
   "cell_type": "markdown",
   "metadata": {},
   "source": [
    "Let's see how many words occur how many times throughout the corpus."
   ]
  },
  {
   "cell_type": "code",
   "execution_count": 48,
   "metadata": {},
   "outputs": [
    {
     "data": {
      "text/plain": [
       "word\n",
       "i            2108\n",
       "for          2107\n",
       "not          2107\n",
       "into         2107\n",
       "which        2107\n",
       "             ... \n",
       "mintained       1\n",
       "mintand         1\n",
       "mintbarts       1\n",
       "mintchi         1\n",
       "iinmedi-        1\n",
       "Length: 1928698, dtype: int64"
      ]
     },
     "execution_count": 48,
     "metadata": {},
     "output_type": "execute_result"
    }
   ],
   "source": [
    "all_words = pd.concat(docs).groupby('word').size().sort_values(ascending=False)\n",
    "all_words"
   ]
  },
  {
   "cell_type": "markdown",
   "metadata": {},
   "source": [
    "Since this is quite a lot, we'll limit the vocabulary."
   ]
  },
  {
   "cell_type": "code",
   "execution_count": 49,
   "metadata": {},
   "outputs": [],
   "source": [
    "vocab_size = 10_000\n",
    "vocab = all_words.sort_values(ascending=False).head(vocab_size)\n",
    "\n",
    "token2word = dict(enumerate(vocab.index))\n",
    "word2token = { v: k for k, v in token2word.items() }\n",
    "\n",
    "docs_short = [doc[doc['word'].isin(vocab.index)] for doc in docs]"
   ]
  },
  {
   "cell_type": "markdown",
   "metadata": {},
   "source": [
    "Next, we tokenize the words."
   ]
  },
  {
   "cell_type": "code",
   "execution_count": 50,
   "metadata": {},
   "outputs": [
    {
     "name": "stderr",
     "output_type": "stream",
     "text": [
      "/home/ben/anaconda3/lib/python3.7/site-packages/ipykernel_launcher.py:2: SettingWithCopyWarning: \n",
      "A value is trying to be set on a copy of a slice from a DataFrame.\n",
      "Try using .loc[row_indexer,col_indexer] = value instead\n",
      "\n",
      "See the caveats in the documentation: https://pandas.pydata.org/pandas-docs/stable/user_guide/indexing.html#returning-a-view-versus-a-copy\n",
      "  \n"
     ]
    },
    {
     "name": "stdout",
     "output_type": "stream",
     "text": [
      "CPU times: user 54 s, sys: 31.7 ms, total: 54 s\n",
      "Wall time: 54 s\n"
     ]
    }
   ],
   "source": [
    "%%time\n",
    "\n",
    "for doc in docs_short:\n",
    "    doc['token'] = doc['word'].map(word2token)"
   ]
  },
  {
   "cell_type": "markdown",
   "metadata": {},
   "source": [
    "We construct our input data."
   ]
  },
  {
   "cell_type": "code",
   "execution_count": 51,
   "metadata": {},
   "outputs": [],
   "source": [
    "X = np.empty((len(docs_short), vocab_size))\n",
    "\n",
    "for i, doc in enumerate(docs_short):\n",
    "    X[i] = doc.set_index('token').reindex(range(len(vocab)))['freq'].fillna(0)"
   ]
  },
  {
   "cell_type": "markdown",
   "metadata": {},
   "source": [
    "This time, document frequency becomes relevant."
   ]
  },
  {
   "cell_type": "code",
   "execution_count": 52,
   "metadata": {},
   "outputs": [],
   "source": [
    "from sklearn.feature_extraction.text import TfidfTransformer\n",
    "transformer = TfidfTransformer()\n",
    "\n",
    "X_tfidf = transformer.fit_transform(X)"
   ]
  },
  {
   "cell_type": "markdown",
   "metadata": {},
   "source": [
    "Finally, we scale the data and fit a linear regression model."
   ]
  },
  {
   "cell_type": "code",
   "execution_count": 53,
   "metadata": {},
   "outputs": [
    {
     "data": {
      "text/plain": [
       "0.8775095856533204"
      ]
     },
     "execution_count": 53,
     "metadata": {},
     "output_type": "execute_result"
    }
   ],
   "source": [
    "X_scaled = StandardScaler().fit_transform(X_tfidf.todense())\n",
    "X_train, X_test, y_train, y_test = train_test_split(X_scaled, years, test_size=0.2)\n",
    "\n",
    "reg = LinearRegression()\n",
    "reg.fit(X_train, y_train)\n",
    "reg.score(X_test, y_test)"
   ]
  },
  {
   "cell_type": "code",
   "execution_count": 56,
   "metadata": {},
   "outputs": [
    {
     "data": {
      "text/plain": [
       "0.9005907292388693"
      ]
     },
     "execution_count": 56,
     "metadata": {},
     "output_type": "execute_result"
    }
   ],
   "source": [
    "reg = Lasso()\n",
    "reg.fit(X_train, y_train)\n",
    "reg.score(X_test, y_test)"
   ]
  },
  {
   "cell_type": "markdown",
   "metadata": {},
   "source": [
    "## Further work on the HTRC dataset\n",
    "\n",
    "We've only used a small part of the dataset above: the yearly aggregates. However, this dataset also contains word frequencies for individual volumes, which are cross-referenced with metadata containing the year of publication for each volume. It would be interesting to test the performance of the above model, trained on aggregate data, on individual data. Since individual volumes undoubtedly have higher word frequency variance, performance will probably be worsened. In this case, we can attempt the following general improvements.\n",
    "\n",
    "1. Train the above model on individual volumes.\n",
    "2. Consider accounting for highly-correlated features and potential heteroscedasticity.\n",
    "3. Consider other models."
   ]
  }
 ],
 "metadata": {
  "kernelspec": {
   "display_name": "Python 3",
   "language": "python",
   "name": "python3"
  },
  "language_info": {
   "codemirror_mode": {
    "name": "ipython",
    "version": 3
   },
   "file_extension": ".py",
   "mimetype": "text/x-python",
   "name": "python",
   "nbconvert_exporter": "python",
   "pygments_lexer": "ipython3",
   "version": "3.7.3"
  }
 },
 "nbformat": 4,
 "nbformat_minor": 2
}
