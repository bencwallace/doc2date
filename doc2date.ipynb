{
 "cells": [
  {
   "cell_type": "markdown",
   "metadata": {},
   "source": [
    "# doc2date: A Case Study in Document Regression"
   ]
  },
  {
   "cell_type": "markdown",
   "metadata": {},
   "source": [
    "[Document classification](https://en.wikipedia.org/wiki/Document_classification) is a common application of machine learning techniques. Examples include [sentiment analysis](https://en.wikipedia.org/wiki/Sentiment_analysis), the classification of texts into a (typically small) number of moods (such as \"positive\" and \"negative\"); as well as authorship attribution in [stylometry](https://en.wikipedia.org/wiki/Stylometry), in which texts are grouped according to their original author.\n",
    "\n",
    "Unsupersived learning methods have also been applied to the analysis of documents. For instance, [doc2vec](https://arxiv.org/pdf/1405.4053v2.pdf) is a dimensionality reduction technique that extends [word embeddings](https://en.wikipedia.org/wiki/Word_embedding) to entire documents.\n",
    "\n",
    "But what about document *regression*? In this notebook, we investigate the problem of learning the date of a publication from the text contained therein. Since the target space, a range of years, can be viewed as a continuum, this problem presents a natural test case for applying regression techniques to document analysis."
   ]
  },
  {
   "cell_type": "code",
   "execution_count": 1,
   "metadata": {},
   "outputs": [],
   "source": [
    "import csv\n",
    "import pickle\n",
    "import re\n",
    "import os\n",
    "import string\n",
    "\n",
    "import matplotlib.pyplot as plt\n",
    "import nltk\n",
    "import numpy as np\n",
    "import pandas as pd\n",
    "import seaborn as sns\n",
    "\n",
    "from sklearn.linear_model import Lasso, LassoCV, LinearRegression, Ridge\n",
    "from sklearn.model_selection import train_test_split\n",
    "from sklearn.preprocessing import StandardScaler"
   ]
  },
  {
   "cell_type": "markdown",
   "metadata": {},
   "source": [
    "## Contents\n",
    "\n",
    "1. [Contents](#Contents)\n",
    "2. [HTRC word frequencies dataset](#HTRC-word-frequencies-dataset)\n",
    "3. [Correlated features](#Correlated-features)\n",
    "4. [A lesson in scaling](#A-lesson-in-scaling)\n",
    "5. [Regression analysis](#Regression-analysis)\n",
    "6. [Further work on the HTRC dataset](#Further-work-on-the-HTRC-dataset)\n",
    "7. [The Gutenberg dataset](#The-Gutenberg-dataset)\n",
    "8. [Outlier removal](#Outlier-removal)\n",
    "9. [A look at some coarse features](#A-look-at-some-coarse-features)\n",
    "10. [Preprocessing](#Preprocessing)\n",
    "11. [Cleaning](#Cleaning)\n",
    "12. [Segment generation](#Segment-generation)\n",
    "13. [Undersampling](#Undersampling)\n",
    "14. [Bag-of-words representation](#Bag-of-words-representation)\n",
    "15. [Ordinary least squares: A first attempt](#Ordinary-least-squares:-A-first-attempt)\n",
    "16. [Classification: Changing the problem](#Classification:-Changing-the-problem)\n",
    "17. [Reducing ambiguity](#Reducing-ambiguity)\n",
    "18. [Dimensional reduction](#Dimensional-reduction)\n"
   ]
  },
  {
   "cell_type": "markdown",
   "metadata": {},
   "source": [
    "## HTRC word frequencies dataset\n",
    "\n",
    "We'll begin our analysis with the following dataset derived from the [HathiTrust](https://htrc.illinois.edu/) research center: [Word frequencies in English-Language Literature, 1700-1922](https://wiki.htrc.illinois.edu/display/COM/Word+Frequencies+in+English-Language+Literature%2C+1700-1922). This dataset contains word frequencies compiled from 178 831 volumes published over a 223-year period. The data is separated by content of the volumes: fiction, poetry, and drama. Frequency counts of individual volumes and aggregated counts over each year are available, as well as volume metadata."
   ]
  },
  {
   "cell_type": "markdown",
   "metadata": {},
   "source": [
    "## Warm up: Yearly summary data\n",
    "\n",
    "We'll start by looking at yearly aggregate data for fiction, the largest of the three sub-collections. We'll ignore the OCR correction labels for now. Note that the documentation for this dataset specifies that there are three \"special\" tokens: \"#ALLTOKENS\", \"#ALPHABETIC\", AND \"#DICTIONARYWORD\". We'll drop these from the table for now."
   ]
  },
  {
   "cell_type": "code",
   "execution_count": 45,
   "metadata": {},
   "outputs": [],
   "source": [
    "htrc_dir = 'data/htrc/'\n",
    "summary_file = 'fiction_yearly_summary.csv'\n",
    "\n",
    "summary = pd.read_csv(os.path.join(htrc_dir, summary_file), usecols=['year', 'word', 'termfreq'])\n",
    "summary = summary[~summary['word'].str.contains('#')]"
   ]
  },
  {
   "cell_type": "markdown",
   "metadata": {},
   "source": [
    "Taking a quick look at this dataframe, we see that it essentially consists of frequency assignments to `(year, word)` pairs."
   ]
  },
  {
   "cell_type": "code",
   "execution_count": 46,
   "metadata": {},
   "outputs": [
    {
     "data": {
      "text/html": [
       "<div>\n",
       "<style scoped>\n",
       "    .dataframe tbody tr th:only-of-type {\n",
       "        vertical-align: middle;\n",
       "    }\n",
       "\n",
       "    .dataframe tbody tr th {\n",
       "        vertical-align: top;\n",
       "    }\n",
       "\n",
       "    .dataframe thead th {\n",
       "        text-align: right;\n",
       "    }\n",
       "</style>\n",
       "<table border=\"1\" class=\"dataframe\">\n",
       "  <thead>\n",
       "    <tr style=\"text-align: right;\">\n",
       "      <th></th>\n",
       "      <th>0</th>\n",
       "      <th>1</th>\n",
       "      <th>2</th>\n",
       "      <th>3</th>\n",
       "      <th>4</th>\n",
       "      <th>5</th>\n",
       "      <th>6</th>\n",
       "      <th>7</th>\n",
       "      <th>8</th>\n",
       "      <th>9</th>\n",
       "    </tr>\n",
       "  </thead>\n",
       "  <tbody>\n",
       "    <tr>\n",
       "      <th>year</th>\n",
       "      <td>1701</td>\n",
       "      <td>1701</td>\n",
       "      <td>1701</td>\n",
       "      <td>1701</td>\n",
       "      <td>1701</td>\n",
       "      <td>1701</td>\n",
       "      <td>1701</td>\n",
       "      <td>1701</td>\n",
       "      <td>1701</td>\n",
       "      <td>1701</td>\n",
       "    </tr>\n",
       "    <tr>\n",
       "      <th>word</th>\n",
       "      <td>'</td>\n",
       "      <td>a</td>\n",
       "      <td>further</td>\n",
       "      <td>native</td>\n",
       "      <td>forgot</td>\n",
       "      <td>mayor</td>\n",
       "      <td>wonder</td>\n",
       "      <td>incapable</td>\n",
       "      <td>reflections</td>\n",
       "      <td>absence</td>\n",
       "    </tr>\n",
       "    <tr>\n",
       "      <th>termfreq</th>\n",
       "      <td>162</td>\n",
       "      <td>813</td>\n",
       "      <td>2</td>\n",
       "      <td>1</td>\n",
       "      <td>9</td>\n",
       "      <td>1</td>\n",
       "      <td>13</td>\n",
       "      <td>3</td>\n",
       "      <td>5</td>\n",
       "      <td>5</td>\n",
       "    </tr>\n",
       "  </tbody>\n",
       "</table>\n",
       "</div>"
      ],
      "text/plain": [
       "             0     1        2       3       4      5       6          7  \\\n",
       "year      1701  1701     1701    1701    1701   1701    1701       1701   \n",
       "word         '     a  further  native  forgot  mayor  wonder  incapable   \n",
       "termfreq   162   813        2       1       9      1      13          3   \n",
       "\n",
       "                    8        9  \n",
       "year             1701     1701  \n",
       "word      reflections  absence  \n",
       "termfreq            5        5  "
      ]
     },
     "execution_count": 46,
     "metadata": {},
     "output_type": "execute_result"
    }
   ],
   "source": [
    "summary.head(10).transpose()"
   ]
  },
  {
   "cell_type": "markdown",
   "metadata": {},
   "source": [
    "Let's first identify, tokenize, and measure the size of the vocabulary."
   ]
  },
  {
   "cell_type": "code",
   "execution_count": 47,
   "metadata": {},
   "outputs": [],
   "source": [
    "token2word = dict(enumerate(summary['word'].unique()))\n",
    "word2token = { v: k for k, v in token2word.items() }\n",
    "vocab_size = len(token2word)\n",
    "\n",
    "summary['token'] = summary['word'].map(word2token)"
   ]
  },
  {
   "cell_type": "markdown",
   "metadata": {},
   "source": [
    "It seems more sensible to organize the dataframe using a hierarchical multi-index as follows."
   ]
  },
  {
   "cell_type": "code",
   "execution_count": 48,
   "metadata": {},
   "outputs": [
    {
     "data": {
      "text/html": [
       "<div>\n",
       "<style scoped>\n",
       "    .dataframe tbody tr th:only-of-type {\n",
       "        vertical-align: middle;\n",
       "    }\n",
       "\n",
       "    .dataframe tbody tr th {\n",
       "        vertical-align: top;\n",
       "    }\n",
       "\n",
       "    .dataframe thead th {\n",
       "        text-align: right;\n",
       "    }\n",
       "</style>\n",
       "<table border=\"1\" class=\"dataframe\">\n",
       "  <thead>\n",
       "    <tr style=\"text-align: right;\">\n",
       "      <th></th>\n",
       "      <th></th>\n",
       "      <th>word</th>\n",
       "      <th>termfreq</th>\n",
       "    </tr>\n",
       "    <tr>\n",
       "      <th>year</th>\n",
       "      <th>token</th>\n",
       "      <th></th>\n",
       "      <th></th>\n",
       "    </tr>\n",
       "  </thead>\n",
       "  <tbody>\n",
       "    <tr>\n",
       "      <th rowspan=\"5\" valign=\"top\">1701</th>\n",
       "      <th>0</th>\n",
       "      <td>'</td>\n",
       "      <td>162</td>\n",
       "    </tr>\n",
       "    <tr>\n",
       "      <th>1</th>\n",
       "      <td>a</td>\n",
       "      <td>813</td>\n",
       "    </tr>\n",
       "    <tr>\n",
       "      <th>2</th>\n",
       "      <td>further</td>\n",
       "      <td>2</td>\n",
       "    </tr>\n",
       "    <tr>\n",
       "      <th>3</th>\n",
       "      <td>native</td>\n",
       "      <td>1</td>\n",
       "    </tr>\n",
       "    <tr>\n",
       "      <th>4</th>\n",
       "      <td>forgot</td>\n",
       "      <td>9</td>\n",
       "    </tr>\n",
       "    <tr>\n",
       "      <th>...</th>\n",
       "      <th>...</th>\n",
       "      <td>...</td>\n",
       "      <td>...</td>\n",
       "    </tr>\n",
       "    <tr>\n",
       "      <th rowspan=\"5\" valign=\"top\">1922</th>\n",
       "      <th>6166</th>\n",
       "      <td>roused</td>\n",
       "      <td>4282</td>\n",
       "    </tr>\n",
       "    <tr>\n",
       "      <th>7095</th>\n",
       "      <td>hereafter</td>\n",
       "      <td>973</td>\n",
       "    </tr>\n",
       "    <tr>\n",
       "      <th>3317</th>\n",
       "      <td>countenance</td>\n",
       "      <td>6190</td>\n",
       "    </tr>\n",
       "    <tr>\n",
       "      <th>9510</th>\n",
       "      <td>kindhearted</td>\n",
       "      <td>510</td>\n",
       "    </tr>\n",
       "    <tr>\n",
       "      <th>8167</th>\n",
       "      <td>clasp</td>\n",
       "      <td>1304</td>\n",
       "    </tr>\n",
       "  </tbody>\n",
       "</table>\n",
       "<p>1873544 rows × 2 columns</p>\n",
       "</div>"
      ],
      "text/plain": [
       "                   word  termfreq\n",
       "year token                       \n",
       "1701 0                '       162\n",
       "     1                a       813\n",
       "     2          further         2\n",
       "     3           native         1\n",
       "     4           forgot         9\n",
       "...                 ...       ...\n",
       "1922 6166        roused      4282\n",
       "     7095     hereafter       973\n",
       "     3317   countenance      6190\n",
       "     9510   kindhearted       510\n",
       "     8167         clasp      1304\n",
       "\n",
       "[1873544 rows x 2 columns]"
      ]
     },
     "execution_count": 48,
     "metadata": {},
     "output_type": "execute_result"
    }
   ],
   "source": [
    "summary = summary.set_index(['year', 'token'])\n",
    "summary"
   ]
  },
  {
   "cell_type": "markdown",
   "metadata": {},
   "source": [
    "We'd like to organize this data into a term frequency matrix with rows corresponding to years and columns to words. To accomplish, let's first add in the missing rows corresponding to words with 0 (counted) occurences in a particular year."
   ]
  },
  {
   "cell_type": "code",
   "execution_count": 49,
   "metadata": {},
   "outputs": [],
   "source": [
    "index = pd.MultiIndex.from_product([summary.index.levels[0], range(0, vocab_size)])\n",
    "summary = summary.reindex(index).fillna(0)"
   ]
  },
  {
   "cell_type": "markdown",
   "metadata": {},
   "source": [
    "Now we can now simply `unstack` our dataframe into a matrix."
   ]
  },
  {
   "cell_type": "code",
   "execution_count": 50,
   "metadata": {},
   "outputs": [
    {
     "data": {
      "text/html": [
       "<div>\n",
       "<style scoped>\n",
       "    .dataframe tbody tr th:only-of-type {\n",
       "        vertical-align: middle;\n",
       "    }\n",
       "\n",
       "    .dataframe tbody tr th {\n",
       "        vertical-align: top;\n",
       "    }\n",
       "\n",
       "    .dataframe thead th {\n",
       "        text-align: right;\n",
       "    }\n",
       "</style>\n",
       "<table border=\"1\" class=\"dataframe\">\n",
       "  <thead>\n",
       "    <tr style=\"text-align: right;\">\n",
       "      <th></th>\n",
       "      <th>0</th>\n",
       "      <th>1</th>\n",
       "      <th>2</th>\n",
       "      <th>3</th>\n",
       "      <th>4</th>\n",
       "      <th>5</th>\n",
       "      <th>6</th>\n",
       "      <th>7</th>\n",
       "      <th>8</th>\n",
       "      <th>9</th>\n",
       "      <th>...</th>\n",
       "      <th>9990</th>\n",
       "      <th>9991</th>\n",
       "      <th>9992</th>\n",
       "      <th>9993</th>\n",
       "      <th>9994</th>\n",
       "      <th>9995</th>\n",
       "      <th>9996</th>\n",
       "      <th>9997</th>\n",
       "      <th>9998</th>\n",
       "      <th>9999</th>\n",
       "    </tr>\n",
       "    <tr>\n",
       "      <th>year</th>\n",
       "      <th></th>\n",
       "      <th></th>\n",
       "      <th></th>\n",
       "      <th></th>\n",
       "      <th></th>\n",
       "      <th></th>\n",
       "      <th></th>\n",
       "      <th></th>\n",
       "      <th></th>\n",
       "      <th></th>\n",
       "      <th></th>\n",
       "      <th></th>\n",
       "      <th></th>\n",
       "      <th></th>\n",
       "      <th></th>\n",
       "      <th></th>\n",
       "      <th></th>\n",
       "      <th></th>\n",
       "      <th></th>\n",
       "      <th></th>\n",
       "      <th></th>\n",
       "    </tr>\n",
       "  </thead>\n",
       "  <tbody>\n",
       "    <tr>\n",
       "      <th>1701</th>\n",
       "      <td>162.0</td>\n",
       "      <td>813.0</td>\n",
       "      <td>2.0</td>\n",
       "      <td>1.0</td>\n",
       "      <td>9.0</td>\n",
       "      <td>1.0</td>\n",
       "      <td>13.0</td>\n",
       "      <td>3.0</td>\n",
       "      <td>5.0</td>\n",
       "      <td>5.0</td>\n",
       "      <td>...</td>\n",
       "      <td>0.0</td>\n",
       "      <td>0.0</td>\n",
       "      <td>0.0</td>\n",
       "      <td>0.0</td>\n",
       "      <td>0.0</td>\n",
       "      <td>0.0</td>\n",
       "      <td>0.0</td>\n",
       "      <td>0.0</td>\n",
       "      <td>0.0</td>\n",
       "      <td>0.0</td>\n",
       "    </tr>\n",
       "    <tr>\n",
       "      <th>1702</th>\n",
       "      <td>31.0</td>\n",
       "      <td>252.0</td>\n",
       "      <td>4.0</td>\n",
       "      <td>0.0</td>\n",
       "      <td>0.0</td>\n",
       "      <td>0.0</td>\n",
       "      <td>2.0</td>\n",
       "      <td>0.0</td>\n",
       "      <td>0.0</td>\n",
       "      <td>0.0</td>\n",
       "      <td>...</td>\n",
       "      <td>0.0</td>\n",
       "      <td>0.0</td>\n",
       "      <td>0.0</td>\n",
       "      <td>0.0</td>\n",
       "      <td>0.0</td>\n",
       "      <td>0.0</td>\n",
       "      <td>0.0</td>\n",
       "      <td>0.0</td>\n",
       "      <td>0.0</td>\n",
       "      <td>0.0</td>\n",
       "    </tr>\n",
       "    <tr>\n",
       "      <th>1703</th>\n",
       "      <td>2495.0</td>\n",
       "      <td>6381.0</td>\n",
       "      <td>126.0</td>\n",
       "      <td>4.0</td>\n",
       "      <td>17.0</td>\n",
       "      <td>0.0</td>\n",
       "      <td>85.0</td>\n",
       "      <td>5.0</td>\n",
       "      <td>12.0</td>\n",
       "      <td>74.0</td>\n",
       "      <td>...</td>\n",
       "      <td>0.0</td>\n",
       "      <td>0.0</td>\n",
       "      <td>0.0</td>\n",
       "      <td>0.0</td>\n",
       "      <td>0.0</td>\n",
       "      <td>0.0</td>\n",
       "      <td>0.0</td>\n",
       "      <td>0.0</td>\n",
       "      <td>0.0</td>\n",
       "      <td>0.0</td>\n",
       "    </tr>\n",
       "    <tr>\n",
       "      <th>1706</th>\n",
       "      <td>224.0</td>\n",
       "      <td>700.0</td>\n",
       "      <td>6.0</td>\n",
       "      <td>3.0</td>\n",
       "      <td>0.0</td>\n",
       "      <td>0.0</td>\n",
       "      <td>13.0</td>\n",
       "      <td>0.0</td>\n",
       "      <td>1.0</td>\n",
       "      <td>10.0</td>\n",
       "      <td>...</td>\n",
       "      <td>0.0</td>\n",
       "      <td>0.0</td>\n",
       "      <td>0.0</td>\n",
       "      <td>0.0</td>\n",
       "      <td>0.0</td>\n",
       "      <td>0.0</td>\n",
       "      <td>0.0</td>\n",
       "      <td>0.0</td>\n",
       "      <td>0.0</td>\n",
       "      <td>0.0</td>\n",
       "    </tr>\n",
       "    <tr>\n",
       "      <th>1708</th>\n",
       "      <td>1556.0</td>\n",
       "      <td>10041.0</td>\n",
       "      <td>93.0</td>\n",
       "      <td>7.0</td>\n",
       "      <td>42.0</td>\n",
       "      <td>0.0</td>\n",
       "      <td>59.0</td>\n",
       "      <td>4.0</td>\n",
       "      <td>75.0</td>\n",
       "      <td>29.0</td>\n",
       "      <td>...</td>\n",
       "      <td>0.0</td>\n",
       "      <td>0.0</td>\n",
       "      <td>0.0</td>\n",
       "      <td>0.0</td>\n",
       "      <td>0.0</td>\n",
       "      <td>0.0</td>\n",
       "      <td>0.0</td>\n",
       "      <td>0.0</td>\n",
       "      <td>0.0</td>\n",
       "      <td>0.0</td>\n",
       "    </tr>\n",
       "  </tbody>\n",
       "</table>\n",
       "<p>5 rows × 10000 columns</p>\n",
       "</div>"
      ],
      "text/plain": [
       "        0        1      2     3     4     5     6     7     8     9     ...  \\\n",
       "year                                                                    ...   \n",
       "1701   162.0    813.0    2.0   1.0   9.0   1.0  13.0   3.0   5.0   5.0  ...   \n",
       "1702    31.0    252.0    4.0   0.0   0.0   0.0   2.0   0.0   0.0   0.0  ...   \n",
       "1703  2495.0   6381.0  126.0   4.0  17.0   0.0  85.0   5.0  12.0  74.0  ...   \n",
       "1706   224.0    700.0    6.0   3.0   0.0   0.0  13.0   0.0   1.0  10.0  ...   \n",
       "1708  1556.0  10041.0   93.0   7.0  42.0   0.0  59.0   4.0  75.0  29.0  ...   \n",
       "\n",
       "      9990  9991  9992  9993  9994  9995  9996  9997  9998  9999  \n",
       "year                                                              \n",
       "1701   0.0   0.0   0.0   0.0   0.0   0.0   0.0   0.0   0.0   0.0  \n",
       "1702   0.0   0.0   0.0   0.0   0.0   0.0   0.0   0.0   0.0   0.0  \n",
       "1703   0.0   0.0   0.0   0.0   0.0   0.0   0.0   0.0   0.0   0.0  \n",
       "1706   0.0   0.0   0.0   0.0   0.0   0.0   0.0   0.0   0.0   0.0  \n",
       "1708   0.0   0.0   0.0   0.0   0.0   0.0   0.0   0.0   0.0   0.0  \n",
       "\n",
       "[5 rows x 10000 columns]"
      ]
     },
     "execution_count": 50,
     "metadata": {},
     "output_type": "execute_result"
    }
   ],
   "source": [
    "summary_matrix = summary['termfreq'].unstack()\n",
    "summary_matrix.head()"
   ]
  },
  {
   "cell_type": "markdown",
   "metadata": {},
   "source": [
    "The following arrays will be our input and target variables."
   ]
  },
  {
   "cell_type": "code",
   "execution_count": 7,
   "metadata": {},
   "outputs": [],
   "source": [
    "X = summary_matrix.to_numpy()\n",
    "y = summary.index.levels[0]"
   ]
  },
  {
   "cell_type": "markdown",
   "metadata": {},
   "source": [
    "Let's look at the distribution of terms throughout the entire corpus. We'll make a bar plot of the total frequency of the most common words."
   ]
  },
  {
   "cell_type": "code",
   "execution_count": 38,
   "metadata": {},
   "outputs": [
    {
     "data": {
      "image/png": "[encoded data removed]",
      "text/plain": [
       "<Figure size 432x288 with 1 Axes>"
      ]
     },
     "metadata": {
      "needs_background": "light"
     },
     "output_type": "display_data"
    }
   ],
   "source": [
    "import matplotlib.ticker as ticker\n",
    "\n",
    "a = 0\n",
    "b = 100\n",
    "freqs = np.sum(X, axis=0)\n",
    "ax = sns.barplot(np.arange(b - a), np.sort(freqs)[::-1][a:b])\n",
    "ax.set_title('Sorted corpus word frequency')\n",
    "ax.xaxis.set_major_formatter(ticker.FormatStrFormatter(''))"
   ]
  },
  {
   "cell_type": "markdown",
   "metadata": {},
   "source": [
    "This seems to be a manifestation of [Zipf's law](https://en.wikipedia.org/wiki/Zipf%27s_law).\n",
    "\n",
    "Let's see which words are the most common."
   ]
  },
  {
   "cell_type": "code",
   "execution_count": 39,
   "metadata": {},
   "outputs": [
    {
     "name": "stdout",
     "output_type": "stream",
     "text": [
      "Most common words:\n",
      "['his', 'it', 'that', 'was', 'he', 'in', 'i', 'a', 'to', '\"', 'of', 'and', '.', 'the', ',']\n"
     ]
    }
   ],
   "source": [
    "print('Most common words:')\n",
    "print([token2word[t] for t in np.argsort(freqs)][-15:])"
   ]
  },
  {
   "cell_type": "markdown",
   "metadata": {},
   "source": [
    "Not surprisingly, these are stop words and punctuation. These are unlikely to be unhelpful for time-period identification, because they are so common regardless of the period. It's common to remove stop words in natural language processing tasks, however there doesn't seem to be a universal consensus on whether you should do this and it may be task-dependent. My own experience has been that stop word removal has little impact on model performance and, since the total number of stop words is relatively small, has little effect on time or memory consumption.\n",
    "\n",
    "The most uncommon words are specific numbers, which are unlikely to occur in more than one or a few texts."
   ]
  },
  {
   "cell_type": "code",
   "execution_count": 40,
   "metadata": {},
   "outputs": [
    {
     "name": "stdout",
     "output_type": "stream",
     "text": [
      "Most uncommon words:\n",
      "['279', '269', '261', '265', '273', '271', '251', '263', '255', '267', '115', '257', '259', '253', '151']\n"
     ]
    }
   ],
   "source": [
    "print('Most uncommon words:')\n",
    "print([token2word[t] for t in np.argsort(freqs)][:15])"
   ]
  },
  {
   "cell_type": "markdown",
   "metadata": {},
   "source": [
    "These may be helpful for identifying a particular year by aggregate word count but are unlikely to be much use when we are trying to date specific volumes of text; in that case, although these words may help identify a particular volume, relying on them hurts generalization ability (they contribute to the [variance](https://en.wikipedia.org/wiki/Bias%E2%80%93variance_tradeoff) of the statistical models we will build).\n",
    "\n",
    "I've found that removing uncommon words can be quite a delicate task: Words that are too uncommon will not help our models generalize; on the other hand, the words most likely to signal that our training example has some target value are likely to be amongst the less common words. When it comes to time and memory usage, removing uncommon words can be enormously helpful because there are so many of them, as can be seen from Zipf's law."
   ]
  },
  {
   "cell_type": "markdown",
   "metadata": {},
   "source": [
    "## A lesson in scaling\n",
    "\n",
    "It's often tempting to \"blindly\" try to fit a model to data to see the result. Especially when the model is very simple, what's the worst that can happen? There's nothing wrong with doing this, and in fact it can be very informative; afterwards, care should be taken to try to understand the result before moving on to more complex models.\n",
    "\n",
    "Suppose we apply linear regression to our data, making sure to properly standardize and split it first."
   ]
  },
  {
   "cell_type": "code",
   "execution_count": 41,
   "metadata": {},
   "outputs": [
    {
     "name": "stdout",
     "output_type": "stream",
     "text": [
      "R^2 (linear regression): -280.31682027114675\n"
     ]
    }
   ],
   "source": [
    "X_scaled = StandardScaler().fit_transform(X)\n",
    "X_train, X_test, y_train, y_test = train_test_split(X, y, test_size=0.2)\n",
    "\n",
    "reg = LinearRegression()\n",
    "reg.fit(X_train, y_train)\n",
    "print('R^2 (linear regression):', reg.score(X_test, y_test))"
   ]
  },
  {
   "cell_type": "markdown",
   "metadata": {},
   "source": [
    "This result shouldn't be surprising: our data is very high-dimensional, i.e. we have more features (10000) than training examples (around 200). Geometrically, there are many possible regression coefficients that could fit the training data perfectly, but we shouldn't expect these to fit the test data. We are violating a major [assumption](https://en.wikipedia.org/wiki/Linear_regression#Assumptions) of linear regression:\n",
    "\n",
    "> ...the design matrix *X* must have full column rank *p*; otherwise, we have a condition known as perfect multicollinearity in the predictor variables...\n",
    "\n",
    "Of course, this is a well-known problem and has a well-known solution: we apply a regularization method."
   ]
  },
  {
   "cell_type": "code",
   "execution_count": 42,
   "metadata": {},
   "outputs": [
    {
     "name": "stdout",
     "output_type": "stream",
     "text": [
      "R^2 (lasso): 0.875591309643671\n"
     ]
    }
   ],
   "source": [
    "lasso = Lasso(alpha=1000, tol=0.1)\n",
    "lasso.fit(X_train, y_train)\n",
    "print('R^2 (lasso):', lasso.score(X_test, y_test))"
   ]
  },
  {
   "cell_type": "markdown",
   "metadata": {},
   "source": [
    "Our result is much improved, we're happy, and we move on.\n",
    "\n",
    "Or do we? The problem with this kind of \"optimistic\" solution is we may be learning the wrong thing. Consider the total number of words collected each year."
   ]
  },
  {
   "cell_type": "code",
   "execution_count": 51,
   "metadata": {},
   "outputs": [
    {
     "data": {
      "image/png": "[encoded data removed]",
      "text/plain": [
       "<Figure size 432x288 with 1 Axes>"
      ]
     },
     "metadata": {
      "needs_background": "light"
     },
     "output_type": "display_data"
    }
   ],
   "source": [
    "total_words = np.sum(X, axis=1)\n",
    "ax = sns.barplot(y, total_words)\n",
    "ax.set_title('Total words collected over time')\n",
    "ax.xaxis.set_major_formatter(ticker.FormatStrFormatter(''))"
   ]
  },
  {
   "cell_type": "markdown",
   "metadata": {},
   "source": [
    "The number increases, possibly exponentially. This is likely due to an increasingly large availability of data (the sudden drop towards the end might be explained by a decrease in available *public domain* data).\n",
    "\n",
    "What this suggests is that we could find a reasonably good fit just by reducing each training example to its sum and performing one-dimensional linear regression on log-scaled data. In fact, let's try that."
   ]
  },
  {
   "cell_type": "code",
   "execution_count": 63,
   "metadata": {},
   "outputs": [
    {
     "name": "stdout",
     "output_type": "stream",
     "text": [
      "R^2 (1D log-scaled OLS) 0.9034979132395802\n"
     ]
    }
   ],
   "source": [
    "def sum_log_reg(X):\n",
    "    # take the sum\n",
    "    X_summed = np.sum(X, axis=1).reshape(-1, 1)\n",
    "    \n",
    "    # add some noise to remove 0 before taking log\n",
    "    X_noisy = X_summed + np.random.normal(0, 0.001, size=X_summed.shape)\n",
    "    assert (X_noisy == 0).sum() == 0\n",
    "    \n",
    "    # split and fit\n",
    "    X_train, X_test, y_train, y_test = train_test_split(np.log(X_noisy), np.log(y), test_size=0.2)\n",
    "    reg = LinearRegression()\n",
    "    reg.fit(X_train, y_train)\n",
    "    return reg.score(X_test, y_test)\n",
    "\n",
    "print('R^2 (1D log-scaled OLS)', sum_log_reg(X))"
   ]
  },
  {
   "cell_type": "markdown",
   "metadata": {},
   "source": [
    "But we don't want to learn to identify a year by looking at the total number of words published that year. This won't help us identify the publication date of a *single* document. In order to address this problem, we should consider scaled word frequencies, rather than total word count."
   ]
  },
  {
   "cell_type": "code",
   "execution_count": 8,
   "metadata": {},
   "outputs": [],
   "source": [
    "X_norm = X / np.sum(X, axis=1).reshape(-1, 1)"
   ]
  },
  {
   "cell_type": "markdown",
   "metadata": {},
   "source": [
    "Now if we repeat our previous experiment, we get a poor fit."
   ]
  },
  {
   "cell_type": "code",
   "execution_count": 65,
   "metadata": {},
   "outputs": [
    {
     "name": "stdout",
     "output_type": "stream",
     "text": [
      "R^2 (1D log-scaled OLS on row-normalized data): 0.0019243774100805577\n"
     ]
    }
   ],
   "source": [
    "print('R^2 (1D log-scaled OLS on row-normalized data):', sum_log_reg(X_norm))"
   ]
  },
  {
   "cell_type": "markdown",
   "metadata": {},
   "source": [
    "## Aside: Dimensional reduction"
   ]
  },
  {
   "cell_type": "markdown",
   "metadata": {},
   "source": [
    "Our data is normalized, but we still have far more features than training examples. Moreover, there are correlations between our features and our training examples are sparse vectors. It seems in principle that our data contains a lot of redundancy that could be eliminated somehow. We already discussed one solution: regularization. Here we'll take a look at another: dimensional reduction."
   ]
  },
  {
   "cell_type": "code",
   "execution_count": 16,
   "metadata": {},
   "outputs": [],
   "source": [
    "from sklearn.decomposition import PCA\n",
    "\n",
    "pca = PCA(n_components=10)\n",
    "X_red = svd.fit_transform(X_norm)"
   ]
  },
  {
   "cell_type": "markdown",
   "metadata": {},
   "source": [
    "The following plot shows that our reduction in some sense captures most of the information we need."
   ]
  },
  {
   "cell_type": "code",
   "execution_count": 17,
   "metadata": {},
   "outputs": [
    {
     "data": {
      "text/plain": [
       "[<matplotlib.lines.Line2D at 0x7f29d8b365c0>]"
      ]
     },
     "execution_count": 17,
     "metadata": {},
     "output_type": "execute_result"
    },
    {
     "data": {
      "image/png": "[encoded data removed]",
      "text/plain": [
       "<Figure size 432x288 with 1 Axes>"
      ]
     },
     "metadata": {
      "needs_background": "light"
     },
     "output_type": "display_data"
    }
   ],
   "source": [
    "plt.plot(np.cumsum(svd.explained_variance_ratio_))"
   ]
  },
  {
   "cell_type": "markdown",
   "metadata": {},
   "source": [
    "It follows that we should be able to get a reasonably good fit using just these features. The following experiment shows this to be the case."
   ]
  },
  {
   "cell_type": "code",
   "execution_count": 19,
   "metadata": {},
   "outputs": [
    {
     "data": {
      "text/plain": [
       "0.937693173497271"
      ]
     },
     "execution_count": 19,
     "metadata": {},
     "output_type": "execute_result"
    }
   ],
   "source": [
    "X_train, X_test, y_train, y_test = train_test_split(X_red, y, test_size=0.2)\n",
    "\n",
    "reg = LinearRegression()\n",
    "reg.fit(X_train, y_train)\n",
    "reg.score(X_test, y_test)"
   ]
  },
  {
   "cell_type": "markdown",
   "metadata": {},
   "source": [
    "An issue with this approach is it can be difficult to interpret the meaning of the features extracted by dimensional reduction. In the next section, we take the regularization approach."
   ]
  },
  {
   "cell_type": "markdown",
   "metadata": {},
   "source": [
    "## Regression analysis"
   ]
  },
  {
   "cell_type": "markdown",
   "metadata": {},
   "source": [
    "Let's scale and split our data and apply ordinary least squares regression, but now on all 10000 features."
   ]
  },
  {
   "cell_type": "code",
   "execution_count": 20,
   "metadata": {},
   "outputs": [],
   "source": [
    "X_scaled = StandardScaler().fit_transform(X_norm)\n",
    "X_train, X_test, y_train, y_test = train_test_split(X_norm, y, test_size=0.2)"
   ]
  },
  {
   "cell_type": "code",
   "execution_count": 21,
   "metadata": {},
   "outputs": [
    {
     "name": "stdout",
     "output_type": "stream",
     "text": [
      "R^2 (OLS) 0.860958530497965\n"
     ]
    }
   ],
   "source": [
    "reg = LinearRegression()\n",
    "reg.fit(X_train, y_train)\n",
    "print('R^2 (OLS)', reg.score(X_test, y_test))"
   ]
  },
  {
   "cell_type": "markdown",
   "metadata": {},
   "source": [
    "That's quite good but it would be nice to understand which features are being used (and in what way) to make predictions. A well-known and simple way of performing automatic feature selection is with the lasso. This time, let's use cross-validation to optimize over the regularization parameter."
   ]
  },
  {
   "cell_type": "code",
   "execution_count": 23,
   "metadata": {},
   "outputs": [
    {
     "name": "stdout",
     "output_type": "stream",
     "text": [
      "R^2 (lasso): 0.8697403761560378\n",
      "CPU times: user 9.68 s, sys: 106 ms, total: 9.78 s\n",
      "Wall time: 4.95 s\n"
     ]
    }
   ],
   "source": [
    "%%time\n",
    "lasso = LassoCV(tol=0.01)\n",
    "lasso.fit(X_train, y_train)\n",
    "print('R^2 (lasso):', lasso.score(X_test, y_test))"
   ]
  },
  {
   "cell_type": "markdown",
   "metadata": {},
   "source": [
    "Let's see which words correspond to non-zero lasso coefficients."
   ]
  },
  {
   "cell_type": "code",
   "execution_count": 24,
   "metadata": {},
   "outputs": [
    {
     "name": "stdout",
     "output_type": "stream",
     "text": [
      "Relevant features:\n",
      "[\"'\", 'i', 'we', 'the', 'she', 'it', 'said', '?', ';', 'was', 'had', '.', '\"']\n"
     ]
    }
   ],
   "source": [
    "coef = lasso.coef_\n",
    "important_words = [token2word[i] for i in range(vocab_size) if coef[i] > 0]\n",
    "print('Relevant features:')\n",
    "print(important_words)"
   ]
  },
  {
   "cell_type": "markdown",
   "metadata": {},
   "source": [
    "Let's make a pair plot from the first few of these words together with the year variable. We'll use the `summary_matrix` dataframe; we haven't normalized it yet, so this is the first step."
   ]
  },
  {
   "cell_type": "code",
   "execution_count": 93,
   "metadata": {},
   "outputs": [
    {
     "data": {
      "image/png": "[encoded data removed]",
      "text/plain": [
       "<Figure size 900x900 with 20 Axes>"
      ]
     },
     "metadata": {
      "needs_background": "light"
     },
     "output_type": "display_data"
    }
   ],
   "source": [
    "summary_matrix_norm = summary_matrix.apply(lambda row: row / row.sum(), axis=1)\n",
    "summary_matrix_norm.columns = [token2word[t] for t in summary_matrix_norm.columns]\n",
    "summary_matrix_norm['year'] = summary_matrix_norm.index\n",
    "\n",
    "_ = sns.pairplot(summary_matrix_norm, vars=['year'] + important_words[-4:], corner=True)"
   ]
  },
  {
   "cell_type": "markdown",
   "metadata": {},
   "source": [
    "To find the explantory variable that has the most explanatory power *on its own*, we'll solve one-dimensional regression problems for each of these and choose the one with the best fit."
   ]
  },
  {
   "cell_type": "code",
   "execution_count": 25,
   "metadata": {},
   "outputs": [],
   "source": [
    "regs = []\n",
    "for word in important_words:\n",
    "    r = LinearRegression()\n",
    "    r.fit(X_train[:, word2token[word]].reshape(-1, 1), y_train)\n",
    "    regs.append(r)"
   ]
  },
  {
   "cell_type": "markdown",
   "metadata": {},
   "source": [
    "And the winner is..."
   ]
  },
  {
   "cell_type": "code",
   "execution_count": 26,
   "metadata": {},
   "outputs": [
    {
     "name": "stdout",
     "output_type": "stream",
     "text": [
      "Best-correlated feature: \"\n",
      "R^2 (OLS on best-correlated feature) 0.8324754709073499\n"
     ]
    }
   ],
   "source": [
    "scores = [r.score(X_test[:, word2token[word]].reshape(-1, 1), y_test) for r in regs]\n",
    "i_best = np.argmax(scores)\n",
    "print('Best-correlated feature:', important_words[i_best])\n",
    "print('R^2 (OLS on best-correlated feature)', scores[i_best])"
   ]
  },
  {
   "cell_type": "markdown",
   "metadata": {},
   "source": [
    "This is somewhat unexpected: linear regression of publication date against the frequency of quotation marks in a text fits with an $R^2$ score of 0.9. Personally, I have to see it to believe it. Let's take a look in the variation in use of this symbol over time."
   ]
  },
  {
   "cell_type": "code",
   "execution_count": 27,
   "metadata": {},
   "outputs": [
    {
     "data": {
      "image/png": "[encoded data removed]",
      "text/plain": [
       "<Figure size 432x288 with 1 Axes>"
      ]
     },
     "metadata": {
      "needs_background": "light"
     },
     "output_type": "display_data"
    }
   ],
   "source": [
    "_ = sns.regplot(X_norm[:, word2token['\"']], y).set_title('Quotation mark use over time')"
   ]
  },
  {
   "cell_type": "markdown",
   "metadata": {},
   "source": [
    "As we can see, the resulting trend is indeed more-or-less linear. By way of comparison, let's do the same for a word not in our list."
   ]
  },
  {
   "cell_type": "code",
   "execution_count": 28,
   "metadata": {},
   "outputs": [
    {
     "data": {
      "image/png": "[encoded data removed]",
      "text/plain": [
       "<Figure size 432x288 with 1 Axes>"
      ]
     },
     "metadata": {
      "needs_background": "light"
     },
     "output_type": "display_data"
    }
   ],
   "source": [
    "_ = sns.regplot(X_norm[:, word2token['is']], y).set_title('Use of \"is\" over time')"
   ]
  },
  {
   "cell_type": "markdown",
   "metadata": {},
   "source": [
    "In this case, there is little correlation between word use and time period (although the *noisiness* of the word use does seem somewhat strongly correlated to time) and the regression model struggles."
   ]
  },
  {
   "cell_type": "markdown",
   "metadata": {},
   "source": [
    "## Individual volumes"
   ]
  },
  {
   "cell_type": "markdown",
   "metadata": {},
   "source": [
    "Let's see what we can do with word counts for individual volumes."
   ]
  },
  {
   "cell_type": "code",
   "execution_count": 2,
   "metadata": {},
   "outputs": [],
   "source": [
    "vols_subdirs = [x[0] for x in os.walk('data/htrc')][1:]\n",
    "year_ranges = [list(map(int, x.split('/')[-1].split('-'))) for x in vols_subdirs]\n",
    "vols_dirs = { subdir : (year_range[1] - year_range[0]) for subdir, year_range in zip(vols_subdirs, year_ranges) }\n",
    "\n",
    "metadata = pd.read_csv(os.path.join('data/htrc', 'fiction_metadata.csv'), usecols=['htid', 'date'])\n",
    "metadata = metadata.set_index('htid')"
   ]
  },
  {
   "cell_type": "markdown",
   "metadata": {},
   "source": [
    "I ran into some errors while trying to load data from some of the volumes, so I'll make use of the following function."
   ]
  },
  {
   "cell_type": "code",
   "execution_count": 3,
   "metadata": {},
   "outputs": [],
   "source": [
    "def try_read_csv(file):\n",
    "    try:\n",
    "        csv_path = os.path.join(vols_dir, vol)\n",
    "        return pd.read_csv(csv_path, sep='\\t', quoting=csv.QUOTE_NONE, names=['word', 'freq'])\n",
    "    except pd.errors.EmptyDataError:\n",
    "        return None"
   ]
  },
  {
   "cell_type": "code",
   "execution_count": 4,
   "metadata": {},
   "outputs": [
    {
     "name": "stdout",
     "output_type": "stream",
     "text": [
      "CPU times: user 22.1 s, sys: 1.8 s, total: 23.9 s\n",
      "Wall time: 25.4 s\n"
     ]
    }
   ],
   "source": [
    "%%time\n",
    "\n",
    "samples_per_century = 1000\n",
    "docs = []\n",
    "years = []\n",
    "for vols_dir, range_size in vols_dirs.items():\n",
    "    all_volumes = os.listdir(vols_dir)\n",
    "    sample_size = int(samples_per_century * range_size / 100)\n",
    "    volumes = np.random.choice(all_volumes, size=sample_size, replace=False)\n",
    "    for vol in volumes:\n",
    "        doc = try_read_csv(vol).dropna()\n",
    "        if doc is not None:\n",
    "            htid = vol.split('.tsv')[0]\n",
    "            year = metadata.loc[htid, 'date']\n",
    "            years.append(year)\n",
    "\n",
    "            docs.append(doc)"
   ]
  },
  {
   "cell_type": "markdown",
   "metadata": {},
   "source": [
    "Let's see how many words occur how many times throughout the corpus."
   ]
  },
  {
   "cell_type": "code",
   "execution_count": 5,
   "metadata": {},
   "outputs": [
    {
     "data": {
      "text/plain": [
       "word\n",
       "i              2108\n",
       "which          2107\n",
       "as             2107\n",
       "but            2107\n",
       "of             2107\n",
       "               ... \n",
       "infiuenco         1\n",
       "infiuentian       1\n",
       "infiuenzy         1\n",
       "infiuit           1\n",
       "￼you              1\n",
       "Length: 1869127, dtype: int64"
      ]
     },
     "execution_count": 5,
     "metadata": {},
     "output_type": "execute_result"
    }
   ],
   "source": [
    "all_words = pd.concat(docs).groupby('word').size().sort_values(ascending=False)\n",
    "all_words"
   ]
  },
  {
   "cell_type": "markdown",
   "metadata": {},
   "source": [
    "Since this is quite a lot, we'll limit the vocabulary."
   ]
  },
  {
   "cell_type": "code",
   "execution_count": 6,
   "metadata": {},
   "outputs": [],
   "source": [
    "vocab_size = 10_000\n",
    "vocab = all_words.sort_values(ascending=False).head(vocab_size)\n",
    "\n",
    "token2word = dict(enumerate(vocab.index))\n",
    "word2token = { v: k for k, v in token2word.items() }\n",
    "\n",
    "docs_short = [doc[doc['word'].isin(vocab.index)] for doc in docs]"
   ]
  },
  {
   "cell_type": "markdown",
   "metadata": {},
   "source": [
    "Next, we tokenize the words."
   ]
  },
  {
   "cell_type": "code",
   "execution_count": 7,
   "metadata": {},
   "outputs": [
    {
     "name": "stderr",
     "output_type": "stream",
     "text": [
      "/home/ben/anaconda3/lib/python3.7/site-packages/ipykernel_launcher.py:2: SettingWithCopyWarning: \n",
      "A value is trying to be set on a copy of a slice from a DataFrame.\n",
      "Try using .loc[row_indexer,col_indexer] = value instead\n",
      "\n",
      "See the caveats in the documentation: https://pandas.pydata.org/pandas-docs/stable/user_guide/indexing.html#returning-a-view-versus-a-copy\n",
      "  \n"
     ]
    },
    {
     "name": "stdout",
     "output_type": "stream",
     "text": [
      "CPU times: user 41.5 s, sys: 574 ms, total: 42.1 s\n",
      "Wall time: 42.1 s\n"
     ]
    }
   ],
   "source": [
    "%%time\n",
    "\n",
    "for doc in docs_short:\n",
    "    doc['token'] = doc['word'].map(word2token)"
   ]
  },
  {
   "cell_type": "markdown",
   "metadata": {},
   "source": [
    "We construct our input data."
   ]
  },
  {
   "cell_type": "code",
   "execution_count": 8,
   "metadata": {},
   "outputs": [],
   "source": [
    "X = np.empty((len(docs_short), vocab_size))\n",
    "\n",
    "for i, doc in enumerate(docs_short):\n",
    "    X[i] = doc.set_index('token').reindex(range(len(vocab)))['freq'].fillna(0)"
   ]
  },
  {
   "cell_type": "markdown",
   "metadata": {},
   "source": [
    "This time, document frequency becomes relevant."
   ]
  },
  {
   "cell_type": "code",
   "execution_count": 9,
   "metadata": {},
   "outputs": [],
   "source": [
    "from sklearn.feature_extraction.text import TfidfTransformer\n",
    "transformer = TfidfTransformer()\n",
    "\n",
    "X_tfidf = transformer.fit_transform(X)"
   ]
  },
  {
   "cell_type": "markdown",
   "metadata": {},
   "source": [
    "Finally, we scale the data and fit a linear regression model."
   ]
  },
  {
   "cell_type": "code",
   "execution_count": 17,
   "metadata": {},
   "outputs": [
    {
     "data": {
      "text/plain": [
       "0.874630175709737"
      ]
     },
     "execution_count": 17,
     "metadata": {},
     "output_type": "execute_result"
    }
   ],
   "source": [
    "scaler = StandardScaler()\n",
    "X_scaled = scaler.fit_transform(X_tfidf.todense())\n",
    "X_train, X_test, y_train, y_test = train_test_split(X_scaled, years, test_size=0.2)\n",
    "\n",
    "reg = LinearRegression()\n",
    "reg.fit(X_train, y_train)\n",
    "reg.score(X_test, y_test)"
   ]
  },
  {
   "cell_type": "markdown",
   "metadata": {},
   "source": [
    "Let's try some other models to see if we can get a better fit."
   ]
  },
  {
   "cell_type": "code",
   "execution_count": 18,
   "metadata": {},
   "outputs": [
    {
     "data": {
      "text/plain": [
       "0.8842986581305443"
      ]
     },
     "execution_count": 18,
     "metadata": {},
     "output_type": "execute_result"
    }
   ],
   "source": [
    "lasso = Lasso()\n",
    "lasso.fit(X_train, y_train)\n",
    "lasso.score(X_test, y_test)"
   ]
  },
  {
   "cell_type": "markdown",
   "metadata": {},
   "source": [
    "We've been using lasso regularization to combat the overfitting we get with linear regression due to the large number of features in our data. Another approach to reduce variance and overfitting is the ensemble approach. Random forests are one of the most fundamental examples of this."
   ]
  }
 ],
 "metadata": {
  "kernelspec": {
   "display_name": "Python 3",
   "language": "python",
   "name": "python3"
  },
  "language_info": {
   "codemirror_mode": {
    "name": "ipython",
    "version": 3
   },
   "file_extension": ".py",
   "mimetype": "text/x-python",
   "name": "python",
   "nbconvert_exporter": "python",
   "pygments_lexer": "ipython3",
   "version": "3.7.6"
  }
 },
 "nbformat": 4,
 "nbformat_minor": 2
}
