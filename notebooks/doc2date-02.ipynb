{
 "cells": [
  {
   "cell_type": "markdown",
   "metadata": {},
   "source": [
    "# doc2date: A Case Study in Document Regression\n",
    "# Part 2: Building a model for deployment\n",
    "\n",
    "We continue our analysis of the HTRC data set from [Part 1](doc2date-01.ipynb), now looking at word counts from individual volumes."
   ]
  },
  {
   "cell_type": "markdown",
   "metadata": {},
   "source": [
    "## Contents\n",
    "\n",
    "1. [Contents](#Contents)\n",
    "2. [Individual volumes](#Individual-volumes)\n",
    "3. [Can we do better?](#Can-we-do-better?)\n",
    "4. [Why can't we do better?](#Why-can't-we-do-better?)\n",
    "5. [From preprocessing to prediction](#From-preprocessing-to-prediction)\n",
    "6. [Continue reading](#Continue-reading)"
   ]
  },
  {
   "cell_type": "code",
   "execution_count": 99,
   "metadata": {},
   "outputs": [],
   "source": [
    "import csv\n",
    "import pickle\n",
    "import os\n",
    "import warnings\n",
    "\n",
    "import numpy as np\n",
    "import pandas as pd\n",
    "import seaborn as sns\n",
    "import spacy\n",
    "\n",
    "from keras import backend as K\n",
    "from keras.callbacks import EarlyStopping\n",
    "from keras.models import Sequential\n",
    "from keras.layers import Dense, Dropout\n",
    "\n",
    "from sklearn.ensemble import RandomForestRegressor\n",
    "from sklearn.feature_extraction.text import CountVectorizer\n",
    "from sklearn.linear_model import LinearRegression, LassoCV\n",
    "from sklearn.model_selection import train_test_split\n",
    "from sklearn.pipeline import Pipeline\n",
    "from sklearn.preprocessing import FunctionTransformer, StandardScaler\n",
    "\n",
    "warnings.filterwarnings('ignore')"
   ]
  },
  {
   "cell_type": "markdown",
   "metadata": {},
   "source": [
    "## Individual volumes\n",
    "\n",
    "Let's see what we can do with word counts for individual volumes. The volumes are organized into several subdirectories corresponding to different time spans. Due to the size of the data set, we won't load all the volumes; rather, we'll load a random subsample from each subdirectory with the aim of loading the same number of volumes from each century."
   ]
  },
  {
   "cell_type": "code",
   "execution_count": 10,
   "metadata": {},
   "outputs": [],
   "source": [
    "# names of volume subdirectories\n",
    "vols_subdirs = [x[0] for x in os.walk('data/htrc')][1:]\n",
    "\n",
    "# each subdirectory has name of the form 'xxxx-yyyy'\n",
    "# the following splits these strings into pairs (xxxx, yyyy)\n",
    "year_ranges = [list(map(int, x.split('/')[-1].split('-'))) for x in vols_subdirs]\n",
    "\n",
    "# put together the above into a dictionary mapping directories to the length of the corresponding time span\n",
    "vols_dirs = { subdir : (year_range[1] - year_range[0]) for subdir, year_range in zip(vols_subdirs, year_ranges) }"
   ]
  },
  {
   "cell_type": "markdown",
   "metadata": {},
   "source": [
    "Before loading the volumes, we load the HTRC fiction metadata so that we can associate each volume to its publication date via its htid."
   ]
  },
  {
   "cell_type": "code",
   "execution_count": 11,
   "metadata": {},
   "outputs": [],
   "source": [
    "metadata = pd.read_csv(os.path.join('data/htrc', 'fiction_metadata.csv'), usecols=['htid', 'author', 'date', 'title'])\n",
    "metadata = metadata.set_index('htid')"
   ]
  },
  {
   "cell_type": "markdown",
   "metadata": {},
   "source": [
    "Next, we load each volume into a separate dataframe."
   ]
  },
  {
   "cell_type": "code",
   "execution_count": 12,
   "metadata": {},
   "outputs": [
    {
     "name": "stdout",
     "output_type": "stream",
     "text": [
      "CPU times: user 19.8 s, sys: 1.31 s, total: 21.1 s\n",
      "Wall time: 22.7 s\n"
     ]
    }
   ],
   "source": [
    "%%time\n",
    "\n",
    "samples_per_century = 1000\n",
    "docs = []\n",
    "years = []\n",
    "for vols_dir, range_size in vols_dirs.items():\n",
    "    # take a random subsample from `vols_dir` of size proportional to `range_size`\n",
    "    all_volumes = os.listdir(vols_dir)\n",
    "    sample_size = int(samples_per_century * range_size / 100)\n",
    "    volumes = np.random.choice(all_volumes, size=sample_size, replace=False)\n",
    "    \n",
    "    for vol in volumes:\n",
    "        csv_path = os.path.join(vols_dir, vol)\n",
    "        \n",
    "        # deal with some errors loading some of the volumes\n",
    "        try:\n",
    "            doc = pd.read_csv(csv_path, sep='\\t', quoting=csv.QUOTE_NONE, names=['word', 'freq'])\n",
    "            doc = doc.dropna()\n",
    "        except pd.errors.EmptyDataError:\n",
    "            continue\n",
    "\n",
    "        # lookup publication date in metadata\n",
    "        htid = vol.split('.tsv')[0]\n",
    "        year = metadata.loc[htid, 'date']\n",
    "        years.append(year)\n",
    "\n",
    "        docs.append(doc)"
   ]
  },
  {
   "cell_type": "markdown",
   "metadata": {},
   "source": [
    "Let's take a look at the resulting distribution of years."
   ]
  },
  {
   "cell_type": "code",
   "execution_count": 5,
   "metadata": {},
   "outputs": [
    {
     "data": {
      "image/png": "[encoded data removed]",
      "text/plain": [
       "<Figure size 432x288 with 1 Axes>"
      ]
     },
     "metadata": {
      "needs_background": "light"
     },
     "output_type": "display_data"
    }
   ],
   "source": [
    "_ = sns.distplot(years)"
   ]
  },
  {
   "cell_type": "markdown",
   "metadata": {},
   "source": [
    "There is a regular-looking increase in the number of volumes in the 18th century, which is explained by the fact that all these volumes were in the same subdirectory. Later periods are broken into numerous subdirectories corresponding to smaller and smaller ranges of time due to the increasing availability of data.\n",
    "\n",
    "Let's see how many words occur how many times throughout the corpus."
   ]
  },
  {
   "cell_type": "code",
   "execution_count": 13,
   "metadata": {},
   "outputs": [
    {
     "name": "stdout",
     "output_type": "stream",
     "text": [
      "Number of words in loaded corpus: 1862006\n"
     ]
    }
   ],
   "source": [
    "all_words = pd.concat(docs).groupby('word').size().sort_values(ascending=False)\n",
    "print('Number of words in loaded corpus:', len(all_words))"
   ]
  },
  {
   "cell_type": "markdown",
   "metadata": {},
   "source": [
    "Since this is quite a lot, we'll limit the vocabulary. We had reasonable results with the yearly aggregates, which had a vocabulary of size 10000, so we'll use the same vocabulary size here, keeping only the words that occur most frequently in the corpus."
   ]
  },
  {
   "cell_type": "code",
   "execution_count": 14,
   "metadata": {},
   "outputs": [],
   "source": [
    "vocab_size = 10_000\n",
    "vocab = all_words.sort_values(ascending=False).head(vocab_size)\n",
    "docs_cropped = [doc[doc['word'].isin(vocab.index)] for doc in docs]"
   ]
  },
  {
   "cell_type": "markdown",
   "metadata": {},
   "source": [
    "Next, we tokenize the words."
   ]
  },
  {
   "cell_type": "code",
   "execution_count": 15,
   "metadata": {},
   "outputs": [
    {
     "name": "stderr",
     "output_type": "stream",
     "text": [
      "/home/ben/anaconda3/envs/tf/lib/python3.7/site-packages/ipykernel_launcher.py:5: SettingWithCopyWarning: \n",
      "A value is trying to be set on a copy of a slice from a DataFrame.\n",
      "Try using .loc[row_indexer,col_indexer] = value instead\n",
      "\n",
      "See the caveats in the documentation: https://pandas.pydata.org/pandas-docs/stable/user_guide/indexing.html#returning-a-view-versus-a-copy\n",
      "  \"\"\"\n"
     ]
    },
    {
     "name": "stdout",
     "output_type": "stream",
     "text": [
      "CPU times: user 40.6 s, sys: 565 ms, total: 41.1 s\n",
      "Wall time: 41.1 s\n"
     ]
    }
   ],
   "source": [
    "%%time\n",
    "token2word = dict(enumerate(vocab.index))\n",
    "word2token = { v: k for k, v in token2word.items() }\n",
    "\n",
    "for doc in docs_cropped:\n",
    "    doc['token'] = doc['word'].map(word2token)"
   ]
  },
  {
   "cell_type": "markdown",
   "metadata": {},
   "source": [
    "Finally, we construct a document-word count matrix."
   ]
  },
  {
   "cell_type": "code",
   "execution_count": 16,
   "metadata": {},
   "outputs": [],
   "source": [
    "X = np.empty((len(docs_cropped), vocab_size))\n",
    "\n",
    "for i, doc in enumerate(docs_cropped):\n",
    "    X[i] = doc.set_index('token').reindex(range(len(vocab)))['freq'].fillna(0)"
   ]
  },
  {
   "cell_type": "markdown",
   "metadata": {},
   "source": [
    "When working with yearly aggregate data, we normalized each row so that word counts were scaled by the total number of words counted in a year. We should do the same here, normalizing word counts by the number of words in a document. However, we go further this time and also weigh each word by its inverse document frequency to give more weight to words that are less common. Based on our observations regarding Zipf's law and logarithmic scaling when were analysing the yearly aggregate data, we logarithmically scale text frequencies here by setting `sublinear_tf=True`."
   ]
  },
  {
   "cell_type": "code",
   "execution_count": 158,
   "metadata": {},
   "outputs": [],
   "source": [
    "from sklearn.feature_extraction.text import TfidfTransformer\n",
    "\n",
    "transformer = TfidfTransformer(sublinear_tf=True)\n",
    "X_tfidf = transformer.fit_transform(X)"
   ]
  },
  {
   "cell_type": "markdown",
   "metadata": {},
   "source": [
    "Let's scale the data and try to fit a linear regression model."
   ]
  },
  {
   "cell_type": "code",
   "execution_count": 159,
   "metadata": {},
   "outputs": [
    {
     "data": {
      "text/plain": [
       "0.8762565534656823"
      ]
     },
     "execution_count": 159,
     "metadata": {},
     "output_type": "execute_result"
    }
   ],
   "source": [
    "scaler = StandardScaler()\n",
    "X_scaled = scaler.fit_transform(X_tfidf.todense())\n",
    "X_train, X_test, y_train, y_test = train_test_split(X_scaled, years, test_size=0.2)\n",
    "\n",
    "reg = LinearRegression()\n",
    "reg.fit(X_train, y_train)\n",
    "reg.score(X_test, y_test)"
   ]
  },
  {
   "cell_type": "markdown",
   "metadata": {},
   "source": [
    "## Can we do better?\n",
    "\n",
    "We're still working with multicollinear data, for which ordinary least squares is typically unsuitable. There are various ways to overcome this problem.\n",
    "\n",
    "**Regularization**\n",
    "\n",
    "As with yearly aggregate data, we make use of lasso regularization."
   ]
  },
  {
   "cell_type": "code",
   "execution_count": 160,
   "metadata": {},
   "outputs": [
    {
     "name": "stdout",
     "output_type": "stream",
     "text": [
      "CPU times: user 1min 23s, sys: 2.13 s, total: 1min 26s\n",
      "Wall time: 1min 26s\n"
     ]
    },
    {
     "data": {
      "text/plain": [
       "0.8910677704853834"
      ]
     },
     "execution_count": 160,
     "metadata": {},
     "output_type": "execute_result"
    }
   ],
   "source": [
    "%%time\n",
    "lasso = LassoCV(n_alphas=10, cv=3, n_jobs=-1)\n",
    "lasso.fit(X_train, y_train)\n",
    "lasso.score(X_test, y_test)"
   ]
  },
  {
   "cell_type": "code",
   "execution_count": 162,
   "metadata": {},
   "outputs": [
    {
     "data": {
      "image/png": "[encoded data removed]",
      "text/plain": [
       "<Figure size 432x288 with 1 Axes>"
      ]
     },
     "metadata": {
      "needs_background": "light"
     },
     "output_type": "display_data"
    }
   ],
   "source": [
    "_ = sns.scatterplot(y_test, lasso.predict(X_test))"
   ]
  },
  {
   "cell_type": "markdown",
   "metadata": {},
   "source": [
    "We only see a small improvement.\n",
    "\n",
    "**Ensemble methods**\n",
    "\n",
    "Let's try a different approach using random forests."
   ]
  },
  {
   "cell_type": "code",
   "execution_count": 13,
   "metadata": {},
   "outputs": [
    {
     "name": "stdout",
     "output_type": "stream",
     "text": [
      "CPU times: user 13min 24s, sys: 899 ms, total: 13min 24s\n",
      "Wall time: 13min 26s\n"
     ]
    },
    {
     "data": {
      "text/plain": [
       "0.9266993969481144"
      ]
     },
     "execution_count": 13,
     "metadata": {},
     "output_type": "execute_result"
    }
   ],
   "source": [
    "%%time\n",
    "forest = RandomForestRegressor()\n",
    "forest.fit(X_train, y_train)\n",
    "forest.score(X_test, y_test)"
   ]
  },
  {
   "cell_type": "markdown",
   "metadata": {},
   "source": [
    "It's interesting to note how close the score of the random forest regressor is to that of the lasso regressor. Perhaps both models are essentially optimal for the data at hand.\n",
    "\n",
    "### Neural networks\n",
    "\n",
    "Perhaps a linear model is simply unsuitable for the task at hand. But what kinds of non-linearities should we expect? The power of neural networks is their ability to automatically adapt to non-linearities. While neural networks are often associated with classification tasks, for which they've proven to be extraordinarily effective, they're equally suitable for regression. It's worth trying out a simple feedforward neural network architecture to determine just how far we can get with the available data.\n",
    "\n",
    "To better compare with the performance of the more traditional regression models used above, we'll make use of the following Keras-adapted implementation of the $R^2$ coefficient of determination from [Recurrent Training](https://jmlb.github.io/ml/2017/03/20/CoeffDetermination_CustomMetric4Keras)."
   ]
  },
  {
   "cell_type": "code",
   "execution_count": 5,
   "metadata": {},
   "outputs": [],
   "source": [
    "def R2(y_true, y_pred):\n",
    "    sum_squares = K.sum(K.square(y_true - K.mean(y_true)))\n",
    "    sum_squares_resids =  K.sum(K.square(y_true-y_pred))\n",
    "    \n",
    "    return 1 - sum_squares_resids / (sum_squares + K.epsilon())"
   ]
  },
  {
   "cell_type": "markdown",
   "metadata": {},
   "source": [
    "Perhaps the simplest non-trivial architecture we can use has a single hidden layer preceding. We'll also make use of dropout regularization. This leaves us with essentially two hyperparameters: the number of hidden units and the activation function. For simplicity, we'll stick with ReLU activations and use a pre-determined range of hidden layer sizes. We'll also use early stopping to avoid overfitting."
   ]
  },
  {
   "cell_type": "code",
   "execution_count": 92,
   "metadata": {},
   "outputs": [],
   "source": [
    "def build_model(hidden_units):\n",
    "    model = Sequential()\n",
    "    model.add(Dense(hidden_units, activation='relu', input_dim=10_000))\n",
    "    model.add(Dropout(0.5))\n",
    "    model.add(Dense(1))\n",
    "    model.compile(optimizer='adam', loss='mse', metrics=[R2])\n",
    "    return model"
   ]
  },
  {
   "cell_type": "markdown",
   "metadata": {},
   "source": [
    "Neural networks are very sensitive to scaling, so we additionally scale the target variable now."
   ]
  },
  {
   "cell_type": "code",
   "execution_count": null,
   "metadata": {},
   "outputs": [],
   "source": [
    "y_scaled = StandardScaler().fit_transform(np.array(years).reshape(-1, 1))\n",
    "X_train, X_test, y_train, y_test = train_test_split(X_scaled, y_scaled, test_size=0.2)"
   ]
  },
  {
   "cell_type": "markdown",
   "metadata": {},
   "source": [
    "Let's see what kind of performance we can get."
   ]
  },
  {
   "cell_type": "code",
   "execution_count": 97,
   "metadata": {},
   "outputs": [
    {
     "name": "stdout",
     "output_type": "stream",
     "text": [
      "422/422 [==============================] - 2s 4ms/step\n",
      "R^2 (100 hidden units): 0.8867731633909506\n",
      "422/422 [==============================] - 1s 3ms/step\n",
      "R^2 (500 hidden units): 0.8965709192492951\n",
      "422/422 [==============================] - 1s 3ms/step\n",
      "R^2 (1000 hidden units): 0.8900056246897621\n",
      "422/422 [==============================] - 2s 6ms/step\n",
      "R^2 (2000 hidden units): 0.8808171121995031\n",
      "CPU times: user 17min 16s, sys: 16.7 s, total: 17min 33s\n",
      "Wall time: 11min 4s\n"
     ]
    }
   ],
   "source": [
    "%%time\n",
    "models = []\n",
    "for hidden_units in [100, 500, 1000, 2000]:\n",
    "    model = build_model(hidden_units)\n",
    "    model.fit(X_train, y_train, epochs=20, verbose=0)\n",
    "    score = model.evaluate(X_test, y_test)\n",
    "    print(f'R^2 ({hidden_units} hidden units):', score[1])\n",
    "    models.append(model)"
   ]
  },
  {
   "cell_type": "markdown",
   "metadata": {},
   "source": [
    "## Why can't we do better?\n",
    "\n",
    "Although we've tested a variety of rather different models, they all seem to reach an $R^2$ value of around 0.9. This in itself is quite informative and suggests that this simply may be the best we can do with what we have. In other words, it may be the case that the models we've built come close to the [Bayes estimator](https://en.wikipedia.org/wiki/Bayes_estimator) for the mean squared error. The reasons for this as well as possible ways to overcome this limitation seem to fall into three categories.\n",
    "\n",
    "**Amount of data**\n",
    "\n",
    "We may simply need to increase the amount of data we're working with. So far, we've already limited the data we're using from the HTRC data set in two ways: by limiting the number of volumes per century and by limiting the number of words tokenized. Note that the first limitation reduces the number of training examples and the second the number of features. It would most likely be easier and more fruitful to begin by increasing the number of training examples.\n",
    "\n",
    "The main difficulty with increasing the amount of utilized data, of course, is computational power. Working with larger data sets shifts the nature of the problem at hand from data analysis and model building to problems in optimization and cloud computing.\n",
    "\n",
    "**Nature of data**\n",
    "\n",
    "The fact that linear models appear to be essentially optimal for this data suggests that the only relationships between the target and the features are in fact linear. For the most part, this is quite believable: most words will either be used a constant amount over a period of time or their use will steadily increase or decrease. Even if these trends are not entirely linear, it's hard to image that they would be wildly non-linear; therefore, linear models should be able to provide a good approximation to the truth. \n",
    "\n",
    "**Type of data**\n",
    "\n",
    "Our ultimate goal is to predict the date of a publication from the *raw textual content*. So far, we have only used preprocessed bag-of-words data. Leaving aside the effects that different preprocessing schemes may have, the fact that we only know word counts means we're losing all the syntactic and semantic information in the original data source.\n",
    "\n",
    "Working with raw text could potentially allow for much more predictive power. However, it would open the doors to a wide variety of increasingly complex modeling strategies for natural language processing; some that come to mind are word embeddings, convolutional neural networks, and recurrent neural networks. An investigation into these strategies would likely be significantly more complex than what we have done so far. It's certainly worth asking whether or not this would be worth it, given the performance we've obtained with rather simple models."
   ]
  },
  {
   "cell_type": "markdown",
   "metadata": {},
   "source": [
    "## From preprocessing to prediction\n",
    "\n",
    "Although we've built several models with reasonable predictive power, the fact that we used preprocessed training data means we can't apply these directly to the data of interest, which would be raw text. We need to add a preliminary preprocessing and tokenization step to our data pipeline.\n",
    "\n",
    "### Reverse engineering the tokenizer\n",
    "\n",
    "The [documentation](https://wiki.htrc.illinois.edu/display/COM/Word+Frequencies+in+English-Language+Literature) for the data set mentions that the [OpenNLP](http://opennlp.apache.org/) tokenizer was used. However, OpenNLP contains several tokenization methods and an attempt to use the `SimpleTokenizer` revealed that the resulting tokens were quite different than those appearing in the data set.\n",
    "\n",
    "Much better (though not perfect) results were obtained using the default tokenizer from the natural language processing package [SpaCy](https://spacy.io/)."
   ]
  },
  {
   "cell_type": "code",
   "execution_count": 101,
   "metadata": {},
   "outputs": [],
   "source": [
    "nlp = spacy.lang.en.English()\n",
    "tokenizer = nlp.Defaults.create_tokenizer(nlp)"
   ]
  },
  {
   "cell_type": "markdown",
   "metadata": {},
   "source": [
    "We can check the difference between the tokens produced by this tokenizer and the ones used in the HTRC dataset by *detokenizing* a bag-of-words vector from the data set and *retokenizing* it with the SpaCy tokenizer. The following function defines the detokenizer."
   ]
  },
  {
   "cell_type": "code",
   "execution_count": 104,
   "metadata": {},
   "outputs": [],
   "source": [
    "def vector2text(x):\n",
    "    return ' '.join([(token2word[t] + ' ') * int(n) for t, n in enumerate(x)])"
   ]
  },
  {
   "cell_type": "markdown",
   "metadata": {},
   "source": [
    "Detokenized text will be retokenized and counted using a vectorizer built from the restricted HTRC vocabulary and the SpaCy tokenizer; the latter must be converted to an ordinary function for compatibility with scikit-learn."
   ]
  },
  {
   "cell_type": "code",
   "execution_count": 117,
   "metadata": {},
   "outputs": [],
   "source": [
    "# convert the SpaCy tokenizer to an ordinary function\n",
    "def tok(string):\n",
    "    return [str(t) for t in tokenizer(string)]\n",
    "\n",
    "# build a vectorizer from the HTRC vocabulary using the SpaCy tokenizer\n",
    "cv = CountVectorizer(vocabulary=word2token, tokenizer=tok)"
   ]
  },
  {
   "cell_type": "markdown",
   "metadata": {},
   "source": [
    "We'll measure the closeness of the two tokenizers by the absolute different between the original bag-of-words vector and the detokenized-retokenized vector, normalized by the average number of tokens counted by the two tokenizers."
   ]
  },
  {
   "cell_type": "code",
   "execution_count": 154,
   "metadata": {},
   "outputs": [],
   "source": [
    "def ratio_different_tokens(index):\n",
    "    x = cv.transform([vector2text(X[index, :])]).reshape(-1, 1)\n",
    "    avg_num_tokens = (x.sum() + X[index, :].sum()) / 2\n",
    "    different_tokens = np.abs(x - X[index, :].reshape(-1, 1)).sum()\n",
    "    return different_tokens / avg_num_tokens"
   ]
  },
  {
   "cell_type": "markdown",
   "metadata": {},
   "source": [
    "We see below that that the difference between our tokenizer and the one used to create the HTRC data set is less than 2%."
   ]
  },
  {
   "cell_type": "code",
   "execution_count": 155,
   "metadata": {},
   "outputs": [
    {
     "data": {
      "text/plain": [
       "0.016181602076455307"
      ]
     },
     "execution_count": 155,
     "metadata": {},
     "output_type": "execute_result"
    }
   ],
   "source": [
    "np.nanmean([ratio_different_tokens(i) for i in range(X.shape[0])])"
   ]
  },
  {
   "cell_type": "markdown",
   "metadata": {},
   "source": [
    "### A simple data pipeline"
   ]
  },
  {
   "cell_type": "markdown",
   "metadata": {},
   "source": [
    "Let's build a simple pipeline using the various data transformations we've used above, together with the trained lasso regressor for prediction. We'll also need a couple of utility transformers."
   ]
  },
  {
   "cell_type": "code",
   "execution_count": 183,
   "metadata": {},
   "outputs": [],
   "source": [
    "prepare = FunctionTransformer(lambda x: [x])\n",
    "todense = FunctionTransformer(lambda x: x.todense())\n",
    "\n",
    "pipe = Pipeline([('prepare', prepare),\n",
    "                 ('count', cv),\n",
    "                 ('tfidf', transformer),\n",
    "                 ('densify', todense),\n",
    "                 ('scale', scaler),\n",
    "                 ('predict', lasso)])"
   ]
  },
  {
   "cell_type": "markdown",
   "metadata": {},
   "source": [
    "We'll test this out on the first chapter of Moby Dick; the original publication date is 1851."
   ]
  },
  {
   "cell_type": "code",
   "execution_count": 184,
   "metadata": {},
   "outputs": [
    {
     "data": {
      "text/plain": [
       "1847"
      ]
     },
     "execution_count": 184,
     "metadata": {},
     "output_type": "execute_result"
    }
   ],
   "source": [
    "with open('doc2date/static/moby-dick.txt', 'r') as f:\n",
    "    text = f.read()\n",
    "\n",
    "int(pipe.predict(text)[0])"
   ]
  },
  {
   "cell_type": "markdown",
   "metadata": {},
   "source": [
    "In order to deploy our model, we'd like to export this pipeline, say via pickling. However, certain components (the function transformers and the count vectorizer, which is built from a function), aren't picklable. This isn't an issue: We can pickle the essential components and re-construct this pipeline in the app we will deploy."
   ]
  },
  {
   "cell_type": "code",
   "execution_count": 186,
   "metadata": {},
   "outputs": [],
   "source": [
    "for name, comp in [('tokenizer', tokenizer),\n",
    "                   ('word2token', word2token),\n",
    "                   ('transformer', transformer),\n",
    "                   ('scaler', scaler),\n",
    "                   ('predictor', lasso)]:\n",
    "    with open('doc2date/pickle/' + name + '.pickle', 'wb') as f:\n",
    "        pickle.dump(comp, f, protocol=pickle.HIGHEST_PROTOCOL)"
   ]
  },
  {
   "cell_type": "markdown",
   "metadata": {},
   "source": [
    "## Continue reading\n",
    "\n",
    "[Part 3](doc2date-03.ipynb)"
   ]
  }
 ],
 "metadata": {
  "kernelspec": {
   "display_name": "Python 3",
   "language": "python",
   "name": "python3"
  },
  "language_info": {
   "codemirror_mode": {
    "name": "ipython",
    "version": 3
   },
   "file_extension": ".py",
   "mimetype": "text/x-python",
   "name": "python",
   "nbconvert_exporter": "python",
   "pygments_lexer": "ipython3",
   "version": "3.7.3"
  }
 },
 "nbformat": 4,
 "nbformat_minor": 4
}
